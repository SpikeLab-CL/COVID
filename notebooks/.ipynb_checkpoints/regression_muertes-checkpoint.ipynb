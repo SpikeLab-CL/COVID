{
 "cells": [
  {
   "cell_type": "code",
   "execution_count": 1,
   "metadata": {
    "ExecuteTime": {
     "end_time": "2020-06-09T01:01:35.497921Z",
     "start_time": "2020-06-09T01:01:30.822748Z"
    }
   },
   "outputs": [],
   "source": [
    "%load_ext autoreload\n",
    "%autoreload 2\n",
    "%matplotlib inline\n",
    "\n",
    "from fastai2.tabular.all import *\n",
    "import sys\n",
    "sys.path.append(\"../../SpikePy\")\n",
    "import SpikePy as sp\n",
    "from pandas_profiling import ProfileReport\n",
    "from decimal import Decimal\n",
    "from bayes_opt import BayesianOptimization\n",
    "from torch.nn.functional import softmax, log_softmax\n",
    "import torch\n",
    "import seaborn as sn\n",
    "from sklearn.metrics import roc_auc_score\n",
    "from tqdm import tqdm_notebook as tqdm\n",
    "\n",
    "import pyro\n",
    "import pyro.distributions as dist\n",
    "from pyro import poutine\n",
    "\n",
    "from pyro.contrib.autoguide import AutoDiagonalNormal\n",
    "from pyro.infer import SVI, Trace_ELBO, TracePredictive\n",
    "from pyro.optim import Adam\n",
    "from pyro.infer import EmpiricalMarginal\n",
    "\n",
    "from pyro.infer import Predictive\n",
    "\n",
    "PID = \"covid-spike\""
   ]
  },
  {
   "cell_type": "markdown",
   "metadata": {},
   "source": [
    "# Load Data"
   ]
  },
  {
   "cell_type": "markdown",
   "metadata": {},
   "source": [
    "## Censo"
   ]
  },
  {
   "cell_type": "code",
   "execution_count": 2,
   "metadata": {
    "ExecuteTime": {
     "end_time": "2020-06-09T01:01:37.699495Z",
     "start_time": "2020-06-09T01:01:35.500341Z"
    }
   },
   "outputs": [
    {
     "name": "stderr",
     "output_type": "stream",
     "text": [
      "Downloading: 100%|██████████| 346/346 [00:01<00:00, 286.30rows/s]\n"
     ]
    },
    {
     "data": {
      "text/html": [
       "<div>\n",
       "<style scoped>\n",
       "    .dataframe tbody tr th:only-of-type {\n",
       "        vertical-align: middle;\n",
       "    }\n",
       "\n",
       "    .dataframe tbody tr th {\n",
       "        vertical-align: top;\n",
       "    }\n",
       "\n",
       "    .dataframe thead th {\n",
       "        text-align: right;\n",
       "    }\n",
       "</style>\n",
       "<table border=\"1\" class=\"dataframe\">\n",
       "  <thead>\n",
       "    <tr style=\"text-align: right;\">\n",
       "      <th></th>\n",
       "      <th>fid</th>\n",
       "      <th>provincia</th>\n",
       "      <th>comuna</th>\n",
       "      <th>nom_provin</th>\n",
       "      <th>nom_comuna</th>\n",
       "      <th>total_vivi</th>\n",
       "      <th>particular</th>\n",
       "      <th>colectivas</th>\n",
       "      <th>total_pers</th>\n",
       "      <th>hombres</th>\n",
       "      <th>mujeres</th>\n",
       "      <th>densidad</th>\n",
       "      <th>indice_mas</th>\n",
       "      <th>indice_dep</th>\n",
       "      <th>ind_dep_ju</th>\n",
       "      <th>ind_dep_ve</th>\n",
       "      <th>shape_area</th>\n",
       "      <th>shape_length</th>\n",
       "      <th>region</th>\n",
       "    </tr>\n",
       "  </thead>\n",
       "  <tbody>\n",
       "    <tr>\n",
       "      <th>0</th>\n",
       "      <td>1</td>\n",
       "      <td>151</td>\n",
       "      <td>15101</td>\n",
       "      <td>ARICA</td>\n",
       "      <td>ARICA</td>\n",
       "      <td>72639</td>\n",
       "      <td>72414</td>\n",
       "      <td>225</td>\n",
       "      <td>221364</td>\n",
       "      <td>109389</td>\n",
       "      <td>111975</td>\n",
       "      <td>46.2</td>\n",
       "      <td>97.7</td>\n",
       "      <td>48.9</td>\n",
       "      <td>32.7</td>\n",
       "      <td>16.2</td>\n",
       "      <td>5.362876e+09</td>\n",
       "      <td>385226.622318</td>\n",
       "      <td>Arica y Parinacota</td>\n",
       "    </tr>\n",
       "    <tr>\n",
       "      <th>1</th>\n",
       "      <td>2</td>\n",
       "      <td>151</td>\n",
       "      <td>15102</td>\n",
       "      <td>ARICA</td>\n",
       "      <td>CAMARONES</td>\n",
       "      <td>948</td>\n",
       "      <td>927</td>\n",
       "      <td>21</td>\n",
       "      <td>1255</td>\n",
       "      <td>726</td>\n",
       "      <td>529</td>\n",
       "      <td>0.3</td>\n",
       "      <td>137.2</td>\n",
       "      <td>46.8</td>\n",
       "      <td>22.7</td>\n",
       "      <td>24.1</td>\n",
       "      <td>4.424112e+09</td>\n",
       "      <td>415486.324744</td>\n",
       "      <td>Arica y Parinacota</td>\n",
       "    </tr>\n",
       "    <tr>\n",
       "      <th>2</th>\n",
       "      <td>3</td>\n",
       "      <td>152</td>\n",
       "      <td>15201</td>\n",
       "      <td>PARINACOTA</td>\n",
       "      <td>PUTRE</td>\n",
       "      <td>1917</td>\n",
       "      <td>1875</td>\n",
       "      <td>42</td>\n",
       "      <td>2765</td>\n",
       "      <td>2054</td>\n",
       "      <td>711</td>\n",
       "      <td>0.5</td>\n",
       "      <td>288.9</td>\n",
       "      <td>21.3</td>\n",
       "      <td>11.0</td>\n",
       "      <td>10.3</td>\n",
       "      <td>6.578891e+09</td>\n",
       "      <td>436546.355520</td>\n",
       "      <td>Arica y Parinacota</td>\n",
       "    </tr>\n",
       "    <tr>\n",
       "      <th>3</th>\n",
       "      <td>4</td>\n",
       "      <td>152</td>\n",
       "      <td>15202</td>\n",
       "      <td>PARINACOTA</td>\n",
       "      <td>GENERAL LAGOS</td>\n",
       "      <td>697</td>\n",
       "      <td>686</td>\n",
       "      <td>11</td>\n",
       "      <td>684</td>\n",
       "      <td>412</td>\n",
       "      <td>272</td>\n",
       "      <td>0.3</td>\n",
       "      <td>151.5</td>\n",
       "      <td>41.9</td>\n",
       "      <td>21.4</td>\n",
       "      <td>20.5</td>\n",
       "      <td>2.504780e+09</td>\n",
       "      <td>258714.908277</td>\n",
       "      <td>Arica y Parinacota</td>\n",
       "    </tr>\n",
       "    <tr>\n",
       "      <th>4</th>\n",
       "      <td>5</td>\n",
       "      <td>11</td>\n",
       "      <td>1101</td>\n",
       "      <td>IQUIQUE</td>\n",
       "      <td>IQUIQUE</td>\n",
       "      <td>66986</td>\n",
       "      <td>66725</td>\n",
       "      <td>261</td>\n",
       "      <td>191468</td>\n",
       "      <td>94897</td>\n",
       "      <td>96571</td>\n",
       "      <td>83.7</td>\n",
       "      <td>98.3</td>\n",
       "      <td>43.8</td>\n",
       "      <td>30.5</td>\n",
       "      <td>13.3</td>\n",
       "      <td>2.636780e+09</td>\n",
       "      <td>439871.456402</td>\n",
       "      <td>Tarapacá</td>\n",
       "    </tr>\n",
       "  </tbody>\n",
       "</table>\n",
       "</div>"
      ],
      "text/plain": [
       "   fid  provincia  comuna  nom_provin     nom_comuna  total_vivi  particular  \\\n",
       "0    1        151   15101       ARICA          ARICA       72639       72414   \n",
       "1    2        151   15102       ARICA      CAMARONES         948         927   \n",
       "2    3        152   15201  PARINACOTA          PUTRE        1917        1875   \n",
       "3    4        152   15202  PARINACOTA  GENERAL LAGOS         697         686   \n",
       "4    5         11    1101     IQUIQUE        IQUIQUE       66986       66725   \n",
       "\n",
       "   colectivas  total_pers  hombres  mujeres  densidad  indice_mas  indice_dep  \\\n",
       "0         225      221364   109389   111975      46.2        97.7        48.9   \n",
       "1          21        1255      726      529       0.3       137.2        46.8   \n",
       "2          42        2765     2054      711       0.5       288.9        21.3   \n",
       "3          11         684      412      272       0.3       151.5        41.9   \n",
       "4         261      191468    94897    96571      83.7        98.3        43.8   \n",
       "\n",
       "   ind_dep_ju  ind_dep_ve    shape_area   shape_length              region  \n",
       "0        32.7        16.2  5.362876e+09  385226.622318  Arica y Parinacota  \n",
       "1        22.7        24.1  4.424112e+09  415486.324744  Arica y Parinacota  \n",
       "2        11.0        10.3  6.578891e+09  436546.355520  Arica y Parinacota  \n",
       "3        21.4        20.5  2.504780e+09  258714.908277  Arica y Parinacota  \n",
       "4        30.5        13.3  2.636780e+09  439871.456402            Tarapacá  "
      ]
     },
     "execution_count": 2,
     "metadata": {},
     "output_type": "execute_result"
    }
   ],
   "source": [
    "sql = \"\"\"\n",
    "SELECT * EXCEPT(nom_region, region),\n",
    "       nom_region AS region\n",
    "FROM censo_2017.poblacion_region_comuna\n",
    "\"\"\"\n",
    "censo = pd.read_gbq(sql, project_id=PID,use_bqstorage_api=True)\n",
    "censo.rename(columns=lambda x: x.lower(), inplace=True)\n",
    "censo.rename(columns= lambda x: x.replace('__', '_'), inplace=True)\n",
    "replace_region = {'REGIÓN DE ARICA Y PARINACOTA': 'Arica y Parinacota',\n",
    "                  'REGIÓN DE TARAPACÁ': 'Tarapacá',\n",
    "                  'REGIÓN DE ANTOFAGASTA': 'Antofagasta',\n",
    "                  'REGIÓN DE ATACAMA': 'Atacama',\n",
    "                  'REGIÓN DE COQUIMBO': 'Coquimbo',\n",
    "                  'REGIÓN DE VALPARAÍSO': 'Valparaíso',\n",
    "                  'REGIÓN METROPOLITANA DE SANTIAGO': 'Metropolitana',\n",
    "                  \"REGIÓN DEL LIBERTADOR GENERAL BERNARDO O'HIGGINS\": 'O’Higgins',\n",
    "                  'REGIÓN DEL MAULE': 'Maule',\n",
    "                  'REGIÓN DEL ÑUBLE': 'Ñuble',\n",
    "                  'REGIÓN DEL BIOBÍO':'Biobío',\n",
    "                  'REGIÓN DE LA ARAUCANÍA': 'Araucanía',\n",
    "                  'REGIÓN DE LOS RÍOS': 'Los Ríos',\n",
    "                  'REGIÓN DE LOS LAGOS': 'Los Lagos',\n",
    "                  'REGIÓN DE AYSÉN DEL GENERAL CARLOS IBÁÑEZ DEL CAMPO': 'Aysén',\n",
    "                  'REGIÓN DE MAGALLANES Y DE LA ANTÁRTICA CHILENA': 'Magallanes'}\n",
    "censo['region'] = censo['region'].replace(replace_region)\n",
    "censo.head()"
   ]
  },
  {
   "cell_type": "code",
   "execution_count": 3,
   "metadata": {
    "ExecuteTime": {
     "end_time": "2020-06-09T01:01:37.761031Z",
     "start_time": "2020-06-09T01:01:37.701332Z"
    }
   },
   "outputs": [
    {
     "data": {
      "text/html": [
       "<div>\n",
       "<style scoped>\n",
       "    .dataframe tbody tr th:only-of-type {\n",
       "        vertical-align: middle;\n",
       "    }\n",
       "\n",
       "    .dataframe tbody tr th {\n",
       "        vertical-align: top;\n",
       "    }\n",
       "\n",
       "    .dataframe thead th {\n",
       "        text-align: right;\n",
       "    }\n",
       "</style>\n",
       "<table border=\"1\" class=\"dataframe\">\n",
       "  <thead>\n",
       "    <tr style=\"text-align: right;\">\n",
       "      <th></th>\n",
       "      <th>region</th>\n",
       "      <th>total_vivi</th>\n",
       "      <th>particular</th>\n",
       "      <th>colectivas</th>\n",
       "      <th>hombres</th>\n",
       "      <th>mujeres</th>\n",
       "      <th>indice_mas</th>\n",
       "      <th>indice_dep</th>\n",
       "      <th>ind_dep_ju</th>\n",
       "      <th>ind_dep_ve</th>\n",
       "    </tr>\n",
       "  </thead>\n",
       "  <tbody>\n",
       "    <tr>\n",
       "      <th>0</th>\n",
       "      <td>Antofagasta</td>\n",
       "      <td>196349</td>\n",
       "      <td>195173</td>\n",
       "      <td>1176</td>\n",
       "      <td>0.518513</td>\n",
       "      <td>0.481487</td>\n",
       "      <td>181.522222</td>\n",
       "      <td>33.922222</td>\n",
       "      <td>24.733333</td>\n",
       "      <td>9.188889</td>\n",
       "    </tr>\n",
       "    <tr>\n",
       "      <th>1</th>\n",
       "      <td>Araucanía</td>\n",
       "      <td>381151</td>\n",
       "      <td>380373</td>\n",
       "      <td>778</td>\n",
       "      <td>0.485917</td>\n",
       "      <td>0.514083</td>\n",
       "      <td>97.306250</td>\n",
       "      <td>54.559375</td>\n",
       "      <td>32.818750</td>\n",
       "      <td>21.734375</td>\n",
       "    </tr>\n",
       "    <tr>\n",
       "      <th>2</th>\n",
       "      <td>Arica y Parinacota</td>\n",
       "      <td>76201</td>\n",
       "      <td>75902</td>\n",
       "      <td>299</td>\n",
       "      <td>0.497996</td>\n",
       "      <td>0.502004</td>\n",
       "      <td>168.825000</td>\n",
       "      <td>39.725000</td>\n",
       "      <td>21.950000</td>\n",
       "      <td>17.775000</td>\n",
       "    </tr>\n",
       "    <tr>\n",
       "      <th>3</th>\n",
       "      <td>Atacama</td>\n",
       "      <td>121094</td>\n",
       "      <td>120645</td>\n",
       "      <td>449</td>\n",
       "      <td>0.504669</td>\n",
       "      <td>0.495331</td>\n",
       "      <td>108.933333</td>\n",
       "      <td>50.433333</td>\n",
       "      <td>33.944444</td>\n",
       "      <td>16.477778</td>\n",
       "    </tr>\n",
       "    <tr>\n",
       "      <th>4</th>\n",
       "      <td>Aysén</td>\n",
       "      <td>44721</td>\n",
       "      <td>44153</td>\n",
       "      <td>568</td>\n",
       "      <td>0.520047</td>\n",
       "      <td>0.479953</td>\n",
       "      <td>129.290000</td>\n",
       "      <td>43.040000</td>\n",
       "      <td>29.370000</td>\n",
       "      <td>13.680000</td>\n",
       "    </tr>\n",
       "    <tr>\n",
       "      <th>5</th>\n",
       "      <td>Biobío</td>\n",
       "      <td>573572</td>\n",
       "      <td>572683</td>\n",
       "      <td>889</td>\n",
       "      <td>0.482225</td>\n",
       "      <td>0.517775</td>\n",
       "      <td>95.375758</td>\n",
       "      <td>51.330303</td>\n",
       "      <td>31.700000</td>\n",
       "      <td>19.630303</td>\n",
       "    </tr>\n",
       "    <tr>\n",
       "      <th>6</th>\n",
       "      <td>Coquimbo</td>\n",
       "      <td>308608</td>\n",
       "      <td>307844</td>\n",
       "      <td>764</td>\n",
       "      <td>0.486775</td>\n",
       "      <td>0.513225</td>\n",
       "      <td>100.166667</td>\n",
       "      <td>54.280000</td>\n",
       "      <td>32.180000</td>\n",
       "      <td>22.086667</td>\n",
       "    </tr>\n",
       "    <tr>\n",
       "      <th>7</th>\n",
       "      <td>Los Lagos</td>\n",
       "      <td>332920</td>\n",
       "      <td>331886</td>\n",
       "      <td>1034</td>\n",
       "      <td>0.494022</td>\n",
       "      <td>0.505978</td>\n",
       "      <td>103.573333</td>\n",
       "      <td>49.433333</td>\n",
       "      <td>29.503333</td>\n",
       "      <td>19.926667</td>\n",
       "    </tr>\n",
       "    <tr>\n",
       "      <th>8</th>\n",
       "      <td>Los Ríos</td>\n",
       "      <td>153976</td>\n",
       "      <td>153509</td>\n",
       "      <td>467</td>\n",
       "      <td>0.490719</td>\n",
       "      <td>0.509281</td>\n",
       "      <td>98.258333</td>\n",
       "      <td>52.400000</td>\n",
       "      <td>31.833333</td>\n",
       "      <td>20.550000</td>\n",
       "    </tr>\n",
       "    <tr>\n",
       "      <th>9</th>\n",
       "      <td>Magallanes</td>\n",
       "      <td>65636</td>\n",
       "      <td>65023</td>\n",
       "      <td>613</td>\n",
       "      <td>0.511905</td>\n",
       "      <td>0.488095</td>\n",
       "      <td>346.736364</td>\n",
       "      <td>25.536364</td>\n",
       "      <td>16.309091</td>\n",
       "      <td>9.209091</td>\n",
       "    </tr>\n",
       "    <tr>\n",
       "      <th>10</th>\n",
       "      <td>Maule</td>\n",
       "      <td>411201</td>\n",
       "      <td>410434</td>\n",
       "      <td>767</td>\n",
       "      <td>0.489616</td>\n",
       "      <td>0.510384</td>\n",
       "      <td>99.823333</td>\n",
       "      <td>50.483333</td>\n",
       "      <td>30.040000</td>\n",
       "      <td>20.436667</td>\n",
       "    </tr>\n",
       "    <tr>\n",
       "      <th>11</th>\n",
       "      <td>Metropolitana</td>\n",
       "      <td>2378442</td>\n",
       "      <td>2376118</td>\n",
       "      <td>2324</td>\n",
       "      <td>0.486765</td>\n",
       "      <td>0.513235</td>\n",
       "      <td>97.032692</td>\n",
       "      <td>45.257692</td>\n",
       "      <td>28.803846</td>\n",
       "      <td>16.453846</td>\n",
       "    </tr>\n",
       "    <tr>\n",
       "      <th>12</th>\n",
       "      <td>O’Higgins</td>\n",
       "      <td>354313</td>\n",
       "      <td>353734</td>\n",
       "      <td>579</td>\n",
       "      <td>0.496099</td>\n",
       "      <td>0.503901</td>\n",
       "      <td>101.860606</td>\n",
       "      <td>49.278788</td>\n",
       "      <td>29.160606</td>\n",
       "      <td>20.118182</td>\n",
       "    </tr>\n",
       "    <tr>\n",
       "      <th>13</th>\n",
       "      <td>Tarapacá</td>\n",
       "      <td>117809</td>\n",
       "      <td>117450</td>\n",
       "      <td>359</td>\n",
       "      <td>0.507605</td>\n",
       "      <td>0.492395</td>\n",
       "      <td>134.171429</td>\n",
       "      <td>45.128571</td>\n",
       "      <td>30.357143</td>\n",
       "      <td>14.800000</td>\n",
       "    </tr>\n",
       "    <tr>\n",
       "      <th>14</th>\n",
       "      <td>Valparaíso</td>\n",
       "      <td>788806</td>\n",
       "      <td>787320</td>\n",
       "      <td>1486</td>\n",
       "      <td>0.484726</td>\n",
       "      <td>0.515274</td>\n",
       "      <td>97.778947</td>\n",
       "      <td>50.436842</td>\n",
       "      <td>30.210526</td>\n",
       "      <td>20.213158</td>\n",
       "    </tr>\n",
       "    <tr>\n",
       "      <th>15</th>\n",
       "      <td>Ñuble</td>\n",
       "      <td>194556</td>\n",
       "      <td>194286</td>\n",
       "      <td>270</td>\n",
       "      <td>0.483942</td>\n",
       "      <td>0.516058</td>\n",
       "      <td>97.609524</td>\n",
       "      <td>52.100000</td>\n",
       "      <td>28.519048</td>\n",
       "      <td>23.580952</td>\n",
       "    </tr>\n",
       "  </tbody>\n",
       "</table>\n",
       "</div>"
      ],
      "text/plain": [
       "                region  total_vivi  particular  colectivas   hombres  \\\n",
       "0          Antofagasta      196349      195173        1176  0.518513   \n",
       "1            Araucanía      381151      380373         778  0.485917   \n",
       "2   Arica y Parinacota       76201       75902         299  0.497996   \n",
       "3              Atacama      121094      120645         449  0.504669   \n",
       "4                Aysén       44721       44153         568  0.520047   \n",
       "5               Biobío      573572      572683         889  0.482225   \n",
       "6             Coquimbo      308608      307844         764  0.486775   \n",
       "7            Los Lagos      332920      331886        1034  0.494022   \n",
       "8             Los Ríos      153976      153509         467  0.490719   \n",
       "9           Magallanes       65636       65023         613  0.511905   \n",
       "10               Maule      411201      410434         767  0.489616   \n",
       "11       Metropolitana     2378442     2376118        2324  0.486765   \n",
       "12           O’Higgins      354313      353734         579  0.496099   \n",
       "13            Tarapacá      117809      117450         359  0.507605   \n",
       "14          Valparaíso      788806      787320        1486  0.484726   \n",
       "15               Ñuble      194556      194286         270  0.483942   \n",
       "\n",
       "     mujeres  indice_mas  indice_dep  ind_dep_ju  ind_dep_ve  \n",
       "0   0.481487  181.522222   33.922222   24.733333    9.188889  \n",
       "1   0.514083   97.306250   54.559375   32.818750   21.734375  \n",
       "2   0.502004  168.825000   39.725000   21.950000   17.775000  \n",
       "3   0.495331  108.933333   50.433333   33.944444   16.477778  \n",
       "4   0.479953  129.290000   43.040000   29.370000   13.680000  \n",
       "5   0.517775   95.375758   51.330303   31.700000   19.630303  \n",
       "6   0.513225  100.166667   54.280000   32.180000   22.086667  \n",
       "7   0.505978  103.573333   49.433333   29.503333   19.926667  \n",
       "8   0.509281   98.258333   52.400000   31.833333   20.550000  \n",
       "9   0.488095  346.736364   25.536364   16.309091    9.209091  \n",
       "10  0.510384   99.823333   50.483333   30.040000   20.436667  \n",
       "11  0.513235   97.032692   45.257692   28.803846   16.453846  \n",
       "12  0.503901  101.860606   49.278788   29.160606   20.118182  \n",
       "13  0.492395  134.171429   45.128571   30.357143   14.800000  \n",
       "14  0.515274   97.778947   50.436842   30.210526   20.213158  \n",
       "15  0.516058   97.609524   52.100000   28.519048   23.580952  "
      ]
     },
     "execution_count": 3,
     "metadata": {},
     "output_type": "execute_result"
    }
   ],
   "source": [
    "sum_cols = ['total_vivi',\n",
    "            'particular',\n",
    "            'colectivas',\n",
    "            'hombres',\n",
    "            'mujeres']\n",
    "\n",
    "mean_cols = ['indice_mas', 'indice_dep', 'ind_dep_ju', 'ind_dep_ve']\n",
    "\n",
    "censo_region = (pd.concat([censo.groupby('region')[sum_cols].sum(), censo.groupby('region')[mean_cols].mean()],\n",
    "                  axis=1).reset_index())\n",
    "\n",
    "sum_hombres_mujeres = censo_region[['hombres', 'mujeres']].sum(axis=1)\n",
    "censo_region['hombres'] = censo_region['hombres']/sum_hombres_mujeres\n",
    "censo_region['mujeres'] = censo_region['mujeres']/sum_hombres_mujeres\n",
    "censo_region"
   ]
  },
  {
   "cell_type": "markdown",
   "metadata": {},
   "source": [
    "## Movilidad"
   ]
  },
  {
   "cell_type": "markdown",
   "metadata": {},
   "source": [
    "### Google"
   ]
  },
  {
   "cell_type": "code",
   "execution_count": 4,
   "metadata": {
    "ExecuteTime": {
     "end_time": "2020-06-09T01:01:39.596525Z",
     "start_time": "2020-06-09T01:01:37.762606Z"
    }
   },
   "outputs": [
    {
     "name": "stderr",
     "output_type": "stream",
     "text": [
      "Downloading: 100%|██████████| 1680/1680 [00:01<00:00, 1428.09rows/s]\n"
     ]
    }
   ],
   "source": [
    "sql = \"\"\"\n",
    "SELECT \n",
    "  CASE\n",
    "    WHEN sub_region_1 = 'Bio Bio' THEN 'Biobío'\n",
    "    WHEN sub_region_1 = 'Santiago Metropolitan Region' THEN 'Metropolitana'\n",
    "    WHEN sub_region_1 = 'Magallanes and Chilean Antarctica' THEN 'Magallanes'\n",
    "    WHEN sub_region_1 = 'Araucania' THEN 'Araucanía'\n",
    "    WHEN sub_region_1 = \"O'Higgins\" THEN 'O’Higgins'\n",
    "    ELSE sub_region_1\n",
    "  END AS region,\n",
    "  date AS fecha,\n",
    "  * EXCEPT(date, country_region_code, country_region, sub_region_1, sub_region_2)\n",
    "FROM `covid-spike.reportes_minsal.Global_Mobility_Report`\n",
    "WHERE country_region = 'Chile'\n",
    "    AND sub_region_1 IS NOT NULL\n",
    "\"\"\"\n",
    "movilidad_google = pd.read_gbq(sql, project_id=PID,use_bqstorage_api=True)\n",
    "movilidad_google['fecha'] = pd.to_datetime(movilidad_google['fecha'])"
   ]
  },
  {
   "cell_type": "markdown",
   "metadata": {},
   "source": [
    "### minsal"
   ]
  },
  {
   "cell_type": "code",
   "execution_count": 5,
   "metadata": {
    "ExecuteTime": {
     "end_time": "2020-06-09T01:01:41.324264Z",
     "start_time": "2020-06-09T01:01:39.599664Z"
    }
   },
   "outputs": [
    {
     "name": "stderr",
     "output_type": "stream",
     "text": [
      "Downloading: 100%|██████████| 2256/2256 [00:01<00:00, 1985.14rows/s]\n"
     ]
    }
   ],
   "source": [
    "sql = \"\"\"\n",
    "SELECT Region AS region,\n",
    "       variable,\n",
    "       Fecha AS fecha, \n",
    "       SUM(Poblacion)/SUM(Superficie_km2) AS densidad,\n",
    "       AVG(value) AS value\n",
    "FROM reportes_minsal.IndiceDeMovilidad_std\n",
    "GROUP BY 1,2,3\n",
    "\"\"\"\n",
    "movilidad_minsal = pd.read_gbq(sql, project_id=PID,use_bqstorage_api=True)\n",
    "\n",
    "replace_region = {'Metropolitana de Santiago': 'Metropolitana',\n",
    "                  \"Libertador General Bernardo O'Higgins\": 'O’Higgins',\n",
    "                  'La Araucanía': 'Araucanía',\n",
    "                  'Aysén del General Carlos Ibáñez del Campo': 'Aysén',\n",
    "                  'Magallanes y de la Antártica Chilena': 'Magallanes'}\n",
    "\n",
    "movilidad_minsal['region'] = movilidad_minsal['region'].replace(replace_region)\n",
    "movilidad_minsal['fecha'] = pd.to_datetime(movilidad_minsal['fecha'])\n",
    "densidad = movilidad_minsal.groupby('region').densidad.mean().to_frame().reset_index()\n",
    "movilidad_minsal.drop(['densidad'], axis=1, inplace=True)\n",
    "\n",
    "ind_movilidad = movilidad_minsal.query('variable == \"IM\"').rename(columns={'value': 'ind_movilidad'}).drop(['variable'], axis=1)\n",
    "ind_movilidad_ext = movilidad_minsal.query('variable == \"IM_externo\"').rename(columns={'value': 'ind_movilidad_ext'}).drop(['variable'], axis=1)\n",
    "ind_movilidad_int = movilidad_minsal.query('variable == \"IM_interno\"').rename(columns={'value': 'ind_movilidad_int'}).drop(['variable'], axis=1)"
   ]
  },
  {
   "cell_type": "code",
   "execution_count": 6,
   "metadata": {
    "ExecuteTime": {
     "end_time": "2020-06-09T01:01:41.368930Z",
     "start_time": "2020-06-09T01:01:41.326863Z"
    }
   },
   "outputs": [],
   "source": [
    "movilidad = pd.merge(movilidad_google, ind_movilidad, on=['region', 'fecha'])\n",
    "movilidad = pd.merge(movilidad, ind_movilidad_ext, on=['region', 'fecha'])\n",
    "movilidad = pd.merge(movilidad, ind_movilidad_int, on=['region', 'fecha'])"
   ]
  },
  {
   "cell_type": "code",
   "execution_count": 7,
   "metadata": {
    "ExecuteTime": {
     "end_time": "2020-06-09T01:01:41.396313Z",
     "start_time": "2020-06-09T01:01:41.370544Z"
    },
    "code_folding": []
   },
   "outputs": [],
   "source": [
    "cols = ['retail_and_recreation_percent_change_from_baseline', \n",
    "        'grocery_and_pharmacy_percent_change_from_baseline', \n",
    "        'parks_percent_change_from_baseline', \n",
    "        'transit_stations_percent_change_from_baseline', \n",
    "        'workplaces_percent_change_from_baseline', \n",
    "        'residential_percent_change_from_baseline', \n",
    "        'ind_movilidad', \n",
    "        'ind_movilidad_ext', \n",
    "        'ind_movilidad_int']\n",
    "\n",
    "def get_lag(df, days=15):\n",
    "    df_lag = df.copy()\n",
    "    df_lag['fecha'] = df_lag['fecha'] + pd.Timedelta(f'{days}d')\n",
    "    df_lag.rename(columns={c: c+f'_lag{days}' for c in cols}, inplace=True)\n",
    "    return df_lag"
   ]
  },
  {
   "cell_type": "code",
   "execution_count": 8,
   "metadata": {
    "ExecuteTime": {
     "end_time": "2020-06-09T01:01:41.471717Z",
     "start_time": "2020-06-09T01:01:41.398125Z"
    }
   },
   "outputs": [],
   "source": [
    "movilidad_lag15 = get_lag(movilidad, 15)\n",
    "movilidad_lag30 = get_lag(movilidad, 30)"
   ]
  },
  {
   "cell_type": "markdown",
   "metadata": {},
   "source": [
    "## Muertes"
   ]
  },
  {
   "cell_type": "code",
   "execution_count": 9,
   "metadata": {
    "ExecuteTime": {
     "end_time": "2020-06-09T01:01:43.158710Z",
     "start_time": "2020-06-09T01:01:41.473221Z"
    }
   },
   "outputs": [
    {
     "name": "stderr",
     "output_type": "stream",
     "text": [
      "Downloading: 100%|██████████| 840/840 [00:01<00:00, 734.22rows/s] \n"
     ]
    }
   ],
   "source": [
    "sql = \"\"\"\n",
    "SELECT Region AS region,\n",
    "       Fecha AS fecha,\n",
    "       Total AS defunsiones_acc,\n",
    "FROM reportes_minsal.FallecidosCumulativo_std\n",
    "WHERE Total > 0\n",
    "    AND region != 'Total'\n",
    "\"\"\"\n",
    "muertes_covid = pd.read_gbq(sql, project_id=PID,use_bqstorage_api=True)\n",
    "muertes_covid['fecha'] = pd.to_datetime(muertes_covid['fecha'])"
   ]
  },
  {
   "cell_type": "markdown",
   "metadata": {},
   "source": [
    "## Juntar todo"
   ]
  },
  {
   "cell_type": "code",
   "execution_count": 10,
   "metadata": {
    "ExecuteTime": {
     "end_time": "2020-06-09T01:01:43.189424Z",
     "start_time": "2020-06-09T01:01:43.160392Z"
    }
   },
   "outputs": [],
   "source": [
    "muertes_covid['log_defunsiones_acc'] = np.log(muertes_covid['defunsiones_acc'])"
   ]
  },
  {
   "cell_type": "code",
   "execution_count": 11,
   "metadata": {
    "ExecuteTime": {
     "end_time": "2020-06-09T01:01:43.217456Z",
     "start_time": "2020-06-09T01:01:43.191117Z"
    }
   },
   "outputs": [],
   "source": [
    "fechas = muertes_covid.fecha.unique()\n",
    "fechas.sort()\n",
    "days_passed = pd.DataFrame({'fecha': fechas, 'days_passed': range(len(fechas))})"
   ]
  },
  {
   "cell_type": "code",
   "execution_count": 12,
   "metadata": {
    "ExecuteTime": {
     "end_time": "2020-06-09T01:01:43.263472Z",
     "start_time": "2020-06-09T01:01:43.218998Z"
    }
   },
   "outputs": [],
   "source": [
    "df = pd.merge(muertes_covid, days_passed, on=['fecha'])\n",
    "df = pd.merge(df, movilidad_lag15, how='left', on=['region', 'fecha'])\n",
    "df = pd.merge(df, movilidad_lag30, how='left', on=['region', 'fecha'])\n",
    "df = pd.merge(df, censo_region, how='left', on=['region'])"
   ]
  },
  {
   "cell_type": "code",
   "execution_count": 13,
   "metadata": {
    "ExecuteTime": {
     "end_time": "2020-06-09T01:01:43.292214Z",
     "start_time": "2020-06-09T01:01:43.265242Z"
    }
   },
   "outputs": [
    {
     "data": {
      "text/plain": [
       "Index(['region', 'fecha', 'defunsiones_acc', 'log_defunsiones_acc',\n",
       "       'days_passed',\n",
       "       'retail_and_recreation_percent_change_from_baseline_lag15',\n",
       "       'grocery_and_pharmacy_percent_change_from_baseline_lag15',\n",
       "       'parks_percent_change_from_baseline_lag15',\n",
       "       'transit_stations_percent_change_from_baseline_lag15',\n",
       "       'workplaces_percent_change_from_baseline_lag15',\n",
       "       'residential_percent_change_from_baseline_lag15', 'ind_movilidad_lag15',\n",
       "       'ind_movilidad_ext_lag15', 'ind_movilidad_int_lag15',\n",
       "       'retail_and_recreation_percent_change_from_baseline_lag30',\n",
       "       'grocery_and_pharmacy_percent_change_from_baseline_lag30',\n",
       "       'parks_percent_change_from_baseline_lag30',\n",
       "       'transit_stations_percent_change_from_baseline_lag30',\n",
       "       'workplaces_percent_change_from_baseline_lag30',\n",
       "       'residential_percent_change_from_baseline_lag30', 'ind_movilidad_lag30',\n",
       "       'ind_movilidad_ext_lag30', 'ind_movilidad_int_lag30', 'total_vivi',\n",
       "       'particular', 'colectivas', 'hombres', 'mujeres', 'indice_mas',\n",
       "       'indice_dep', 'ind_dep_ju', 'ind_dep_ve'],\n",
       "      dtype='object')"
      ]
     },
     "execution_count": 13,
     "metadata": {},
     "output_type": "execute_result"
    }
   ],
   "source": [
    "df.columns"
   ]
  },
  {
   "cell_type": "code",
   "execution_count": 14,
   "metadata": {
    "ExecuteTime": {
     "end_time": "2020-06-09T01:01:43.320567Z",
     "start_time": "2020-06-09T01:01:43.293870Z"
    }
   },
   "outputs": [],
   "source": [
    "numeric = ['days_passed',\n",
    "       'retail_and_recreation_percent_change_from_baseline_lag15',\n",
    "       'grocery_and_pharmacy_percent_change_from_baseline_lag15',\n",
    "       'parks_percent_change_from_baseline_lag15',\n",
    "       'transit_stations_percent_change_from_baseline_lag15',\n",
    "       'workplaces_percent_change_from_baseline_lag15',\n",
    "       'residential_percent_change_from_baseline_lag15', 'ind_movilidad_lag15',\n",
    "       'ind_movilidad_ext_lag15', 'ind_movilidad_int_lag15',\n",
    "       'retail_and_recreation_percent_change_from_baseline_lag30',\n",
    "       'grocery_and_pharmacy_percent_change_from_baseline_lag30',\n",
    "       'parks_percent_change_from_baseline_lag30',\n",
    "       'transit_stations_percent_change_from_baseline_lag30',\n",
    "       'workplaces_percent_change_from_baseline_lag30',\n",
    "       'residential_percent_change_from_baseline_lag30', 'ind_movilidad_lag30',\n",
    "       'ind_movilidad_ext_lag30', 'ind_movilidad_int_lag30', 'total_vivi',\n",
    "       'particular', 'colectivas', 'mujeres', 'indice_mas',\n",
    "       'indice_dep', 'ind_dep_ju', 'ind_dep_ve']\n",
    "categs = []\n",
    "target = 'log_defunsiones_acc'"
   ]
  },
  {
   "cell_type": "code",
   "execution_count": 15,
   "metadata": {
    "ExecuteTime": {
     "end_time": "2020-06-09T01:01:43.348285Z",
     "start_time": "2020-06-09T01:01:43.322170Z"
    }
   },
   "outputs": [],
   "source": [
    "df['region'] = df['region'].astype('category')"
   ]
  },
  {
   "cell_type": "markdown",
   "metadata": {},
   "source": [
    "# Models"
   ]
  },
  {
   "cell_type": "code",
   "execution_count": 16,
   "metadata": {
    "ExecuteTime": {
     "end_time": "2020-06-09T01:01:43.379918Z",
     "start_time": "2020-06-09T01:01:43.350100Z"
    }
   },
   "outputs": [],
   "source": [
    "def train_model(layer_0, layer_1):\n",
    "#Trains a tabular model model with 2 layers of sizes layer_0 and layer_1 and returns its accuracy\n",
    "    n_epochs = 6    \n",
    "    learn = tabular_learner(dls, layers=[int(layer_0), int(layer_1)])\n",
    "    with learn.no_logging():\n",
    "        lr = learn.lr_find(show_plot=False)[0]\n",
    "        learn.fit_one_cycle(n_epochs, lr)\n",
    "    preds, targs = learn.get_preds()\n",
    "    preds_raw = torch.log(preds/(1-preds)) # inverse_of_sigmoid\n",
    "    return accuracy(preds_raw, targs).numpy()\n",
    "\n",
    "def get_predictions(df, learn):\n",
    "    df_dls = learn.dls.valid_ds.new(df)\n",
    "    df_dls.process()\n",
    "    df_dls.conts = df_dls.conts.astype(np.float32)\n",
    "    dl = learn.dls.valid.new(df_ls)\n",
    "    #################################################################################\n",
    "    pred, actual = learn.get_preds(dl=dl, with_input=False, with_decoded=False)\n",
    "    results = pd.DataFrame(columns=['prediction'], index=range(len(pred)))\n",
    "    results.loc[:, ['prediction']] = pred.numpy()\n",
    "    return results"
   ]
  },
  {
   "cell_type": "code",
   "execution_count": 17,
   "metadata": {
    "ExecuteTime": {
     "end_time": "2020-06-09T01:01:43.405215Z",
     "start_time": "2020-06-09T01:01:43.381751Z"
    }
   },
   "outputs": [],
   "source": [
    "procs = [FillMissing, Normalize]"
   ]
  },
  {
   "cell_type": "markdown",
   "metadata": {},
   "source": [
    "We use 10% of the data for the validation set"
   ]
  },
  {
   "cell_type": "code",
   "execution_count": 18,
   "metadata": {
    "ExecuteTime": {
     "end_time": "2020-06-09T01:01:43.444689Z",
     "start_time": "2020-06-09T01:01:43.406711Z"
    }
   },
   "outputs": [
    {
     "name": "stdout",
     "output_type": "stream",
     "text": [
      "756 84\n"
     ]
    }
   ],
   "source": [
    "valid_pct = .1 \n",
    "\n",
    "np.random.seed(1313)\n",
    "valid_idx = np.random.choice(range(len(df)), int(valid_pct*len(df)), replace=False)\n",
    "train_idx = [x for x in range(len(df)) if x not in valid_idx]\n",
    "\n",
    "df.loc[valid_idx, 'is_valid'] = 1\n",
    "df.loc[train_idx, 'is_valid'] = 0\n",
    "\n",
    "splits = (list(train_idx),list(valid_idx))\n",
    "print(len(train_idx), len(valid_idx))"
   ]
  },
  {
   "cell_type": "markdown",
   "metadata": {},
   "source": [
    "## Neural Network"
   ]
  },
  {
   "cell_type": "code",
   "execution_count": 19,
   "metadata": {
    "ExecuteTime": {
     "end_time": "2020-06-09T01:01:45.479397Z",
     "start_time": "2020-06-09T01:01:43.446461Z"
    }
   },
   "outputs": [],
   "source": [
    "tabular_df = TabularPandas(df, procs, categs, numeric, y_names=target, splits=splits)\n",
    "dls = tabular_df.dataloaders(20)"
   ]
  },
  {
   "cell_type": "markdown",
   "metadata": {},
   "source": [
    "### Model definition"
   ]
  },
  {
   "cell_type": "code",
   "execution_count": 20,
   "metadata": {
    "ExecuteTime": {
     "end_time": "2020-06-09T01:01:45.513206Z",
     "start_time": "2020-06-09T01:01:45.481355Z"
    }
   },
   "outputs": [
    {
     "data": {
      "text/plain": [
       "(500, 250)"
      ]
     },
     "execution_count": 20,
     "metadata": {},
     "output_type": "execute_result"
    }
   ],
   "source": [
    "use_bayes_opt = False\n",
    "\n",
    "if use_bayes_opt:\n",
    "    bounds = {'layer_0': (100, 1000), 'layer_1': (100, 1000)}\n",
    "\n",
    "    optimizer = BayesianOptimization(\n",
    "        f=train_model,\n",
    "        pbounds=bounds,\n",
    "        random_state=1313,\n",
    "    )\n",
    "    optimizer.maximize(init_points=10, n_iter=20)\n",
    "    \n",
    "    max_params = optimizer.max['params']\n",
    "    layer_0, layer_1 = int(max_params['layer_0']), int(max_params['layer_1'])\n",
    "    \n",
    "else:\n",
    "    layer_0, layer_1 = 500, 250\n",
    "    \n",
    "layer_0, layer_1"
   ]
  },
  {
   "cell_type": "code",
   "execution_count": 23,
   "metadata": {
    "ExecuteTime": {
     "end_time": "2020-06-09T01:02:16.625339Z",
     "start_time": "2020-06-09T01:02:16.580145Z"
    }
   },
   "outputs": [
    {
     "ename": "AttributeError",
     "evalue": "classes",
     "output_type": "error",
     "traceback": [
      "\u001b[0;31m---------------------------------------------------------------------------\u001b[0m",
      "\u001b[0;31mAttributeError\u001b[0m                            Traceback (most recent call last)",
      "\u001b[0;32m<ipython-input-23-c39c1b4a5545>\u001b[0m in \u001b[0;36m<module>\u001b[0;34m\u001b[0m\n\u001b[1;32m      1\u001b[0m \u001b[0;31m#probar hacer bayes search con los layers\u001b[0m\u001b[0;34m\u001b[0m\u001b[0;34m\u001b[0m\u001b[0;34m\u001b[0m\u001b[0m\n\u001b[0;32m----> 2\u001b[0;31m \u001b[0mlearn\u001b[0m \u001b[0;34m=\u001b[0m \u001b[0mtabular_learner\u001b[0m\u001b[0;34m(\u001b[0m\u001b[0mdls\u001b[0m\u001b[0;34m,\u001b[0m \u001b[0mlayers\u001b[0m\u001b[0;34m=\u001b[0m\u001b[0;34m[\u001b[0m\u001b[0mlayer_0\u001b[0m\u001b[0;34m,\u001b[0m \u001b[0mlayer_1\u001b[0m\u001b[0;34m]\u001b[0m\u001b[0;34m,\u001b[0m \u001b[0mn_out\u001b[0m\u001b[0;34m=\u001b[0m\u001b[0;36m1\u001b[0m\u001b[0;34m,\u001b[0m \u001b[0my_range\u001b[0m\u001b[0;34m=\u001b[0m\u001b[0;34m(\u001b[0m\u001b[0;36m2.9\u001b[0m\u001b[0;34m,\u001b[0m \u001b[0;36m8.1\u001b[0m\u001b[0;34m)\u001b[0m\u001b[0;34m,\u001b[0m \u001b[0mcbs\u001b[0m\u001b[0;34m=\u001b[0m\u001b[0;34m[\u001b[0m\u001b[0mShowGraphCallback\u001b[0m\u001b[0;34m]\u001b[0m\u001b[0;34m)\u001b[0m\u001b[0;34m\u001b[0m\u001b[0;34m\u001b[0m\u001b[0m\n\u001b[0m\u001b[1;32m      3\u001b[0m \u001b[0mlearn\u001b[0m\u001b[0;34m.\u001b[0m\u001b[0msummary\u001b[0m\u001b[0;34m(\u001b[0m\u001b[0;34m)\u001b[0m\u001b[0;34m\u001b[0m\u001b[0;34m\u001b[0m\u001b[0m\n",
      "\u001b[0;32m~/miniconda3/envs/spike_basicoV6/lib/python3.6/site-packages/fastai2/tabular/learner.py\u001b[0m in \u001b[0;36mtabular_learner\u001b[0;34m(dls, layers, emb_szs, config, n_out, y_range, **kwargs)\u001b[0m\n\u001b[1;32m     29\u001b[0m     \u001b[0;32mif\u001b[0m \u001b[0mlayers\u001b[0m \u001b[0;32mis\u001b[0m \u001b[0;32mNone\u001b[0m\u001b[0;34m:\u001b[0m \u001b[0mlayers\u001b[0m \u001b[0;34m=\u001b[0m \u001b[0;34m[\u001b[0m\u001b[0;36m200\u001b[0m\u001b[0;34m,\u001b[0m\u001b[0;36m100\u001b[0m\u001b[0;34m]\u001b[0m\u001b[0;34m\u001b[0m\u001b[0;34m\u001b[0m\u001b[0m\n\u001b[1;32m     30\u001b[0m     \u001b[0mto\u001b[0m \u001b[0;34m=\u001b[0m \u001b[0mdls\u001b[0m\u001b[0;34m.\u001b[0m\u001b[0mtrain_ds\u001b[0m\u001b[0;34m\u001b[0m\u001b[0;34m\u001b[0m\u001b[0m\n\u001b[0;32m---> 31\u001b[0;31m     \u001b[0memb_szs\u001b[0m \u001b[0;34m=\u001b[0m \u001b[0mget_emb_sz\u001b[0m\u001b[0;34m(\u001b[0m\u001b[0mdls\u001b[0m\u001b[0;34m.\u001b[0m\u001b[0mtrain_ds\u001b[0m\u001b[0;34m,\u001b[0m \u001b[0;34m{\u001b[0m\u001b[0;34m}\u001b[0m \u001b[0;32mif\u001b[0m \u001b[0memb_szs\u001b[0m \u001b[0;32mis\u001b[0m \u001b[0;32mNone\u001b[0m \u001b[0;32melse\u001b[0m \u001b[0memb_szs\u001b[0m\u001b[0;34m)\u001b[0m\u001b[0;34m\u001b[0m\u001b[0;34m\u001b[0m\u001b[0m\n\u001b[0m\u001b[1;32m     32\u001b[0m     \u001b[0;32mif\u001b[0m \u001b[0mn_out\u001b[0m \u001b[0;32mis\u001b[0m \u001b[0;32mNone\u001b[0m\u001b[0;34m:\u001b[0m \u001b[0mn_out\u001b[0m \u001b[0;34m=\u001b[0m \u001b[0mget_c\u001b[0m\u001b[0;34m(\u001b[0m\u001b[0mdls\u001b[0m\u001b[0;34m)\u001b[0m\u001b[0;34m\u001b[0m\u001b[0;34m\u001b[0m\u001b[0m\n\u001b[1;32m     33\u001b[0m     \u001b[0;32massert\u001b[0m \u001b[0mn_out\u001b[0m\u001b[0;34m,\u001b[0m \u001b[0;34m\"`n_out` is not defined, and could not be infered from data, set `dls.c` or pass `n_out`\"\u001b[0m\u001b[0;34m\u001b[0m\u001b[0;34m\u001b[0m\u001b[0m\n",
      "\u001b[0;32m~/miniconda3/envs/spike_basicoV6/lib/python3.6/site-packages/fastai2/tabular/model.py\u001b[0m in \u001b[0;36mget_emb_sz\u001b[0;34m(to, sz_dict)\u001b[0m\n\u001b[1;32m     23\u001b[0m \u001b[0;32mdef\u001b[0m \u001b[0mget_emb_sz\u001b[0m\u001b[0;34m(\u001b[0m\u001b[0mto\u001b[0m\u001b[0;34m,\u001b[0m \u001b[0msz_dict\u001b[0m\u001b[0;34m=\u001b[0m\u001b[0;32mNone\u001b[0m\u001b[0;34m)\u001b[0m\u001b[0;34m:\u001b[0m\u001b[0;34m\u001b[0m\u001b[0;34m\u001b[0m\u001b[0m\n\u001b[1;32m     24\u001b[0m     \u001b[0;34m\"Get default embedding size from `TabularPreprocessor` `proc` or the ones in `sz_dict`\"\u001b[0m\u001b[0;34m\u001b[0m\u001b[0;34m\u001b[0m\u001b[0m\n\u001b[0;32m---> 25\u001b[0;31m     \u001b[0;32mreturn\u001b[0m \u001b[0;34m[\u001b[0m\u001b[0m_one_emb_sz\u001b[0m\u001b[0;34m(\u001b[0m\u001b[0mto\u001b[0m\u001b[0;34m.\u001b[0m\u001b[0mclasses\u001b[0m\u001b[0;34m,\u001b[0m \u001b[0mn\u001b[0m\u001b[0;34m,\u001b[0m \u001b[0msz_dict\u001b[0m\u001b[0;34m)\u001b[0m \u001b[0;32mfor\u001b[0m \u001b[0mn\u001b[0m \u001b[0;32min\u001b[0m \u001b[0mto\u001b[0m\u001b[0;34m.\u001b[0m\u001b[0mcat_names\u001b[0m\u001b[0;34m]\u001b[0m\u001b[0;34m\u001b[0m\u001b[0;34m\u001b[0m\u001b[0m\n\u001b[0m\u001b[1;32m     26\u001b[0m \u001b[0;34m\u001b[0m\u001b[0m\n\u001b[1;32m     27\u001b[0m \u001b[0;31m# Cell\u001b[0m\u001b[0;34m\u001b[0m\u001b[0;34m\u001b[0m\u001b[0;34m\u001b[0m\u001b[0m\n",
      "\u001b[0;32m~/miniconda3/envs/spike_basicoV6/lib/python3.6/site-packages/fastai2/tabular/model.py\u001b[0m in \u001b[0;36m<listcomp>\u001b[0;34m(.0)\u001b[0m\n\u001b[1;32m     23\u001b[0m \u001b[0;32mdef\u001b[0m \u001b[0mget_emb_sz\u001b[0m\u001b[0;34m(\u001b[0m\u001b[0mto\u001b[0m\u001b[0;34m,\u001b[0m \u001b[0msz_dict\u001b[0m\u001b[0;34m=\u001b[0m\u001b[0;32mNone\u001b[0m\u001b[0;34m)\u001b[0m\u001b[0;34m:\u001b[0m\u001b[0;34m\u001b[0m\u001b[0;34m\u001b[0m\u001b[0m\n\u001b[1;32m     24\u001b[0m     \u001b[0;34m\"Get default embedding size from `TabularPreprocessor` `proc` or the ones in `sz_dict`\"\u001b[0m\u001b[0;34m\u001b[0m\u001b[0;34m\u001b[0m\u001b[0m\n\u001b[0;32m---> 25\u001b[0;31m     \u001b[0;32mreturn\u001b[0m \u001b[0;34m[\u001b[0m\u001b[0m_one_emb_sz\u001b[0m\u001b[0;34m(\u001b[0m\u001b[0mto\u001b[0m\u001b[0;34m.\u001b[0m\u001b[0mclasses\u001b[0m\u001b[0;34m,\u001b[0m \u001b[0mn\u001b[0m\u001b[0;34m,\u001b[0m \u001b[0msz_dict\u001b[0m\u001b[0;34m)\u001b[0m \u001b[0;32mfor\u001b[0m \u001b[0mn\u001b[0m \u001b[0;32min\u001b[0m \u001b[0mto\u001b[0m\u001b[0;34m.\u001b[0m\u001b[0mcat_names\u001b[0m\u001b[0;34m]\u001b[0m\u001b[0;34m\u001b[0m\u001b[0;34m\u001b[0m\u001b[0m\n\u001b[0m\u001b[1;32m     26\u001b[0m \u001b[0;34m\u001b[0m\u001b[0m\n\u001b[1;32m     27\u001b[0m \u001b[0;31m# Cell\u001b[0m\u001b[0;34m\u001b[0m\u001b[0;34m\u001b[0m\u001b[0;34m\u001b[0m\u001b[0m\n",
      "\u001b[0;32m~/miniconda3/envs/spike_basicoV6/lib/python3.6/site-packages/fastcore/foundation.py\u001b[0m in \u001b[0;36m__getattr__\u001b[0;34m(self, k)\u001b[0m\n\u001b[1;32m    228\u001b[0m         \u001b[0;32mif\u001b[0m \u001b[0mself\u001b[0m\u001b[0;34m.\u001b[0m\u001b[0m_component_attr_filter\u001b[0m\u001b[0;34m(\u001b[0m\u001b[0mk\u001b[0m\u001b[0;34m)\u001b[0m\u001b[0;34m:\u001b[0m\u001b[0;34m\u001b[0m\u001b[0;34m\u001b[0m\u001b[0m\n\u001b[1;32m    229\u001b[0m             \u001b[0mattr\u001b[0m \u001b[0;34m=\u001b[0m \u001b[0mgetattr\u001b[0m\u001b[0;34m(\u001b[0m\u001b[0mself\u001b[0m\u001b[0;34m,\u001b[0m\u001b[0mself\u001b[0m\u001b[0;34m.\u001b[0m\u001b[0m_default\u001b[0m\u001b[0;34m,\u001b[0m\u001b[0;32mNone\u001b[0m\u001b[0;34m)\u001b[0m\u001b[0;34m\u001b[0m\u001b[0;34m\u001b[0m\u001b[0m\n\u001b[0;32m--> 230\u001b[0;31m             \u001b[0;32mif\u001b[0m \u001b[0mattr\u001b[0m \u001b[0;32mis\u001b[0m \u001b[0;32mnot\u001b[0m \u001b[0;32mNone\u001b[0m\u001b[0;34m:\u001b[0m \u001b[0;32mreturn\u001b[0m \u001b[0mgetattr\u001b[0m\u001b[0;34m(\u001b[0m\u001b[0mattr\u001b[0m\u001b[0;34m,\u001b[0m\u001b[0mk\u001b[0m\u001b[0;34m)\u001b[0m\u001b[0;34m\u001b[0m\u001b[0;34m\u001b[0m\u001b[0m\n\u001b[0m\u001b[1;32m    231\u001b[0m         \u001b[0;32mraise\u001b[0m \u001b[0mAttributeError\u001b[0m\u001b[0;34m(\u001b[0m\u001b[0mk\u001b[0m\u001b[0;34m)\u001b[0m\u001b[0;34m\u001b[0m\u001b[0;34m\u001b[0m\u001b[0m\n\u001b[1;32m    232\u001b[0m     \u001b[0;32mdef\u001b[0m \u001b[0m__dir__\u001b[0m\u001b[0;34m(\u001b[0m\u001b[0mself\u001b[0m\u001b[0;34m)\u001b[0m\u001b[0;34m:\u001b[0m \u001b[0;32mreturn\u001b[0m \u001b[0mcustom_dir\u001b[0m\u001b[0;34m(\u001b[0m\u001b[0mself\u001b[0m\u001b[0;34m,\u001b[0m\u001b[0mself\u001b[0m\u001b[0;34m.\u001b[0m\u001b[0m_dir\u001b[0m\u001b[0;34m(\u001b[0m\u001b[0;34m)\u001b[0m\u001b[0;34m)\u001b[0m\u001b[0;34m\u001b[0m\u001b[0;34m\u001b[0m\u001b[0m\n",
      "\u001b[0;32m~/miniconda3/envs/spike_basicoV6/lib/python3.6/site-packages/fastcore/transform.py\u001b[0m in \u001b[0;36m__getattr__\u001b[0;34m(self, k)\u001b[0m\n\u001b[1;32m    187\u001b[0m     \u001b[0;32mdef\u001b[0m \u001b[0m__getitem__\u001b[0m\u001b[0;34m(\u001b[0m\u001b[0mself\u001b[0m\u001b[0;34m,\u001b[0m\u001b[0mi\u001b[0m\u001b[0;34m)\u001b[0m\u001b[0;34m:\u001b[0m \u001b[0;32mreturn\u001b[0m \u001b[0mself\u001b[0m\u001b[0;34m.\u001b[0m\u001b[0mfs\u001b[0m\u001b[0;34m[\u001b[0m\u001b[0mi\u001b[0m\u001b[0;34m]\u001b[0m\u001b[0;34m\u001b[0m\u001b[0;34m\u001b[0m\u001b[0m\n\u001b[1;32m    188\u001b[0m     \u001b[0;32mdef\u001b[0m \u001b[0m__setstate__\u001b[0m\u001b[0;34m(\u001b[0m\u001b[0mself\u001b[0m\u001b[0;34m,\u001b[0m\u001b[0mdata\u001b[0m\u001b[0;34m)\u001b[0m\u001b[0;34m:\u001b[0m \u001b[0mself\u001b[0m\u001b[0;34m.\u001b[0m\u001b[0m__dict__\u001b[0m\u001b[0;34m.\u001b[0m\u001b[0mupdate\u001b[0m\u001b[0;34m(\u001b[0m\u001b[0mdata\u001b[0m\u001b[0;34m)\u001b[0m\u001b[0;34m\u001b[0m\u001b[0;34m\u001b[0m\u001b[0m\n\u001b[0;32m--> 189\u001b[0;31m     \u001b[0;32mdef\u001b[0m \u001b[0m__getattr__\u001b[0m\u001b[0;34m(\u001b[0m\u001b[0mself\u001b[0m\u001b[0;34m,\u001b[0m\u001b[0mk\u001b[0m\u001b[0;34m)\u001b[0m\u001b[0;34m:\u001b[0m \u001b[0;32mreturn\u001b[0m \u001b[0mgather_attrs\u001b[0m\u001b[0;34m(\u001b[0m\u001b[0mself\u001b[0m\u001b[0;34m,\u001b[0m \u001b[0mk\u001b[0m\u001b[0;34m,\u001b[0m \u001b[0;34m'fs'\u001b[0m\u001b[0;34m)\u001b[0m\u001b[0;34m\u001b[0m\u001b[0;34m\u001b[0m\u001b[0m\n\u001b[0m\u001b[1;32m    190\u001b[0m     \u001b[0;32mdef\u001b[0m \u001b[0m__dir__\u001b[0m\u001b[0;34m(\u001b[0m\u001b[0mself\u001b[0m\u001b[0;34m)\u001b[0m\u001b[0;34m:\u001b[0m \u001b[0;32mreturn\u001b[0m \u001b[0msuper\u001b[0m\u001b[0;34m(\u001b[0m\u001b[0;34m)\u001b[0m\u001b[0;34m.\u001b[0m\u001b[0m__dir__\u001b[0m\u001b[0;34m(\u001b[0m\u001b[0;34m)\u001b[0m \u001b[0;34m+\u001b[0m \u001b[0mgather_attr_names\u001b[0m\u001b[0;34m(\u001b[0m\u001b[0mself\u001b[0m\u001b[0;34m,\u001b[0m \u001b[0;34m'fs'\u001b[0m\u001b[0;34m)\u001b[0m\u001b[0;34m\u001b[0m\u001b[0;34m\u001b[0m\u001b[0m\n\u001b[1;32m    191\u001b[0m \u001b[0;34m\u001b[0m\u001b[0m\n",
      "\u001b[0;32m~/miniconda3/envs/spike_basicoV6/lib/python3.6/site-packages/fastcore/transform.py\u001b[0m in \u001b[0;36mgather_attrs\u001b[0;34m(o, k, nm)\u001b[0m\n\u001b[1;32m    151\u001b[0m     \u001b[0matt\u001b[0m \u001b[0;34m=\u001b[0m \u001b[0mgetattr\u001b[0m\u001b[0;34m(\u001b[0m\u001b[0mo\u001b[0m\u001b[0;34m,\u001b[0m\u001b[0mnm\u001b[0m\u001b[0;34m)\u001b[0m\u001b[0;34m\u001b[0m\u001b[0;34m\u001b[0m\u001b[0m\n\u001b[1;32m    152\u001b[0m     \u001b[0mres\u001b[0m \u001b[0;34m=\u001b[0m \u001b[0;34m[\u001b[0m\u001b[0mt\u001b[0m \u001b[0;32mfor\u001b[0m \u001b[0mt\u001b[0m \u001b[0;32min\u001b[0m \u001b[0matt\u001b[0m\u001b[0;34m.\u001b[0m\u001b[0mattrgot\u001b[0m\u001b[0;34m(\u001b[0m\u001b[0mk\u001b[0m\u001b[0;34m)\u001b[0m \u001b[0;32mif\u001b[0m \u001b[0mt\u001b[0m \u001b[0;32mis\u001b[0m \u001b[0;32mnot\u001b[0m \u001b[0;32mNone\u001b[0m\u001b[0;34m]\u001b[0m\u001b[0;34m\u001b[0m\u001b[0;34m\u001b[0m\u001b[0m\n\u001b[0;32m--> 153\u001b[0;31m     \u001b[0;32mif\u001b[0m \u001b[0;32mnot\u001b[0m \u001b[0mres\u001b[0m\u001b[0;34m:\u001b[0m \u001b[0;32mraise\u001b[0m \u001b[0mAttributeError\u001b[0m\u001b[0;34m(\u001b[0m\u001b[0mk\u001b[0m\u001b[0;34m)\u001b[0m\u001b[0;34m\u001b[0m\u001b[0;34m\u001b[0m\u001b[0m\n\u001b[0m\u001b[1;32m    154\u001b[0m     \u001b[0;32mreturn\u001b[0m \u001b[0mres\u001b[0m\u001b[0;34m[\u001b[0m\u001b[0;36m0\u001b[0m\u001b[0;34m]\u001b[0m \u001b[0;32mif\u001b[0m \u001b[0mlen\u001b[0m\u001b[0;34m(\u001b[0m\u001b[0mres\u001b[0m\u001b[0;34m)\u001b[0m\u001b[0;34m==\u001b[0m\u001b[0;36m1\u001b[0m \u001b[0;32melse\u001b[0m \u001b[0mL\u001b[0m\u001b[0;34m(\u001b[0m\u001b[0mres\u001b[0m\u001b[0;34m)\u001b[0m\u001b[0;34m\u001b[0m\u001b[0;34m\u001b[0m\u001b[0m\n\u001b[1;32m    155\u001b[0m \u001b[0;34m\u001b[0m\u001b[0m\n",
      "\u001b[0;31mAttributeError\u001b[0m: classes"
     ]
    }
   ],
   "source": [
    "#probar hacer bayes search con los layers\n",
    "learn = tabular_learner(dls, layers=[layer_0, layer_1], n_out=1, y_range=(2.9, 8.1), cbs=[ShowGraphCallback])\n",
    "learn.summary()"
   ]
  },
  {
   "cell_type": "markdown",
   "metadata": {},
   "source": [
    "### Training"
   ]
  },
  {
   "cell_type": "code",
   "execution_count": 12,
   "metadata": {
    "ExecuteTime": {
     "end_time": "2020-04-30T15:11:26.358934Z",
     "start_time": "2020-04-30T15:11:24.135652Z"
    }
   },
   "outputs": [
    {
     "data": {
      "text/html": [],
      "text/plain": [
       "<IPython.core.display.HTML object>"
      ]
     },
     "metadata": {},
     "output_type": "display_data"
    },
    {
     "name": "stdout",
     "output_type": "stream",
     "text": [
      "1.91E-03\n"
     ]
    },
    {
     "data": {
      "image/png": "[encoded data removed]",
      "text/plain": [
       "<Figure size 576x396 with 1 Axes>"
      ]
     },
     "metadata": {},
     "output_type": "display_data"
    }
   ],
   "source": [
    "lr = learn.lr_find()[0]\n",
    "print('%.2E' % Decimal(lr))"
   ]
  },
  {
   "cell_type": "code",
   "execution_count": 13,
   "metadata": {
    "ExecuteTime": {
     "end_time": "2020-04-30T15:11:29.208494Z",
     "start_time": "2020-04-30T15:11:26.536252Z"
    }
   },
   "outputs": [
    {
     "data": {
      "text/html": [
       "<table border=\"1\" class=\"dataframe\">\n",
       "  <thead>\n",
       "    <tr style=\"text-align: left;\">\n",
       "      <th>epoch</th>\n",
       "      <th>train_loss</th>\n",
       "      <th>valid_loss</th>\n",
       "      <th>mae</th>\n",
       "      <th>time</th>\n",
       "    </tr>\n",
       "  </thead>\n",
       "  <tbody>\n",
       "    <tr>\n",
       "      <td>0</td>\n",
       "      <td>0.584435</td>\n",
       "      <td>0.433342</td>\n",
       "      <td>0.537792</td>\n",
       "      <td>00:00</td>\n",
       "    </tr>\n",
       "    <tr>\n",
       "      <td>1</td>\n",
       "      <td>0.507846</td>\n",
       "      <td>0.402747</td>\n",
       "      <td>0.514018</td>\n",
       "      <td>00:00</td>\n",
       "    </tr>\n",
       "    <tr>\n",
       "      <td>2</td>\n",
       "      <td>0.471982</td>\n",
       "      <td>0.398865</td>\n",
       "      <td>0.504085</td>\n",
       "      <td>00:00</td>\n",
       "    </tr>\n",
       "    <tr>\n",
       "      <td>3</td>\n",
       "      <td>0.436801</td>\n",
       "      <td>0.344957</td>\n",
       "      <td>0.455765</td>\n",
       "      <td>00:00</td>\n",
       "    </tr>\n",
       "    <tr>\n",
       "      <td>4</td>\n",
       "      <td>0.404963</td>\n",
       "      <td>0.356867</td>\n",
       "      <td>0.462396</td>\n",
       "      <td>00:00</td>\n",
       "    </tr>\n",
       "    <tr>\n",
       "      <td>5</td>\n",
       "      <td>0.376623</td>\n",
       "      <td>0.343054</td>\n",
       "      <td>0.447844</td>\n",
       "      <td>00:00</td>\n",
       "    </tr>\n",
       "  </tbody>\n",
       "</table>"
      ],
      "text/plain": [
       "<IPython.core.display.HTML object>"
      ]
     },
     "metadata": {},
     "output_type": "display_data"
    },
    {
     "data": {
      "image/png": "[encoded data removed]",
      "text/plain": [
       "<Figure size 432x288 with 1 Axes>"
      ]
     },
     "metadata": {},
     "output_type": "display_data"
    }
   ],
   "source": [
    "learn.fit_one_cycle(6, lr)"
   ]
  },
  {
   "cell_type": "markdown",
   "metadata": {},
   "source": [
    "### Mape"
   ]
  },
  {
   "cell_type": "code",
   "execution_count": 14,
   "metadata": {
    "ExecuteTime": {
     "end_time": "2020-04-30T15:11:32.043648Z",
     "start_time": "2020-04-30T15:11:31.894324Z"
    }
   },
   "outputs": [
    {
     "data": {
      "text/html": [],
      "text/plain": [
       "<IPython.core.display.HTML object>"
      ]
     },
     "metadata": {},
     "output_type": "display_data"
    },
    {
     "data": {
      "text/html": [
       "<div>\n",
       "<style scoped>\n",
       "    .dataframe tbody tr th:only-of-type {\n",
       "        vertical-align: middle;\n",
       "    }\n",
       "\n",
       "    .dataframe tbody tr th {\n",
       "        vertical-align: top;\n",
       "    }\n",
       "\n",
       "    .dataframe thead th {\n",
       "        text-align: right;\n",
       "    }\n",
       "</style>\n",
       "<table border=\"1\" class=\"dataframe\">\n",
       "  <thead>\n",
       "    <tr style=\"text-align: right;\">\n",
       "      <th></th>\n",
       "      <th>prediction</th>\n",
       "    </tr>\n",
       "  </thead>\n",
       "  <tbody>\n",
       "    <tr>\n",
       "      <th>0</th>\n",
       "      <td>5.085609</td>\n",
       "    </tr>\n",
       "    <tr>\n",
       "      <th>1</th>\n",
       "      <td>5.142844</td>\n",
       "    </tr>\n",
       "    <tr>\n",
       "      <th>2</th>\n",
       "      <td>5.382797</td>\n",
       "    </tr>\n",
       "    <tr>\n",
       "      <th>3</th>\n",
       "      <td>5.516832</td>\n",
       "    </tr>\n",
       "    <tr>\n",
       "      <th>4</th>\n",
       "      <td>5.085609</td>\n",
       "    </tr>\n",
       "  </tbody>\n",
       "</table>\n",
       "</div>"
      ],
      "text/plain": [
       "   prediction\n",
       "0    5.085609\n",
       "1    5.142844\n",
       "2    5.382797\n",
       "3    5.516832\n",
       "4    5.085609"
      ]
     },
     "execution_count": 14,
     "metadata": {},
     "output_type": "execute_result"
    }
   ],
   "source": [
    "results = get_predictions(df, learn)\n",
    "results.head()"
   ]
  },
  {
   "cell_type": "code",
   "execution_count": 15,
   "metadata": {
    "ExecuteTime": {
     "end_time": "2020-04-30T15:11:33.612896Z",
     "start_time": "2020-04-30T15:11:33.579005Z"
    }
   },
   "outputs": [],
   "source": [
    "df['prediction'] = results['prediction'].astype('float32')\n",
    "df['mae'] = df.eval('100 * abs(prediction - quality)/(0.5 * (prediction + quality))')"
   ]
  },
  {
   "cell_type": "code",
   "execution_count": 16,
   "metadata": {
    "ExecuteTime": {
     "end_time": "2020-04-30T15:11:35.676715Z",
     "start_time": "2020-04-30T15:11:34.790789Z"
    }
   },
   "outputs": [
    {
     "data": {
      "application/vnd.jupyter.widget-view+json": {
       "model_id": "4e89106debb141bf89bd812255182e4b",
       "version_major": 2,
       "version_minor": 0
      },
      "text/plain": [
       "HBox(children=(FloatProgress(value=0.0, max=1.0), HTML(value='')))"
      ]
     },
     "metadata": {},
     "output_type": "display_data"
    },
    {
     "name": "stdout",
     "output_type": "stream",
     "text": [
      "\n"
     ]
    },
    {
     "data": {
      "application/vnd.jupyter.widget-view+json": {
       "model_id": "1c432832b0d546c09cf3e34cae14b0ee",
       "version_major": 2,
       "version_minor": 0
      },
      "text/plain": [
       "HBox(children=(FloatProgress(value=0.0, max=1.0), HTML(value='')))"
      ]
     },
     "metadata": {},
     "output_type": "display_data"
    },
    {
     "name": "stdout",
     "output_type": "stream",
     "text": [
      "\n"
     ]
    },
    {
     "data": {
      "image/png": "[encoded data removed]",
      "text/plain": [
       "<Figure size 1008x288 with 2 Axes>"
      ]
     },
     "metadata": {},
     "output_type": "display_data"
    }
   ],
   "source": [
    "sp.compare_cont_dists([df], ['mae'], groupby='is_valid');"
   ]
  },
  {
   "cell_type": "markdown",
   "metadata": {},
   "source": [
    "## Bayesian Modeling"
   ]
  },
  {
   "cell_type": "code",
   "execution_count": 17,
   "metadata": {
    "ExecuteTime": {
     "end_time": "2020-04-30T15:11:50.688302Z",
     "start_time": "2020-04-30T15:11:50.661087Z"
    }
   },
   "outputs": [],
   "source": [
    "def get_predictions_pyro(model, guide, df, n_samples=25, varbls=['_RETURN']):\n",
    "    \n",
    "    df_dls = learn.dls.valid_ds.new(df)\n",
    "    df_dls.process()\n",
    "    df_dls.conts = df_dls.conts.astype(np.float32)\n",
    "    dl = learn.dls.valid.new(df_dls)\n",
    "    x_num = torch.Tensor(dl.dataset.conts.values).to(device, torch.float32)\n",
    "    x_cat = torch.LongTensor(dl.dataset.cats.values).to(device)\n",
    "    \n",
    "    predictive = Predictive(model, guide=guide, num_samples=n_samples, return_sites=varbls)\n",
    "    samples_post = {v: predictive(x_cat, x_num, None)[v].cpu().detach().numpy() for v in varbls}\n",
    "    \n",
    "    return samples_post"
   ]
  },
  {
   "cell_type": "markdown",
   "metadata": {},
   "source": [
    "### Bayesian NN"
   ]
  },
  {
   "cell_type": "markdown",
   "metadata": {},
   "source": [
    "#### Model definition "
   ]
  },
  {
   "cell_type": "markdown",
   "metadata": {},
   "source": [
    "---------------------------------\n",
    "Let $F(\\cdot | \\mathbf{w})$ be the neural network architecture define above with weight parameters $\\mathbf{w}$ i.e. $F(x| \\mathbf{w})$ is the prediction of quality of wine $x$. Now let $w^*$ be the weights found by the training process using fastai. We define our bayesian model for the wine quality $y$ with these equations:\n",
    "\n",
    "\n",
    "$$\\begin{align*}  y &\\sim \\text{Normal}(F(x | \\mathbf{w}), \\sigma^2) \\\\\n",
    "\\mathbf{w} &\\sim \\text{Normal}(w^*, \\lambda^2) \\\\\n",
    "\\sigma &\\sim \\text{Uniform}(0, 10)\n",
    "\\end{align*} \n",
    "$$\n"
   ]
  },
  {
   "cell_type": "markdown",
   "metadata": {
    "ExecuteTime": {
     "end_time": "2020-04-16T17:52:10.757817Z",
     "start_time": "2020-04-16T17:52:10.732818Z"
    }
   },
   "source": [
    "We extract tensors of numerical and categorical variables on the training set"
   ]
  },
  {
   "cell_type": "code",
   "execution_count": 18,
   "metadata": {
    "ExecuteTime": {
     "end_time": "2020-04-30T15:11:53.783627Z",
     "start_time": "2020-04-30T15:11:53.674705Z"
    }
   },
   "outputs": [
    {
     "data": {
      "text/plain": [
       "(tensor([[-0.5231,  0.9723, -1.3855,  ...,  1.2940, -0.5821, -0.9616],\n",
       "         [-0.2935,  1.9767, -1.3855,  ..., -0.7271,  0.1312, -0.5862],\n",
       "         [-0.2935,  1.3071, -1.1808,  ..., -0.3359, -0.0471, -0.5862],\n",
       "         ...,\n",
       "         [-1.1546, -0.0880, -0.7202,  ...,  0.7072,  0.5473,  0.5401],\n",
       "         [-1.3842,  0.6653, -0.7714,  ...,  1.6852,  0.3095, -0.2108],\n",
       "         [-1.3268, -1.2041,  1.0197,  ...,  0.5117,  0.0123,  0.5401]],\n",
       "        device='cuda:0'),\n",
       " tensor([], device='cuda:0', size=(1440, 0), dtype=torch.int64),\n",
       " tensor([5., 5., 5.,  ..., 6., 5., 6.], device='cuda:0'))"
      ]
     },
     "execution_count": 18,
     "metadata": {},
     "output_type": "execute_result"
    }
   ],
   "source": [
    "device = learn.dl.device\n",
    "\n",
    "x_num_train = torch.Tensor(learn.dls.dataset.conts.values).to(device, torch.float32)\n",
    "x_cat_train = torch.LongTensor(learn.dls.dataset.cats.values).to(device)\n",
    "y_train = torch.Tensor(learn.dls.dataset.y.values).to(device)\n",
    "x_num_train, x_cat_train, y_train"
   ]
  },
  {
   "cell_type": "code",
   "execution_count": 19,
   "metadata": {
    "ExecuteTime": {
     "end_time": "2020-04-30T15:11:56.665637Z",
     "start_time": "2020-04-30T15:11:56.640246Z"
    }
   },
   "outputs": [
    {
     "data": {
      "text/plain": [
       "torch.Size([1440, 1])"
      ]
     },
     "execution_count": 19,
     "metadata": {},
     "output_type": "execute_result"
    }
   ],
   "source": [
    "learn.model(x_cat_train, x_num_train).shape"
   ]
  },
  {
   "cell_type": "code",
   "execution_count": 20,
   "metadata": {
    "ExecuteTime": {
     "end_time": "2020-04-30T15:12:02.277684Z",
     "start_time": "2020-04-30T15:12:02.254694Z"
    }
   },
   "outputs": [],
   "source": [
    "one = torch.ones(1).to(device)\n",
    "zero = torch.ones(1).to(device)"
   ]
  },
  {
   "cell_type": "code",
   "execution_count": 63,
   "metadata": {
    "ExecuteTime": {
     "end_time": "2020-04-30T15:13:57.545403Z",
     "start_time": "2020-04-30T15:13:57.517138Z"
    }
   },
   "outputs": [],
   "source": [
    "batch_size = 1000\n",
    "scale = 0.01\n",
    "\n",
    "fastai_centered = True\n",
    "\n",
    "#original\n",
    "def model(x_cat, x_num, y=None):\n",
    "    \n",
    "    #define priors\n",
    "    priors = {}\n",
    "    for name, values in learn.model.named_parameters():\n",
    "        if fastai_centered:\n",
    "            loc = values\n",
    "        else:\n",
    "            loc = torch.zeros_like(values)\n",
    "            \n",
    "        priors[name] = dist.Normal(loc=loc, \n",
    "                                   scale=scale*torch.ones_like(values))\n",
    "        \n",
    "    \n",
    "    lifted_module = pyro.random_module(\"module\", learn.model, priors)\n",
    "    lifted_module_sample = lifted_module()\n",
    "    \n",
    "    preds = lifted_module_sample(x_cat, x_num).squeeze()\n",
    "    sigma = pyro.sample('sigma', dist.Uniform(zero, 10*one))\n",
    "    \n",
    "    #likelihood:\n",
    "    if y is not None:\n",
    "        with pyro.plate('observe_data', size=len(y), subsample_size=batch_size, device=device) as ind:\n",
    "            pyro.sample('obs', dist.Normal(preds.index_select(0, ind), sigma), \n",
    "                        obs=y.index_select(0, ind))\n",
    "    \n",
    "    return preds"
   ]
  },
  {
   "cell_type": "markdown",
   "metadata": {},
   "source": [
    "Every time we execute the following cell we are sampling from our prior distribution"
   ]
  },
  {
   "cell_type": "code",
   "execution_count": 64,
   "metadata": {
    "ExecuteTime": {
     "end_time": "2020-04-30T15:13:58.655243Z",
     "start_time": "2020-04-30T15:13:58.621238Z"
    }
   },
   "outputs": [
    {
     "data": {
      "text/plain": [
       "tensor([5.1349, 5.0311, 5.4099,  ..., 6.1730, 5.2209, 5.9399], device='cuda:0',\n",
       "       grad_fn=<SqueezeBackward0>)"
      ]
     },
     "execution_count": 64,
     "metadata": {},
     "output_type": "execute_result"
    }
   ],
   "source": [
    "model(x_cat_train, x_num_train, y_train)"
   ]
  },
  {
   "cell_type": "markdown",
   "metadata": {},
   "source": [
    "Lets see the distribution of this prior "
   ]
  },
  {
   "cell_type": "code",
   "execution_count": 65,
   "metadata": {
    "ExecuteTime": {
     "end_time": "2020-04-30T15:13:59.018548Z",
     "start_time": "2020-04-30T15:13:58.989516Z"
    }
   },
   "outputs": [],
   "source": [
    "y_numpy = y_train.cpu().detach().numpy().astype('int')\n",
    "y_df = pd.DataFrame({'y': y_numpy, 'wine_id': range(len(y_numpy))})\n",
    "nn_result = learn.model(x_cat_train, x_num_train).cpu().detach().numpy().flatten()\n",
    "nn_result_df = pd.DataFrame({'nn_prob': nn_result, 'wine_id': range(len(nn_result))})"
   ]
  },
  {
   "cell_type": "code",
   "execution_count": 66,
   "metadata": {
    "ExecuteTime": {
     "end_time": "2020-04-30T15:13:59.636197Z",
     "start_time": "2020-04-30T15:13:59.191447Z"
    }
   },
   "outputs": [
    {
     "data": {
      "text/html": [
       "<div>\n",
       "<style scoped>\n",
       "    .dataframe tbody tr th:only-of-type {\n",
       "        vertical-align: middle;\n",
       "    }\n",
       "\n",
       "    .dataframe tbody tr th {\n",
       "        vertical-align: top;\n",
       "    }\n",
       "\n",
       "    .dataframe thead th {\n",
       "        text-align: right;\n",
       "    }\n",
       "</style>\n",
       "<table border=\"1\" class=\"dataframe\">\n",
       "  <thead>\n",
       "    <tr style=\"text-align: right;\">\n",
       "      <th></th>\n",
       "      <th>wine_id</th>\n",
       "      <th>sample_number</th>\n",
       "      <th>pred</th>\n",
       "      <th>nn_prob</th>\n",
       "      <th>y</th>\n",
       "      <th>sampled_from</th>\n",
       "    </tr>\n",
       "  </thead>\n",
       "  <tbody>\n",
       "    <tr>\n",
       "      <th>0</th>\n",
       "      <td>0</td>\n",
       "      <td>0</td>\n",
       "      <td>4.930511</td>\n",
       "      <td>5.085609</td>\n",
       "      <td>5</td>\n",
       "      <td>prior</td>\n",
       "    </tr>\n",
       "    <tr>\n",
       "      <th>1</th>\n",
       "      <td>0</td>\n",
       "      <td>1</td>\n",
       "      <td>5.118774</td>\n",
       "      <td>5.085609</td>\n",
       "      <td>5</td>\n",
       "      <td>prior</td>\n",
       "    </tr>\n",
       "    <tr>\n",
       "      <th>2</th>\n",
       "      <td>0</td>\n",
       "      <td>2</td>\n",
       "      <td>5.113931</td>\n",
       "      <td>5.085609</td>\n",
       "      <td>5</td>\n",
       "      <td>prior</td>\n",
       "    </tr>\n",
       "    <tr>\n",
       "      <th>3</th>\n",
       "      <td>0</td>\n",
       "      <td>3</td>\n",
       "      <td>4.973938</td>\n",
       "      <td>5.085609</td>\n",
       "      <td>5</td>\n",
       "      <td>prior</td>\n",
       "    </tr>\n",
       "    <tr>\n",
       "      <th>4</th>\n",
       "      <td>0</td>\n",
       "      <td>4</td>\n",
       "      <td>5.057701</td>\n",
       "      <td>5.085609</td>\n",
       "      <td>5</td>\n",
       "      <td>prior</td>\n",
       "    </tr>\n",
       "  </tbody>\n",
       "</table>\n",
       "</div>"
      ],
      "text/plain": [
       "   wine_id  sample_number      pred   nn_prob  y sampled_from\n",
       "0        0              0  4.930511  5.085609  5        prior\n",
       "1        0              1  5.118774  5.085609  5        prior\n",
       "2        0              2  5.113931  5.085609  5        prior\n",
       "3        0              3  4.973938  5.085609  5        prior\n",
       "4        0              4  5.057701  5.085609  5        prior"
      ]
     },
     "execution_count": 66,
     "metadata": {},
     "output_type": "execute_result"
    }
   ],
   "source": [
    "n_samples = 100\n",
    "\n",
    "samples = np.array([model(x_cat_train, x_num_train, y_train).cpu().detach().numpy().flatten() for _ in range(n_samples)])\n",
    "samples = pd.DataFrame(samples.T)\n",
    "\n",
    "samples = (samples.stack().to_frame('pred')\n",
    "                          .reset_index()\n",
    "                          .rename(columns={'level_0': 'wine_id', 'level_1': 'sample_number'}))\n",
    "samples = pd.merge(samples, nn_result_df, how='left', on=['wine_id'])\n",
    "samples = pd.merge(samples, y_df, how='left', on=['wine_id'])\n",
    "samples['sampled_from'] = 'prior'\n",
    "samples.head()"
   ]
  },
  {
   "cell_type": "markdown",
   "metadata": {},
   "source": [
    "We plot de prior distribution of $P(x|\\mathbf{w})$ for two randomly choosen $x$, one for class 1 and one for class 0"
   ]
  },
  {
   "cell_type": "code",
   "execution_count": 67,
   "metadata": {
    "ExecuteTime": {
     "end_time": "2020-04-30T15:13:59.661782Z",
     "start_time": "2020-04-30T15:13:59.638117Z"
    }
   },
   "outputs": [],
   "source": [
    "def show_prior(samples):\n",
    "    wine_id = np.random.choice(samples.wine_id.unique())\n",
    "    preds = samples.query(f'wine_id == {wine_id}')\n",
    "    fig, axes, _ = sp.compare_cont_dists([preds], ['pred'], nbins=15)\n",
    "    axes[0][0].set_xlim(3, 8)\n",
    "    axes[0][0].vlines(preds.nn_prob.unique(), 0 , 5)"
   ]
  },
  {
   "cell_type": "code",
   "execution_count": 68,
   "metadata": {
    "ExecuteTime": {
     "end_time": "2020-04-30T15:14:00.481773Z",
     "start_time": "2020-04-30T15:13:59.778307Z"
    }
   },
   "outputs": [
    {
     "data": {
      "application/vnd.jupyter.widget-view+json": {
       "model_id": "bc1b6b617ccb40dfa92ac92ce12c2d45",
       "version_major": 2,
       "version_minor": 0
      },
      "text/plain": [
       "HBox(children=(FloatProgress(value=0.0, max=1.0), HTML(value='')))"
      ]
     },
     "metadata": {},
     "output_type": "display_data"
    },
    {
     "name": "stdout",
     "output_type": "stream",
     "text": [
      "\n"
     ]
    },
    {
     "data": {
      "application/vnd.jupyter.widget-view+json": {
       "model_id": "aa65257516c6475caa480d281512b8a0",
       "version_major": 2,
       "version_minor": 0
      },
      "text/plain": [
       "HBox(children=(FloatProgress(value=0.0, max=1.0), HTML(value='')))"
      ]
     },
     "metadata": {},
     "output_type": "display_data"
    },
    {
     "name": "stdout",
     "output_type": "stream",
     "text": [
      "\n"
     ]
    },
    {
     "data": {
      "image/png": "[encoded data removed]",
      "text/plain": [
       "<Figure size 1008x288 with 2 Axes>"
      ]
     },
     "metadata": {},
     "output_type": "display_data"
    }
   ],
   "source": [
    "show_prior(samples)"
   ]
  },
  {
   "cell_type": "markdown",
   "metadata": {},
   "source": [
    "#### Training"
   ]
  },
  {
   "cell_type": "code",
   "execution_count": 69,
   "metadata": {
    "ExecuteTime": {
     "end_time": "2020-04-30T15:14:00.510110Z",
     "start_time": "2020-04-30T15:14:00.485697Z"
    }
   },
   "outputs": [],
   "source": [
    "guide = AutoDiagonalNormal(model)"
   ]
  },
  {
   "cell_type": "code",
   "execution_count": 70,
   "metadata": {
    "ExecuteTime": {
     "end_time": "2020-04-30T15:14:00.535792Z",
     "start_time": "2020-04-30T15:14:00.511736Z"
    }
   },
   "outputs": [
    {
     "name": "stderr",
     "output_type": "stream",
     "text": [
      "/home/ubuntu/miniconda3/envs/spike_basicoV6/lib/python3.6/site-packages/pyro/infer/svi.py:53: FutureWarning: The `num_samples` argument to SVI is deprecated and will be removed in a future release. Use `pyro.infer.Predictive` class to draw samples from the posterior.\n",
      "  'samples from the posterior.', FutureWarning)\n"
     ]
    }
   ],
   "source": [
    "optim = Adam({\"lr\": 0.03})\n",
    "svi = SVI(model, guide, optim, loss=Trace_ELBO(), num_samples=1000)"
   ]
  },
  {
   "cell_type": "code",
   "execution_count": 71,
   "metadata": {
    "ExecuteTime": {
     "end_time": "2020-04-30T15:14:14.144562Z",
     "start_time": "2020-04-30T15:14:00.634621Z"
    },
    "scrolled": false
   },
   "outputs": [
    {
     "name": "stderr",
     "output_type": "stream",
     "text": [
      "/home/ubuntu/miniconda3/envs/spike_basicoV6/lib/python3.6/site-packages/pyro/primitives.py:406: FutureWarning: The `random_module` primitive is deprecated, and will be removed in a future release. Use `pyro.nn.Module` to create Bayesian modules from `torch.nn.Module` instances.\n",
      "  \"modules from `torch.nn.Module` instances.\", FutureWarning)\n"
     ]
    },
    {
     "name": "stdout",
     "output_type": "stream",
     "text": [
      "[iteration 0001] loss: 6209525.5081\n",
      "[iteration 0101] loss: 726820.7499\n",
      "[iteration 0201] loss: 279293.9408\n",
      "[iteration 0301] loss: 153042.2142\n",
      "[iteration 0401] loss: 100704.8629\n",
      "[iteration 0501] loss: 77324.1536\n",
      "[iteration 0601] loss: 63985.5493\n",
      "[iteration 0701] loss: 57734.1106\n",
      "[iteration 0801] loss: 54082.1434\n",
      "[iteration 0901] loss: 52382.4735\n"
     ]
    }
   ],
   "source": [
    "pyro.clear_param_store()\n",
    "num_iterations = 1000\n",
    "loss_list = []\n",
    "\n",
    "for j in range(num_iterations):\n",
    "    # calculate the loss and take a gradient step\n",
    "    loss = svi.step(x_cat_train, x_num_train, y_train)\n",
    "    loss_list += [loss]\n",
    "    if j % 100 == 0:\n",
    "        print(\"[iteration %04d] loss: %.4f\" % (j + 1, loss))"
   ]
  },
  {
   "cell_type": "code",
   "execution_count": 72,
   "metadata": {
    "ExecuteTime": {
     "end_time": "2020-04-30T15:14:14.366639Z",
     "start_time": "2020-04-30T15:14:14.146408Z"
    }
   },
   "outputs": [
    {
     "data": {
      "image/png": "[encoded data removed]",
      "text/plain": [
       "<Figure size 576x396 with 1 Axes>"
      ]
     },
     "metadata": {},
     "output_type": "display_data"
    }
   ],
   "source": [
    "iter_min = 0\n",
    "plt.plot(np.array(loss_list[iter_min:]))\n",
    "plt.xlabel('iterations')\n",
    "plt.ylabel('loss');"
   ]
  },
  {
   "cell_type": "markdown",
   "metadata": {},
   "source": [
    "#### Predict"
   ]
  },
  {
   "cell_type": "markdown",
   "metadata": {},
   "source": [
    "We sample from the posterior distribution of $P(x|\\mathbf{w})$"
   ]
  },
  {
   "cell_type": "code",
   "execution_count": 73,
   "metadata": {
    "ExecuteTime": {
     "end_time": "2020-04-30T15:14:14.891139Z",
     "start_time": "2020-04-30T15:14:14.368402Z"
    },
    "scrolled": false
   },
   "outputs": [
    {
     "name": "stderr",
     "output_type": "stream",
     "text": [
      "/home/ubuntu/miniconda3/envs/spike_basicoV6/lib/python3.6/site-packages/pyro/primitives.py:406: FutureWarning: The `random_module` primitive is deprecated, and will be removed in a future release. Use `pyro.nn.Module` to create Bayesian modules from `torch.nn.Module` instances.\n",
      "  \"modules from `torch.nn.Module` instances.\", FutureWarning)\n"
     ]
    }
   ],
   "source": [
    "df_valid = df.query('is_valid==0').copy()\n",
    "valid_post = get_predictions_pyro(model, guide, df_valid, n_samples=100)['_RETURN']"
   ]
  },
  {
   "cell_type": "code",
   "execution_count": 74,
   "metadata": {
    "ExecuteTime": {
     "end_time": "2020-04-30T15:14:14.917759Z",
     "start_time": "2020-04-30T15:14:14.893101Z"
    }
   },
   "outputs": [],
   "source": [
    "df_valid['mean_prob_post'] = valid_post.mean(axis=0)"
   ]
  },
  {
   "cell_type": "code",
   "execution_count": 75,
   "metadata": {
    "ExecuteTime": {
     "end_time": "2020-04-30T15:14:15.171770Z",
     "start_time": "2020-04-30T15:14:14.920248Z"
    },
    "scrolled": true
   },
   "outputs": [
    {
     "data": {
      "text/plain": [
       "<matplotlib.axes._subplots.AxesSubplot at 0x7f0d89f2b668>"
      ]
     },
     "execution_count": 75,
     "metadata": {},
     "output_type": "execute_result"
    },
    {
     "data": {
      "image/png": "[encoded data removed]",
      "text/plain": [
       "<Figure size 576x396 with 1 Axes>"
      ]
     },
     "metadata": {},
     "output_type": "display_data"
    }
   ],
   "source": [
    "sn.scatterplot(x='prediction', y='mean_prob_post', data=df_valid, alpha=0.2)"
   ]
  },
  {
   "cell_type": "code",
   "execution_count": 76,
   "metadata": {
    "ExecuteTime": {
     "end_time": "2020-04-30T15:14:15.237333Z",
     "start_time": "2020-04-30T15:14:15.173675Z"
    }
   },
   "outputs": [
    {
     "data": {
      "text/html": [
       "<div>\n",
       "<style scoped>\n",
       "    .dataframe tbody tr th:only-of-type {\n",
       "        vertical-align: middle;\n",
       "    }\n",
       "\n",
       "    .dataframe tbody tr th {\n",
       "        vertical-align: top;\n",
       "    }\n",
       "\n",
       "    .dataframe thead th {\n",
       "        text-align: right;\n",
       "    }\n",
       "</style>\n",
       "<table border=\"1\" class=\"dataframe\">\n",
       "  <thead>\n",
       "    <tr style=\"text-align: right;\">\n",
       "      <th></th>\n",
       "      <th>wine_id</th>\n",
       "      <th>sample_number</th>\n",
       "      <th>pred</th>\n",
       "      <th>nn_prob</th>\n",
       "      <th>y</th>\n",
       "      <th>sampled_from</th>\n",
       "    </tr>\n",
       "  </thead>\n",
       "  <tbody>\n",
       "    <tr>\n",
       "      <th>0</th>\n",
       "      <td>0</td>\n",
       "      <td>0</td>\n",
       "      <td>4.666065</td>\n",
       "      <td>5.085609</td>\n",
       "      <td>5</td>\n",
       "      <td>posterior</td>\n",
       "    </tr>\n",
       "    <tr>\n",
       "      <th>1</th>\n",
       "      <td>0</td>\n",
       "      <td>1</td>\n",
       "      <td>4.558671</td>\n",
       "      <td>5.085609</td>\n",
       "      <td>5</td>\n",
       "      <td>posterior</td>\n",
       "    </tr>\n",
       "    <tr>\n",
       "      <th>2</th>\n",
       "      <td>0</td>\n",
       "      <td>2</td>\n",
       "      <td>4.734515</td>\n",
       "      <td>5.085609</td>\n",
       "      <td>5</td>\n",
       "      <td>posterior</td>\n",
       "    </tr>\n",
       "    <tr>\n",
       "      <th>3</th>\n",
       "      <td>0</td>\n",
       "      <td>3</td>\n",
       "      <td>4.901295</td>\n",
       "      <td>5.085609</td>\n",
       "      <td>5</td>\n",
       "      <td>posterior</td>\n",
       "    </tr>\n",
       "    <tr>\n",
       "      <th>4</th>\n",
       "      <td>0</td>\n",
       "      <td>4</td>\n",
       "      <td>4.614262</td>\n",
       "      <td>5.085609</td>\n",
       "      <td>5</td>\n",
       "      <td>posterior</td>\n",
       "    </tr>\n",
       "  </tbody>\n",
       "</table>\n",
       "</div>"
      ],
      "text/plain": [
       "   wine_id  sample_number      pred   nn_prob  y sampled_from\n",
       "0        0              0  4.666065  5.085609  5    posterior\n",
       "1        0              1  4.558671  5.085609  5    posterior\n",
       "2        0              2  4.734515  5.085609  5    posterior\n",
       "3        0              3  4.901295  5.085609  5    posterior\n",
       "4        0              4  4.614262  5.085609  5    posterior"
      ]
     },
     "execution_count": 76,
     "metadata": {},
     "output_type": "execute_result"
    }
   ],
   "source": [
    "samples_post = pd.DataFrame(valid_post.squeeze().T)\n",
    "\n",
    "samples_post = (samples_post.stack().to_frame('pred')\n",
    "                          .reset_index()\n",
    "                          .rename(columns={'level_0': 'wine_id', 'level_1': 'sample_number'}))\n",
    "samples_post = pd.merge(samples_post, nn_result_df, how='left', on=['wine_id'])\n",
    "samples_post = pd.merge(samples_post, y_df, how='left', on=['wine_id'])\n",
    "samples_post['sampled_from'] = 'posterior'\n",
    "samples_post.head()"
   ]
  },
  {
   "cell_type": "code",
   "execution_count": 77,
   "metadata": {
    "ExecuteTime": {
     "end_time": "2020-04-30T15:14:15.273504Z",
     "start_time": "2020-04-30T15:14:15.239172Z"
    }
   },
   "outputs": [],
   "source": [
    "samples_pp = pd.concat([samples, samples_post])"
   ]
  },
  {
   "cell_type": "code",
   "execution_count": 78,
   "metadata": {
    "ExecuteTime": {
     "end_time": "2020-04-30T15:14:15.299192Z",
     "start_time": "2020-04-30T15:14:15.275320Z"
    }
   },
   "outputs": [],
   "source": [
    "def show_prior_and_post(samples):\n",
    "    wine_id = np.random.choice(samples.wine_id.unique())\n",
    "    preds = samples.query(f'wine_id == {wine_id}')\n",
    "    fig, axes, _ = sp.compare_cont_dists([preds], ['pred'], groupby='sampled_from', \n",
    "                                         nbins=15)\n",
    "    axes[0][0].set_xlim(3, 8)\n",
    "    axes[0][0].vlines(preds.nn_prob.unique(), 0 , 5)"
   ]
  },
  {
   "cell_type": "code",
   "execution_count": 86,
   "metadata": {
    "ExecuteTime": {
     "end_time": "2020-04-30T15:14:40.300020Z",
     "start_time": "2020-04-30T15:14:39.527332Z"
    }
   },
   "outputs": [
    {
     "data": {
      "application/vnd.jupyter.widget-view+json": {
       "model_id": "3061f6b77af24dd3abf94724a21bb438",
       "version_major": 2,
       "version_minor": 0
      },
      "text/plain": [
       "HBox(children=(FloatProgress(value=0.0, max=1.0), HTML(value='')))"
      ]
     },
     "metadata": {},
     "output_type": "display_data"
    },
    {
     "name": "stdout",
     "output_type": "stream",
     "text": [
      "\n"
     ]
    },
    {
     "data": {
      "application/vnd.jupyter.widget-view+json": {
       "model_id": "3edfbb9dd904449cb41c819939919e5c",
       "version_major": 2,
       "version_minor": 0
      },
      "text/plain": [
       "HBox(children=(FloatProgress(value=0.0, max=1.0), HTML(value='')))"
      ]
     },
     "metadata": {},
     "output_type": "display_data"
    },
    {
     "name": "stdout",
     "output_type": "stream",
     "text": [
      "\n"
     ]
    },
    {
     "data": {
      "image/png": "[encoded data removed]",
      "text/plain": [
       "<Figure size 1008x288 with 2 Axes>"
      ]
     },
     "metadata": {},
     "output_type": "display_data"
    }
   ],
   "source": [
    "show_prior_and_post(samples_pp)"
   ]
  },
  {
   "cell_type": "code",
   "execution_count": null,
   "metadata": {},
   "outputs": [],
   "source": []
  },
  {
   "cell_type": "code",
   "execution_count": null,
   "metadata": {},
   "outputs": [],
   "source": []
  }
 ],
 "metadata": {
  "kernelspec": {
   "display_name": "Python [conda env:spike_basicoV6]",
   "language": "python",
   "name": "conda-env-spike_basicoV6-py"
  },
  "language_info": {
   "codemirror_mode": {
    "name": "ipython",
    "version": 3
   },
   "file_extension": ".py",
   "mimetype": "text/x-python",
   "name": "python",
   "nbconvert_exporter": "python",
   "pygments_lexer": "ipython3",
   "version": "3.6.10"
  },
  "toc": {
   "base_numbering": 1,
   "nav_menu": {},
   "number_sections": true,
   "sideBar": true,
   "skip_h1_title": false,
   "title_cell": "Table of Contents",
   "title_sidebar": "Contents",
   "toc_cell": false,
   "toc_position": {
    "height": "calc(100% - 180px)",
    "left": "10px",
    "top": "150px",
    "width": "273px"
   },
   "toc_section_display": true,
   "toc_window_display": true
  }
 },
 "nbformat": 4,
 "nbformat_minor": 2
}

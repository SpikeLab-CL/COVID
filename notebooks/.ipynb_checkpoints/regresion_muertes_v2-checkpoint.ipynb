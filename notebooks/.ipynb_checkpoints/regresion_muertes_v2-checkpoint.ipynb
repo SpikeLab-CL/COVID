{
 "cells": [
  {
   "cell_type": "code",
   "execution_count": 21,
   "metadata": {
    "ExecuteTime": {
     "end_time": "2020-06-11T01:53:40.671140Z",
     "start_time": "2020-06-11T01:53:39.951742Z"
    }
   },
   "outputs": [
    {
     "name": "stdout",
     "output_type": "stream",
     "text": [
      "Checking whether there is an H2O instance running at http://localhost:54321 . connected.\n"
     ]
    },
    {
     "data": {
      "text/html": [
       "<div style=\"overflow:auto\"><table style=\"width:50%\"><tr><td>H2O cluster uptime:</td>\n",
       "<td>6 hours 58 mins</td></tr>\n",
       "<tr><td>H2O cluster timezone:</td>\n",
       "<td>Etc/UTC</td></tr>\n",
       "<tr><td>H2O data parsing timezone:</td>\n",
       "<td>UTC</td></tr>\n",
       "<tr><td>H2O cluster version:</td>\n",
       "<td>3.28.1.2</td></tr>\n",
       "<tr><td>H2O cluster version age:</td>\n",
       "<td>2 months and 24 days </td></tr>\n",
       "<tr><td>H2O cluster name:</td>\n",
       "<td>H2O_from_python_ubuntu_6qpe0k</td></tr>\n",
       "<tr><td>H2O cluster total nodes:</td>\n",
       "<td>1</td></tr>\n",
       "<tr><td>H2O cluster free memory:</td>\n",
       "<td>3.713 Gb</td></tr>\n",
       "<tr><td>H2O cluster total cores:</td>\n",
       "<td>8</td></tr>\n",
       "<tr><td>H2O cluster allowed cores:</td>\n",
       "<td>8</td></tr>\n",
       "<tr><td>H2O cluster status:</td>\n",
       "<td>locked, healthy</td></tr>\n",
       "<tr><td>H2O connection url:</td>\n",
       "<td>http://localhost:54321</td></tr>\n",
       "<tr><td>H2O connection proxy:</td>\n",
       "<td>{'http': None, 'https': None}</td></tr>\n",
       "<tr><td>H2O internal security:</td>\n",
       "<td>False</td></tr>\n",
       "<tr><td>H2O API Extensions:</td>\n",
       "<td>Amazon S3, XGBoost, Algos, AutoML, Core V3, TargetEncoder, Core V4</td></tr>\n",
       "<tr><td>Python version:</td>\n",
       "<td>3.6.10 final</td></tr></table></div>"
      ],
      "text/plain": [
       "--------------------------  ------------------------------------------------------------------\n",
       "H2O cluster uptime:         6 hours 58 mins\n",
       "H2O cluster timezone:       Etc/UTC\n",
       "H2O data parsing timezone:  UTC\n",
       "H2O cluster version:        3.28.1.2\n",
       "H2O cluster version age:    2 months and 24 days\n",
       "H2O cluster name:           H2O_from_python_ubuntu_6qpe0k\n",
       "H2O cluster total nodes:    1\n",
       "H2O cluster free memory:    3.713 Gb\n",
       "H2O cluster total cores:    8\n",
       "H2O cluster allowed cores:  8\n",
       "H2O cluster status:         locked, healthy\n",
       "H2O connection url:         http://localhost:54321\n",
       "H2O connection proxy:       {'http': None, 'https': None}\n",
       "H2O internal security:      False\n",
       "H2O API Extensions:         Amazon S3, XGBoost, Algos, AutoML, Core V3, TargetEncoder, Core V4\n",
       "Python version:             3.6.10 final\n",
       "--------------------------  ------------------------------------------------------------------"
      ]
     },
     "metadata": {},
     "output_type": "display_data"
    }
   ],
   "source": [
    "import h2o\n",
    "import pandas as pd\n",
    "from h2o.estimators.gbm import H2OGradientBoostingEstimator\n",
    "from h2o.automl import H2OAutoML\n",
    "import numpy as np\n",
    "import plotly.express as px\n",
    "\n",
    "H2O_server = h2o.init(port=54321, nthreads=-1)\n",
    "h2o.remove_all() \n",
    "\n",
    "PID = 'covid-spike'"
   ]
  },
  {
   "cell_type": "code",
   "execution_count": 2,
   "metadata": {
    "ExecuteTime": {
     "end_time": "2020-06-10T19:28:31.790324Z",
     "start_time": "2020-06-10T19:28:29.154741Z"
    }
   },
   "outputs": [
    {
     "name": "stderr",
     "output_type": "stream",
     "text": [
      "Downloading: 100%|██████████| 1056/1056 [00:01<00:00, 849.74rows/s] \n"
     ]
    }
   ],
   "source": [
    "sql = \"\"\"\n",
    "SELECT *\n",
    "FROM reportes_minsal.consolidado_region\n",
    "\"\"\"\n",
    "df = pd.read_gbq(sql, \n",
    "                 project_id=PID, use_bqstorage_api=True)\n",
    "df['fecha'] = pd.to_datetime(df['fecha'])\n",
    "df.sort_values(by=['Region', 'fecha'], inplace=True)"
   ]
  },
  {
   "cell_type": "code",
   "execution_count": 3,
   "metadata": {
    "ExecuteTime": {
     "end_time": "2020-06-10T19:28:33.554140Z",
     "start_time": "2020-06-10T19:28:31.792478Z"
    }
   },
   "outputs": [
    {
     "name": "stderr",
     "output_type": "stream",
     "text": [
      "Downloading: 100%|██████████| 346/346 [00:01<00:00, 295.56rows/s]\n"
     ]
    }
   ],
   "source": [
    "sql = \"\"\"\n",
    "SELECT * EXCEPT(nom_region, region),\n",
    "       nom_region AS region\n",
    "FROM censo_2017.poblacion_region_comuna\n",
    "\"\"\"\n",
    "censo = pd.read_gbq(sql, project_id=PID,use_bqstorage_api=True)\n",
    "censo.rename(columns=lambda x: x.lower(), inplace=True)\n",
    "censo.rename(columns= lambda x: x.replace('__', '_'), inplace=True)\n",
    "replace_region = {'REGIÓN DE ARICA Y PARINACOTA': 'Arica y Parinacota',\n",
    "                  'REGIÓN DE TARAPACÁ': 'Tarapacá',\n",
    "                  'REGIÓN DE ANTOFAGASTA': 'Antofagasta',\n",
    "                  'REGIÓN DE ATACAMA': 'Atacama',\n",
    "                  'REGIÓN DE COQUIMBO': 'Coquimbo',\n",
    "                  'REGIÓN DE VALPARAÍSO': 'Valparaíso',\n",
    "                  'REGIÓN METROPOLITANA DE SANTIAGO': 'Metropolitana',\n",
    "                  \"REGIÓN DEL LIBERTADOR GENERAL BERNARDO O'HIGGINS\": 'O’Higgins',\n",
    "                  'REGIÓN DEL MAULE': 'Maule',\n",
    "                  'REGIÓN DEL ÑUBLE': 'Ñuble',\n",
    "                  'REGIÓN DEL BIOBÍO':'Biobío',\n",
    "                  'REGIÓN DE LA ARAUCANÍA': 'Araucanía',\n",
    "                  'REGIÓN DE LOS RÍOS': 'Los Ríos',\n",
    "                  'REGIÓN DE LOS LAGOS': 'Los Lagos',\n",
    "                  'REGIÓN DE AYSÉN DEL GENERAL CARLOS IBÁÑEZ DEL CAMPO': 'Aysén',\n",
    "                  'REGIÓN DE MAGALLANES Y DE LA ANTÁRTICA CHILENA': 'Magallanes'}\n",
    "censo['region'] = censo['region'].replace(replace_region)"
   ]
  },
  {
   "cell_type": "code",
   "execution_count": 4,
   "metadata": {
    "ExecuteTime": {
     "end_time": "2020-06-10T19:28:33.577477Z",
     "start_time": "2020-06-10T19:28:33.556043Z"
    }
   },
   "outputs": [],
   "source": [
    "sum_cols = ['total_vivi',\n",
    "            'particular',\n",
    "            'colectivas',\n",
    "            'hombres',\n",
    "            'mujeres']\n",
    "\n",
    "mean_cols = ['indice_mas', 'indice_dep', 'ind_dep_ju', 'ind_dep_ve']\n",
    "\n",
    "censo_region = (pd.concat([censo.groupby('region')[sum_cols].sum(), censo.groupby('region')[mean_cols].mean()],\n",
    "                  axis=1).reset_index())\n",
    "\n",
    "sum_hombres_mujeres = censo_region[['hombres', 'mujeres']].sum(axis=1)\n",
    "censo_region['hombres'] = censo_region['hombres']/sum_hombres_mujeres\n",
    "censo_region['mujeres'] = censo_region['mujeres']/sum_hombres_mujeres"
   ]
  },
  {
   "cell_type": "code",
   "execution_count": 5,
   "metadata": {
    "ExecuteTime": {
     "end_time": "2020-06-10T19:28:33.584265Z",
     "start_time": "2020-06-10T19:28:33.580925Z"
    }
   },
   "outputs": [],
   "source": [
    "cols_lag15 = ['retail_and_recreation_percent_change_from_baseline',\n",
    "             'grocery_and_pharmacy_percent_change_from_baseline',\n",
    "             'parks_percent_change_from_baseline',\n",
    "             'transit_stations_percent_change_from_baseline',\n",
    "             'workplaces_percent_change_from_baseline',\n",
    "             'residential_percent_change_from_baseline',\n",
    "             'casos_totales_acum', 'test_positivo']\n",
    "cols_lag7 = ['CFR_9d', 'ln_mediamovil_7d_muertes_acum', \n",
    "             'var_percent_muertes_acum', 'CAGR_muertes_acum_9d']"
   ]
  },
  {
   "cell_type": "code",
   "execution_count": 6,
   "metadata": {
    "ExecuteTime": {
     "end_time": "2020-06-10T19:28:33.590385Z",
     "start_time": "2020-06-10T19:28:33.586244Z"
    }
   },
   "outputs": [],
   "source": [
    "def get_lags(df, cols, lags):\n",
    "    return df.groupby('Region')[cols].shift(lags).rename(columns={c:c+f'_lag{lags}' for c in cols})"
   ]
  },
  {
   "cell_type": "code",
   "execution_count": 7,
   "metadata": {
    "ExecuteTime": {
     "end_time": "2020-06-10T19:28:33.609664Z",
     "start_time": "2020-06-10T19:28:33.592151Z"
    }
   },
   "outputs": [],
   "source": [
    "df_lag15 = get_lags(df, cols_lag15, 15)\n",
    "df_lag7 = get_lags(df, cols_lag7, 7)\n",
    "\n",
    "df = pd.concat([df, df_lag15, df_lag7], axis=1)"
   ]
  },
  {
   "cell_type": "code",
   "execution_count": 8,
   "metadata": {
    "ExecuteTime": {
     "end_time": "2020-06-10T19:28:33.616396Z",
     "start_time": "2020-06-10T19:28:33.611347Z"
    }
   },
   "outputs": [
    {
     "data": {
      "text/plain": [
       "['CAGR_muertes_acum_9d',\n",
       " 'CAGR_muertes_acum_9d_lag7',\n",
       " 'CFR_9d',\n",
       " 'CFR_9d_lag7',\n",
       " 'PCR',\n",
       " 'PCR_percapita',\n",
       " 'Region',\n",
       " 'UCI',\n",
       " 'casos_totales_acum',\n",
       " 'casos_totales_acum_lag15',\n",
       " 'defunciones',\n",
       " 'fecha',\n",
       " 'grocery_and_pharmacy_percent_change_from_baseline',\n",
       " 'grocery_and_pharmacy_percent_change_from_baseline_lag15',\n",
       " 'ln_mediamovil_7d_UCI',\n",
       " 'ln_mediamovil_7d_muertes_acum',\n",
       " 'ln_mediamovil_7d_muertes_acum_lag7',\n",
       " 'muertes_acum',\n",
       " 'nuevos_casos_acumulados',\n",
       " 'nuevos_casos_con_sintomas',\n",
       " 'nuevos_casos_sin_sintomas',\n",
       " 'parks_percent_change_from_baseline',\n",
       " 'parks_percent_change_from_baseline_lag15',\n",
       " 'residential_percent_change_from_baseline',\n",
       " 'residential_percent_change_from_baseline_lag15',\n",
       " 'retail_and_recreation_percent_change_from_baseline',\n",
       " 'retail_and_recreation_percent_change_from_baseline_lag15',\n",
       " 'test_positivo',\n",
       " 'test_positivo_lag15',\n",
       " 'transit_stations_percent_change_from_baseline',\n",
       " 'transit_stations_percent_change_from_baseline_lag15',\n",
       " 'var_percent_muertes_acum',\n",
       " 'var_percent_muertes_acum_lag7',\n",
       " 'workplaces_percent_change_from_baseline',\n",
       " 'workplaces_percent_change_from_baseline_lag15']"
      ]
     },
     "execution_count": 8,
     "metadata": {},
     "output_type": "execute_result"
    }
   ],
   "source": [
    "columns = list(df.columns)\n",
    "columns.sort()\n",
    "columns"
   ]
  },
  {
   "cell_type": "code",
   "execution_count": 9,
   "metadata": {
    "ExecuteTime": {
     "end_time": "2020-06-10T19:28:33.622216Z",
     "start_time": "2020-06-10T19:28:33.618114Z"
    }
   },
   "outputs": [],
   "source": [
    "numeric = ['CAGR_muertes_acum_9d_lag7', 'CFR_9d_lag7', 'casos_totales_acum_lag15', \n",
    "           'grocery_and_pharmacy_percent_change_from_baseline_lag15', 'ln_mediamovil_7d_muertes_acum_lag7',\n",
    "           'parks_percent_change_from_baseline_lag15', 'residential_percent_change_from_baseline_lag15',\n",
    "           'retail_and_recreation_percent_change_from_baseline_lag15', 'test_positivo_lag15', \n",
    "           'transit_stations_percent_change_from_baseline_lag15', 'var_percent_muertes_acum_lag7', \n",
    "           'workplaces_percent_change_from_baseline_lag15']\n",
    "\n",
    "categs = ['Region']\n",
    "target = 'ln_mediamovil_7d_muertes_acum'\n",
    "\n",
    "features = numeric + categs"
   ]
  },
  {
   "cell_type": "code",
   "execution_count": 10,
   "metadata": {
    "ExecuteTime": {
     "end_time": "2020-06-10T19:28:33.630629Z",
     "start_time": "2020-06-10T19:28:33.624058Z"
    }
   },
   "outputs": [
    {
     "data": {
      "text/plain": [
       "66"
      ]
     },
     "execution_count": 10,
     "metadata": {},
     "output_type": "execute_result"
    }
   ],
   "source": [
    "fechas = df.fecha.unique()\n",
    "fechas_str = [np.datetime_as_string(f, unit='D') for f in fechas]\n",
    "len(fechas)"
   ]
  },
  {
   "cell_type": "code",
   "execution_count": 11,
   "metadata": {
    "ExecuteTime": {
     "end_time": "2020-06-10T19:28:33.636304Z",
     "start_time": "2020-06-10T19:28:33.632163Z"
    }
   },
   "outputs": [],
   "source": [
    "df['is_test'] = 1"
   ]
  },
  {
   "cell_type": "code",
   "execution_count": null,
   "metadata": {
    "ExecuteTime": {
     "start_time": "2020-06-10T19:28:28.585Z"
    }
   },
   "outputs": [
    {
     "name": "stdout",
     "output_type": "stream",
     "text": [
      "Parse progress: |█████████████████████████████████████████████████████████| 100%\n",
      "Parse progress: |█████████████████████████████████████████████████████████| 100%\n",
      "AutoML progress: |████████████████████████████████████████████████████████| 100%\n",
      "gbm prediction progress: |████████████████████████████████████████████████| 100%\n",
      "Parse progress: |█████████████████████████████████████████████████████████| 100%\n",
      "Parse progress: |█████████████████████████████████████████████████████████| 100%\n",
      "AutoML progress: |████████████████████████████████████████████████████████| 100%\n",
      "gbm prediction progress: |████████████████████████████████████████████████| 100%\n",
      "Parse progress: |█████████████████████████████████████████████████████████| 100%\n",
      "Parse progress: |█████████████████████████████████████████████████████████| 100%\n",
      "AutoML progress: |████████████████████████████████████████████████████████| 100%\n",
      "gbm prediction progress: |████████████████████████████████████████████████| 100%\n",
      "Parse progress: |█████████████████████████████████████████████████████████| 100%\n",
      "Parse progress: |█████████████████████████████████████████████████████████| 100%\n",
      "AutoML progress: |████████████████████████████████████████████████████████| 100%\n",
      "gbm prediction progress: |████████████████████████████████████████████████| 100%\n",
      "Parse progress: |█████████████████████████████████████████████████████████| 100%\n",
      "Parse progress: |█████████████████████████████████████████████████████████| 100%\n",
      "AutoML progress: |████████████████████████████████████████████████████████| 100%\n",
      "gbm prediction progress: |████████████████████████████████████████████████| 100%\n",
      "Parse progress: |█████████████████████████████████████████████████████████| 100%\n",
      "Parse progress: |█████████████████████████████████████████████████████████| 100%\n",
      "AutoML progress: |████████████████████████████████████████████████████████| 100%\n",
      "gbm prediction progress: |████████████████████████████████████████████████| 100%\n",
      "Parse progress: |█████████████████████████████████████████████████████████| 100%\n",
      "Parse progress: |█████████████████████████████████████████████████████████| 100%\n",
      "AutoML progress: |████████████████████████████████████████████████████████| 100%\n",
      "gbm prediction progress: |████████████████████████████████████████████████| 100%\n",
      "Parse progress: |█████████████████████████████████████████████████████████| 100%\n",
      "Parse progress: |█████████████████████████████████████████████████████████| 100%\n",
      "AutoML progress: |████████████████████████████████████████████████████████| 100%\n",
      "gbm prediction progress: |████████████████████████████████████████████████| 100%\n",
      "Parse progress: |█████████████████████████████████████████████████████████| 100%\n",
      "Parse progress: |█████████████████████████████████████████████████████████| 100%\n",
      "AutoML progress: |████████████████████████████████████████████████████████| 100%\n",
      "gbm prediction progress: |████████████████████████████████████████████████| 100%\n",
      "Parse progress: |█████████████████████████████████████████████████████████| 100%\n",
      "Parse progress: |█████████████████████████████████████████████████████████| 100%\n",
      "AutoML progress: |████████████████████████████████████████████████████████| 100%\n",
      "gbm prediction progress: |████████████████████████████████████████████████| 100%\n",
      "Parse progress: |█████████████████████████████████████████████████████████| 100%\n",
      "Parse progress: |█████████████████████████████████████████████████████████| 100%\n",
      "AutoML progress: |████████████████████████████████████████████████████████| 100%\n",
      "gbm prediction progress: |████████████████████████████████████████████████| 100%\n",
      "Parse progress: |█████████████████████████████████████████████████████████| 100%\n",
      "Parse progress: |█████████████████████████████████████████████████████████| 100%\n",
      "AutoML progress: |████████████████████████████████████████████████████████| 100%\n",
      "gbm prediction progress: |████████████████████████████████████████████████| 100%\n",
      "Parse progress: |█████████████████████████████████████████████████████████| 100%\n",
      "Parse progress: |█████████████████████████████████████████████████████████| 100%\n",
      "AutoML progress: |████████████████████████████████████████████████████████| 100%\n",
      "gbm prediction progress: |████████████████████████████████████████████████| 100%\n",
      "Parse progress: |█████████████████████████████████████████████████████████| 100%\n",
      "Parse progress: |█████████████████████████████████████████████████████████| 100%\n",
      "AutoML progress: |████████████████████████████████████████████████████████| 100%\n",
      "gbm prediction progress: |████████████████████████████████████████████████| 100%\n",
      "Parse progress: |█████████████████████████████████████████████████████████| 100%\n",
      "Parse progress: |█████████████████████████████████████████████████████████| 100%\n",
      "AutoML progress: |████████████████████████████████████████████████████████| 100%\n",
      "gbm prediction progress: |████████████████████████████████████████████████| 100%\n",
      "Parse progress: |█████████████████████████████████████████████████████████| 100%\n",
      "Parse progress: |█████████████████████████████████████████████████████████| 100%\n",
      "AutoML progress: |████████████████████████████████████████████████████████| 100%\n",
      "gbm prediction progress: |████████████████████████████████████████████████| 100%\n",
      "Parse progress: |█████████████████████████████████████████████████████████| 100%\n",
      "Parse progress: |█████████████████████████████████████████████████████████| 100%\n",
      "AutoML progress: |████████████████████████████████████████████████████████| 100%\n",
      "gbm prediction progress: |████████████████████████████████████████████████| 100%\n",
      "Parse progress: |█████████████████████████████████████████████████████████| 100%\n",
      "Parse progress: |█████████████████████████████████████████████████████████| 100%\n",
      "AutoML progress: |████████████████████████████████████████████████████████| 100%\n",
      "gbm prediction progress: |████████████████████████████████████████████████| 100%\n",
      "Parse progress: |█████████████████████████████████████████████████████████| 100%\n",
      "Parse progress: |█████████████████████████████████████████████████████████| 100%\n",
      "AutoML progress: |████████████████████████████████████████████████████████| 100%\n",
      "gbm prediction progress: |████████████████████████████████████████████████| 100%\n",
      "Parse progress: |█████████████████████████████████████████████████████████| 100%\n",
      "Parse progress: |█████████████████████████████████████████████████████████| 100%\n",
      "AutoML progress: |████████████████████████████████████████████████████████| 100%\n",
      "gbm prediction progress: |████████████████████████████████████████████████| 100%\n",
      "Parse progress: |█████████████████████████████████████████████████████████| 100%\n",
      "Parse progress: |█████████████████████████████████████████████████████████| 100%\n",
      "AutoML progress: |████████████████████████████████████████████████████████| 100%\n",
      "gbm prediction progress: |████████████████████████████████████████████████| 100%\n",
      "Parse progress: |█████████████████████████████████████████████████████████| 100%\n",
      "Parse progress: |█████████████████████████████████████████████████████████| 100%\n",
      "AutoML progress: |████████████████████████████████████████████████████████| 100%\n",
      "gbm prediction progress: |████████████████████████████████████████████████| 100%\n",
      "Parse progress: |█████████████████████████████████████████████████████████| 100%\n",
      "Parse progress: |█████████████████████████████████████████████████████████| 100%\n",
      "AutoML progress: |████████████████████████████████████████████████████████| 100%\n",
      "gbm prediction progress: |████████████████████████████████████████████████| 100%\n",
      "Parse progress: |█████████████████████████████████████████████████████████| 100%\n",
      "Parse progress: |█████████████████████████████████████████████████████████| 100%\n",
      "AutoML progress: |████████████████████████████████████████████████████████| 100%\n",
      "gbm prediction progress: |████████████████████████████████████████████████| 100%\n",
      "Parse progress: |█████████████████████████████████████████████████████████| 100%\n",
      "Parse progress: |█████████████████████████████████████████████████████████| 100%\n",
      "AutoML progress: |████████████████████████████████████████████████████████| 100%\n",
      "gbm prediction progress: |████████████████████████████████████████████████| 100%\n",
      "Parse progress: |█████████████████████████████████████████████████████████| 100%\n",
      "Parse progress: |█████████████████████████████████████████████████████████| 100%\n",
      "AutoML progress: |████████████████████████████████████████████████████████| 100%\n",
      "gbm prediction progress: |████████████████████████████████████████████████| 100%\n",
      "Parse progress: |█████████████████████████████████████████████████████████| 100%\n",
      "Parse progress: |█████████████████████████████████████████████████████████| 100%\n",
      "AutoML progress: |████████████████████████████████████████████████████████| 100%\n",
      "gbm prediction progress: |████████████████████████████████████████████████| 100%\n",
      "Parse progress: |█████████████████████████████████████████████████████████| 100%\n",
      "Parse progress: |█████████████████████████████████████████████████████████| 100%\n",
      "AutoML progress: |████████████████████████████████████████████████████████| 100%\n",
      "gbm prediction progress: |████████████████████████████████████████████████| 100%\n",
      "Parse progress: |█████████████████████████████████████████████████████████| 100%\n",
      "Parse progress: |█████████████████████████████████████████████████████████| 100%\n",
      "AutoML progress: |██"
     ]
    }
   ],
   "source": [
    "min_days_train = 30\n",
    "min_days_test = 5\n",
    "\n",
    "varimp_dict = {}\n",
    "\n",
    "for i, fecha in enumerate(fechas[min_days_train:-min_days_test]):\n",
    "    fecha_train_str = np.datetime_as_string(fecha, unit='D')\n",
    "    df.loc[df.fecha <= fecha, 'is_test'] = 0 \n",
    "\n",
    "    df_train = h2o.H2OFrame(df[df.is_test == 0])\n",
    "    df_test = h2o.H2OFrame(df[df.is_test == 1])\n",
    "\n",
    "    for c in numeric + [target]:\n",
    "        df_train[c] = df_train[c].asnumeric()\n",
    "        df_test[c] = df_test[c].asnumeric()\n",
    "\n",
    "    for c in categs:\n",
    "        df_train[c] = df_train[c].asfactor()\n",
    "        df_test[c] = df_test[c].asfactor()\n",
    "\n",
    "    horas = .1\n",
    "    aml = H2OAutoML(max_runtime_secs = int(60*60*horas), seed=1313, \n",
    "                    project_name=f'model_{i}', exclude_algos=['GLM', 'DeepLearning'])\n",
    "    aml.train(x=features, y=target,\n",
    "              training_frame=df_train, )\n",
    "    lb = aml.leaderboard\n",
    "\n",
    "    best_gbm_id = [m for m in lb['model_id'].as_data_frame().model_id.values if 'GBM' in m][0]\n",
    "    best_gbm = h2o.get_model(best_gbm_id)\n",
    "\n",
    "    varimp_dict[fecha] = pd.DataFrame(best_gbm.varimp()).set_index(0)[2]\n",
    "\n",
    "    df.loc[df.is_test == 1, target+f'_predict_{fecha_train_str.replace(\"-\",\"_\")}'] = best_gbm.predict(df_test).as_data_frame().predict.values\n",
    "    df[f'error_{fecha_train_str.replace(\"-\",\"_\")}'] = df.eval(f'exp({target}_predict_{fecha_train_str.replace(\"-\",\"_\")}) - exp({target})')\n",
    "    df[f'mape_{fecha_train_str.replace(\"-\",\"_\")}'] = df.eval(f'100 * abs(exp({target}_predict_{fecha_train_str.replace(\"-\",\"_\")}) - exp({target}))/exp({target})')"
   ]
  },
  {
   "cell_type": "code",
   "execution_count": 17,
   "metadata": {
    "ExecuteTime": {
     "end_time": "2020-06-11T01:49:34.157300Z",
     "start_time": "2020-06-11T01:49:34.121500Z"
    }
   },
   "outputs": [
    {
     "data": {
      "text/html": [
       "<div>\n",
       "<style scoped>\n",
       "    .dataframe tbody tr th:only-of-type {\n",
       "        vertical-align: middle;\n",
       "    }\n",
       "\n",
       "    .dataframe tbody tr th {\n",
       "        vertical-align: top;\n",
       "    }\n",
       "\n",
       "    .dataframe thead th {\n",
       "        text-align: right;\n",
       "    }\n",
       "</style>\n",
       "<table border=\"1\" class=\"dataframe\">\n",
       "  <thead>\n",
       "    <tr style=\"text-align: right;\">\n",
       "      <th></th>\n",
       "      <th>fecha</th>\n",
       "      <th>Region</th>\n",
       "      <th>UCI</th>\n",
       "      <th>retail_and_recreation_percent_change_from_baseline</th>\n",
       "      <th>grocery_and_pharmacy_percent_change_from_baseline</th>\n",
       "      <th>parks_percent_change_from_baseline</th>\n",
       "      <th>transit_stations_percent_change_from_baseline</th>\n",
       "      <th>workplaces_percent_change_from_baseline</th>\n",
       "      <th>residential_percent_change_from_baseline</th>\n",
       "      <th>muertes_acum</th>\n",
       "      <th>...</th>\n",
       "      <th>mape_2020_05_28</th>\n",
       "      <th>ln_mediamovil_7d_muertes_acum_predict_2020_05_29</th>\n",
       "      <th>error_2020_05_29</th>\n",
       "      <th>mape_2020_05_29</th>\n",
       "      <th>ln_mediamovil_7d_muertes_acum_predict_2020_05_30</th>\n",
       "      <th>error_2020_05_30</th>\n",
       "      <th>mape_2020_05_30</th>\n",
       "      <th>ln_mediamovil_7d_muertes_acum_predict_2020_05_31</th>\n",
       "      <th>error_2020_05_31</th>\n",
       "      <th>mape_2020_05_31</th>\n",
       "    </tr>\n",
       "  </thead>\n",
       "  <tbody>\n",
       "    <tr>\n",
       "      <th>868</th>\n",
       "      <td>2020-04-01</td>\n",
       "      <td>Antofagasta</td>\n",
       "      <td>3</td>\n",
       "      <td>-49.0</td>\n",
       "      <td>-32.0</td>\n",
       "      <td>-54.0</td>\n",
       "      <td>-46.0</td>\n",
       "      <td>-34.0</td>\n",
       "      <td>20.0</td>\n",
       "      <td>0</td>\n",
       "      <td>...</td>\n",
       "      <td>NaN</td>\n",
       "      <td>NaN</td>\n",
       "      <td>NaN</td>\n",
       "      <td>NaN</td>\n",
       "      <td>NaN</td>\n",
       "      <td>NaN</td>\n",
       "      <td>NaN</td>\n",
       "      <td>NaN</td>\n",
       "      <td>NaN</td>\n",
       "      <td>NaN</td>\n",
       "    </tr>\n",
       "    <tr>\n",
       "      <th>452</th>\n",
       "      <td>2020-04-02</td>\n",
       "      <td>Antofagasta</td>\n",
       "      <td>4</td>\n",
       "      <td>-51.0</td>\n",
       "      <td>-32.0</td>\n",
       "      <td>-54.0</td>\n",
       "      <td>-51.0</td>\n",
       "      <td>-36.0</td>\n",
       "      <td>21.0</td>\n",
       "      <td>0</td>\n",
       "      <td>...</td>\n",
       "      <td>NaN</td>\n",
       "      <td>NaN</td>\n",
       "      <td>NaN</td>\n",
       "      <td>NaN</td>\n",
       "      <td>NaN</td>\n",
       "      <td>NaN</td>\n",
       "      <td>NaN</td>\n",
       "      <td>NaN</td>\n",
       "      <td>NaN</td>\n",
       "      <td>NaN</td>\n",
       "    </tr>\n",
       "    <tr>\n",
       "      <th>230</th>\n",
       "      <td>2020-04-03</td>\n",
       "      <td>Antofagasta</td>\n",
       "      <td>3</td>\n",
       "      <td>-51.0</td>\n",
       "      <td>-33.0</td>\n",
       "      <td>-57.0</td>\n",
       "      <td>-52.0</td>\n",
       "      <td>-34.0</td>\n",
       "      <td>22.0</td>\n",
       "      <td>0</td>\n",
       "      <td>...</td>\n",
       "      <td>NaN</td>\n",
       "      <td>NaN</td>\n",
       "      <td>NaN</td>\n",
       "      <td>NaN</td>\n",
       "      <td>NaN</td>\n",
       "      <td>NaN</td>\n",
       "      <td>NaN</td>\n",
       "      <td>NaN</td>\n",
       "      <td>NaN</td>\n",
       "      <td>NaN</td>\n",
       "    </tr>\n",
       "    <tr>\n",
       "      <th>487</th>\n",
       "      <td>2020-04-04</td>\n",
       "      <td>Antofagasta</td>\n",
       "      <td>3</td>\n",
       "      <td>-51.0</td>\n",
       "      <td>-32.0</td>\n",
       "      <td>-63.0</td>\n",
       "      <td>-51.0</td>\n",
       "      <td>-31.0</td>\n",
       "      <td>18.0</td>\n",
       "      <td>0</td>\n",
       "      <td>...</td>\n",
       "      <td>NaN</td>\n",
       "      <td>NaN</td>\n",
       "      <td>NaN</td>\n",
       "      <td>NaN</td>\n",
       "      <td>NaN</td>\n",
       "      <td>NaN</td>\n",
       "      <td>NaN</td>\n",
       "      <td>NaN</td>\n",
       "      <td>NaN</td>\n",
       "      <td>NaN</td>\n",
       "    </tr>\n",
       "    <tr>\n",
       "      <th>451</th>\n",
       "      <td>2020-04-05</td>\n",
       "      <td>Antofagasta</td>\n",
       "      <td>3</td>\n",
       "      <td>-53.0</td>\n",
       "      <td>-47.0</td>\n",
       "      <td>-64.0</td>\n",
       "      <td>-58.0</td>\n",
       "      <td>-32.0</td>\n",
       "      <td>16.0</td>\n",
       "      <td>0</td>\n",
       "      <td>...</td>\n",
       "      <td>NaN</td>\n",
       "      <td>NaN</td>\n",
       "      <td>NaN</td>\n",
       "      <td>NaN</td>\n",
       "      <td>NaN</td>\n",
       "      <td>NaN</td>\n",
       "      <td>NaN</td>\n",
       "      <td>NaN</td>\n",
       "      <td>NaN</td>\n",
       "      <td>NaN</td>\n",
       "    </tr>\n",
       "  </tbody>\n",
       "</table>\n",
       "<p>5 rows × 129 columns</p>\n",
       "</div>"
      ],
      "text/plain": [
       "         fecha       Region  UCI  \\\n",
       "868 2020-04-01  Antofagasta    3   \n",
       "452 2020-04-02  Antofagasta    4   \n",
       "230 2020-04-03  Antofagasta    3   \n",
       "487 2020-04-04  Antofagasta    3   \n",
       "451 2020-04-05  Antofagasta    3   \n",
       "\n",
       "     retail_and_recreation_percent_change_from_baseline  \\\n",
       "868                                              -49.0    \n",
       "452                                              -51.0    \n",
       "230                                              -51.0    \n",
       "487                                              -51.0    \n",
       "451                                              -53.0    \n",
       "\n",
       "     grocery_and_pharmacy_percent_change_from_baseline  \\\n",
       "868                                              -32.0   \n",
       "452                                              -32.0   \n",
       "230                                              -33.0   \n",
       "487                                              -32.0   \n",
       "451                                              -47.0   \n",
       "\n",
       "     parks_percent_change_from_baseline  \\\n",
       "868                               -54.0   \n",
       "452                               -54.0   \n",
       "230                               -57.0   \n",
       "487                               -63.0   \n",
       "451                               -64.0   \n",
       "\n",
       "     transit_stations_percent_change_from_baseline  \\\n",
       "868                                          -46.0   \n",
       "452                                          -51.0   \n",
       "230                                          -52.0   \n",
       "487                                          -51.0   \n",
       "451                                          -58.0   \n",
       "\n",
       "     workplaces_percent_change_from_baseline  \\\n",
       "868                                    -34.0   \n",
       "452                                    -36.0   \n",
       "230                                    -34.0   \n",
       "487                                    -31.0   \n",
       "451                                    -32.0   \n",
       "\n",
       "     residential_percent_change_from_baseline  muertes_acum  ...  \\\n",
       "868                                      20.0             0  ...   \n",
       "452                                      21.0             0  ...   \n",
       "230                                      22.0             0  ...   \n",
       "487                                      18.0             0  ...   \n",
       "451                                      16.0             0  ...   \n",
       "\n",
       "     mape_2020_05_28  ln_mediamovil_7d_muertes_acum_predict_2020_05_29  \\\n",
       "868              NaN                                               NaN   \n",
       "452              NaN                                               NaN   \n",
       "230              NaN                                               NaN   \n",
       "487              NaN                                               NaN   \n",
       "451              NaN                                               NaN   \n",
       "\n",
       "     error_2020_05_29  mape_2020_05_29  \\\n",
       "868               NaN              NaN   \n",
       "452               NaN              NaN   \n",
       "230               NaN              NaN   \n",
       "487               NaN              NaN   \n",
       "451               NaN              NaN   \n",
       "\n",
       "     ln_mediamovil_7d_muertes_acum_predict_2020_05_30  error_2020_05_30  \\\n",
       "868                                               NaN               NaN   \n",
       "452                                               NaN               NaN   \n",
       "230                                               NaN               NaN   \n",
       "487                                               NaN               NaN   \n",
       "451                                               NaN               NaN   \n",
       "\n",
       "     mape_2020_05_30  ln_mediamovil_7d_muertes_acum_predict_2020_05_31  \\\n",
       "868              NaN                                               NaN   \n",
       "452              NaN                                               NaN   \n",
       "230              NaN                                               NaN   \n",
       "487              NaN                                               NaN   \n",
       "451              NaN                                               NaN   \n",
       "\n",
       "     error_2020_05_31  mape_2020_05_31  \n",
       "868               NaN              NaN  \n",
       "452               NaN              NaN  \n",
       "230               NaN              NaN  \n",
       "487               NaN              NaN  \n",
       "451               NaN              NaN  \n",
       "\n",
       "[5 rows x 129 columns]"
      ]
     },
     "execution_count": 17,
     "metadata": {},
     "output_type": "execute_result"
    }
   ],
   "source": [
    "df.head()"
   ]
  },
  {
   "cell_type": "code",
   "execution_count": 18,
   "metadata": {
    "ExecuteTime": {
     "end_time": "2020-06-11T01:50:38.848235Z",
     "start_time": "2020-06-11T01:50:38.660572Z"
    }
   },
   "outputs": [],
   "source": [
    "mapes = []\n",
    "for f in fechas[min_days_train:-min_days_test]:\n",
    "    f = np.datetime_as_string(f, unit='D')\n",
    "    mape = (df.groupby('Region')[f'mape_{f.replace(\"-\",\"_\")}'].mean()\n",
    "         .to_frame(f).stack()\n",
    "         .to_frame('mape')\n",
    "         .reset_index()\n",
    "         .rename(columns={'level_1': 'fecha_train'}))\n",
    "    mapes += [mape]\n",
    "\n",
    "mapes = pd.concat(mapes)"
   ]
  },
  {
   "cell_type": "code",
   "execution_count": 24,
   "metadata": {
    "ExecuteTime": {
     "end_time": "2020-06-11T01:58:39.061690Z",
     "start_time": "2020-06-11T01:58:33.165063Z"
    }
   },
   "outputs": [
    {
     "name": "stderr",
     "output_type": "stream",
     "text": [
      "1it [00:05,  5.37s/it]\n"
     ]
    }
   ],
   "source": [
    "mapes.to_gbq('tmp.mapes', project_id=PID, if_exists='replace')\n",
    "df.to_gbq('tmp.results', project_id=PID, if_exists='replace')"
   ]
  },
  {
   "cell_type": "code",
   "execution_count": 26,
   "metadata": {
    "ExecuteTime": {
     "end_time": "2020-06-11T01:59:59.306819Z",
     "start_time": "2020-06-11T01:59:57.231465Z"
    }
   },
   "outputs": [
    {
     "name": "stderr",
     "output_type": "stream",
     "text": [
      "Downloading: 100%|██████████| 496/496 [00:01<00:00, 412.91rows/s]\n"
     ]
    }
   ],
   "source": [
    "mapes = pd.read_gbq(\"SELECT * FROM tmp.mapes\", project_id=PID, use_bqstorage_api=True)"
   ]
  },
  {
   "cell_type": "code",
   "execution_count": 27,
   "metadata": {
    "ExecuteTime": {
     "end_time": "2020-06-11T02:00:00.725102Z",
     "start_time": "2020-06-11T02:00:00.017904Z"
    }
   },
   "outputs": [
    {
     "data": {
      "application/vnd.plotly.v1+json": {
       "config": {
        "plotlyServerURL": "https://plot.ly"
       },
       "data": [
        {
         "hovertemplate": "Region=Maule<br>fecha_train=%{x}<br>mape=%{y}<extra></extra>",
         "legendgroup": "Maule",
         "line": {
          "color": "#636efa",
          "dash": "solid"
         },
         "mode": "lines",
         "name": "Maule",
         "showlegend": true,
         "type": "scatter",
         "x": [
          "2020-05-01",
          "2020-05-02",
          "2020-05-03",
          "2020-05-04",
          "2020-05-05",
          "2020-05-06",
          "2020-05-07",
          "2020-05-08",
          "2020-05-09",
          "2020-05-10",
          "2020-05-11",
          "2020-05-12",
          "2020-05-13",
          "2020-05-14",
          "2020-05-15",
          "2020-05-16",
          "2020-05-17",
          "2020-05-18",
          "2020-05-19",
          "2020-05-20",
          "2020-05-21",
          "2020-05-22",
          "2020-05-23",
          "2020-05-24",
          "2020-05-25",
          "2020-05-26",
          "2020-05-27",
          "2020-05-28",
          "2020-05-29",
          "2020-05-30",
          "2020-05-31"
         ],
         "xaxis": "x",
         "y": [
          7.44499652984033,
          11.7959519401559,
          7.64343918624843,
          6.36873948721444,
          7.32843452480619,
          8.43867870724027,
          9.90343269445599,
          9.11185619309551,
          8.19373938321135,
          8.40808969830432,
          7.19729676898306,
          9.03933536412706,
          8.42661424474473,
          10.5905809664301,
          10.2722887872978,
          7.60459776983072,
          7.4212718088789,
          7.31523324736232,
          8.89855511501805,
          10.0096853255676,
          8.59717670185211,
          10.047906831445,
          10.1604888671567,
          10.4510114761618,
          13.5455841845101,
          13.8405909643721,
          12.4202759442077,
          14.9213762485542,
          12.2028431010673,
          10.9215743314811,
          18.2860417165433
         ],
         "yaxis": "y"
        },
        {
         "hovertemplate": "Region=Aysén<br>fecha_train=%{x}<br>mape=%{y}<extra></extra>",
         "legendgroup": "Aysén",
         "line": {
          "color": "#EF553B",
          "dash": "solid"
         },
         "mode": "lines",
         "name": "Aysén",
         "showlegend": true,
         "type": "scatter",
         "x": [
          "2020-05-01",
          "2020-05-02",
          "2020-05-03",
          "2020-05-04",
          "2020-05-05",
          "2020-05-06",
          "2020-05-07",
          "2020-05-08",
          "2020-05-09",
          "2020-05-10",
          "2020-05-11",
          "2020-05-12",
          "2020-05-13",
          "2020-05-14",
          "2020-05-15",
          "2020-05-16",
          "2020-05-17",
          "2020-05-18",
          "2020-05-19",
          "2020-05-20",
          "2020-05-21",
          "2020-05-22",
          "2020-05-23",
          "2020-05-24",
          "2020-05-25",
          "2020-05-26",
          "2020-05-27",
          "2020-05-28",
          "2020-05-29",
          "2020-05-30",
          "2020-05-31"
         ],
         "xaxis": "x",
         "y": [
          0.520133935378458,
          0.975802343342382,
          1.23423766259776,
          0.811304111804173,
          0.691797131727587,
          0.127722784481318,
          0.720063027795167,
          0.143716403128018,
          0.289529980132264,
          0.652887972879639,
          0.253448735579205,
          0.214631051149244,
          0.306382010839042,
          1.24714727909769,
          0.9763916507481,
          0.860939457647766,
          0.253545361867021,
          0.476674598301699,
          0.602724636776383,
          0.63600003443661,
          0.496517695124066,
          0.727101551378686,
          0.679176124320174,
          0.51658069975518,
          0.507000578790587,
          0.469273481227019,
          0.782013208407764,
          0.538243159749109,
          0.257885203003319,
          0.478903699505306,
          0.227767574479272
         ],
         "yaxis": "y"
        },
        {
         "hovertemplate": "Region=Ñuble<br>fecha_train=%{x}<br>mape=%{y}<extra></extra>",
         "legendgroup": "Ñuble",
         "line": {
          "color": "#00cc96",
          "dash": "solid"
         },
         "mode": "lines",
         "name": "Ñuble",
         "showlegend": true,
         "type": "scatter",
         "x": [
          "2020-05-01",
          "2020-05-02",
          "2020-05-03",
          "2020-05-04",
          "2020-05-05",
          "2020-05-06",
          "2020-05-07",
          "2020-05-08",
          "2020-05-09",
          "2020-05-10",
          "2020-05-11",
          "2020-05-12",
          "2020-05-13",
          "2020-05-14",
          "2020-05-15",
          "2020-05-16",
          "2020-05-17",
          "2020-05-18",
          "2020-05-19",
          "2020-05-20",
          "2020-05-21",
          "2020-05-22",
          "2020-05-23",
          "2020-05-24",
          "2020-05-25",
          "2020-05-26",
          "2020-05-27",
          "2020-05-28",
          "2020-05-29",
          "2020-05-30",
          "2020-05-31"
         ],
         "xaxis": "x",
         "y": [
          9.09437871463007,
          9.17470405899128,
          6.64238108854398,
          6.02884679181752,
          9.66844621347143,
          26.0723594254488,
          3.07546396500469,
          17.9602389703234,
          33.105057360628,
          12.7507678499195,
          30.5082483578473,
          11.1443507870417,
          20.6862161324638,
          31.7324899216328,
          16.7129487505939,
          24.3722204300272,
          15.9288038013688,
          26.7570398867315,
          31.7541446043672,
          13.1278195799095,
          15.1892395444453,
          11.3580765598066,
          6.13093304887027,
          6.9315901018565,
          5.70381368771508,
          4.17008881225509,
          3.80987321457376,
          4.96707990977797,
          5.57965406389397,
          5.19952187786138,
          5.14352199081858
         ],
         "yaxis": "y"
        },
        {
         "hovertemplate": "Region=Atacama<br>fecha_train=%{x}<br>mape=%{y}<extra></extra>",
         "legendgroup": "Atacama",
         "line": {
          "color": "#ab63fa",
          "dash": "solid"
         },
         "mode": "lines",
         "name": "Atacama",
         "showlegend": true,
         "type": "scatter",
         "x": [
          "2020-05-01",
          "2020-05-02",
          "2020-05-03",
          "2020-05-04",
          "2020-05-05",
          "2020-05-06",
          "2020-05-07",
          "2020-05-08",
          "2020-05-09",
          "2020-05-10",
          "2020-05-11",
          "2020-05-12",
          "2020-05-13",
          "2020-05-14",
          "2020-05-15",
          "2020-05-16",
          "2020-05-17",
          "2020-05-18",
          "2020-05-19",
          "2020-05-20",
          "2020-05-21",
          "2020-05-22",
          "2020-05-23",
          "2020-05-24",
          "2020-05-25",
          "2020-05-26",
          "2020-05-27",
          "2020-05-28",
          "2020-05-29",
          "2020-05-30",
          "2020-05-31"
         ],
         "xaxis": "x",
         "y": [
          21.1362123912612,
          16.6786329384261,
          9.42735270050904,
          18.9668558024323,
          19.4915286569622,
          38.244619069608,
          18.3892939833241,
          61.3692294333574,
          64.5797430580414,
          62.1186356860825,
          58.7529666139431,
          61.7024181315504,
          59.4716907468301,
          23.1724165858678,
          49.5511841973739,
          26.8630670822819,
          54.1898221156469,
          24.9305247762169,
          14.7625842897751,
          11.4193579647159,
          14.6175121445657,
          17.8623571044179,
          15.1920339901327,
          12.6861327113963,
          6.81890996877164,
          3.41860114128775,
          7.61464542417631,
          6.63917850487657,
          4.57093313980563,
          1.63882982860529,
          1.50264700256483
         ],
         "yaxis": "y"
        },
        {
         "hovertemplate": "Region=Biobío<br>fecha_train=%{x}<br>mape=%{y}<extra></extra>",
         "legendgroup": "Biobío",
         "line": {
          "color": "#FFA15A",
          "dash": "solid"
         },
         "mode": "lines",
         "name": "Biobío",
         "showlegend": true,
         "type": "scatter",
         "x": [
          "2020-05-01",
          "2020-05-02",
          "2020-05-03",
          "2020-05-04",
          "2020-05-05",
          "2020-05-06",
          "2020-05-07",
          "2020-05-08",
          "2020-05-09",
          "2020-05-10",
          "2020-05-11",
          "2020-05-12",
          "2020-05-13",
          "2020-05-14",
          "2020-05-15",
          "2020-05-16",
          "2020-05-17",
          "2020-05-18",
          "2020-05-19",
          "2020-05-20",
          "2020-05-21",
          "2020-05-22",
          "2020-05-23",
          "2020-05-24",
          "2020-05-25",
          "2020-05-26",
          "2020-05-27",
          "2020-05-28",
          "2020-05-29",
          "2020-05-30",
          "2020-05-31"
         ],
         "xaxis": "x",
         "y": [
          10.4505564590889,
          7.42890233340972,
          5.11574603912619,
          8.95728305673997,
          6.7737229229361,
          9.63123946090115,
          7.55518213185768,
          24.2728485746406,
          29.8276986466864,
          14.9445441823059,
          20.4997018988107,
          20.6410500391824,
          17.7917606605885,
          19.6329499857476,
          21.0648743439259,
          2.88655774268673,
          29.2166495778602,
          16.0460096330957,
          32.126009964531,
          8.28053403449165,
          37.098520277457,
          29.9806636540475,
          9.60475834444276,
          4.72154484711678,
          30.6860716644546,
          9.73146206240832,
          23.8175269711085,
          13.6328027571018,
          15.7059262285771,
          12.0579999278791,
          14.6465640817763
         ],
         "yaxis": "y"
        },
        {
         "hovertemplate": "Region=Coquimbo<br>fecha_train=%{x}<br>mape=%{y}<extra></extra>",
         "legendgroup": "Coquimbo",
         "line": {
          "color": "#19d3f3",
          "dash": "solid"
         },
         "mode": "lines",
         "name": "Coquimbo",
         "showlegend": true,
         "type": "scatter",
         "x": [
          "2020-05-01",
          "2020-05-02",
          "2020-05-03",
          "2020-05-04",
          "2020-05-05",
          "2020-05-06",
          "2020-05-07",
          "2020-05-08",
          "2020-05-09",
          "2020-05-10",
          "2020-05-11",
          "2020-05-12",
          "2020-05-13",
          "2020-05-14",
          "2020-05-15",
          "2020-05-16",
          "2020-05-17",
          "2020-05-18",
          "2020-05-19",
          "2020-05-20",
          "2020-05-21",
          "2020-05-22",
          "2020-05-23",
          "2020-05-24",
          "2020-05-25",
          "2020-05-26",
          "2020-05-27",
          "2020-05-28",
          "2020-05-29",
          "2020-05-30",
          "2020-05-31"
         ],
         "xaxis": "x",
         "y": [
          22.1489479474531,
          24.3542106424438,
          24.6923203821834,
          23.1947215214064,
          22.4671811884463,
          18.3667392065217,
          20.6530319379453,
          17.6303536295573,
          14.9827521745417,
          21.503768712076,
          19.0137931585277,
          19.2185295350137,
          26.6017267296782,
          26.6285853695377,
          36.2432045962727,
          32.5258592612645,
          47.2893818262625,
          29.4248437680803,
          24.6350901597518,
          34.0103135625768,
          27.9152715725175,
          27.8368785287154,
          18.4447109053266,
          9.01961898547648,
          10.4796610008987,
          5.05927179049555,
          7.61765670669951,
          5.18957899393679,
          6.06778464507788,
          4.82125542431003,
          8.33211148415243
         ],
         "yaxis": "y"
        },
        {
         "hovertemplate": "Region=Los Lagos<br>fecha_train=%{x}<br>mape=%{y}<extra></extra>",
         "legendgroup": "Los Lagos",
         "line": {
          "color": "#FF6692",
          "dash": "solid"
         },
         "mode": "lines",
         "name": "Los Lagos",
         "showlegend": true,
         "type": "scatter",
         "x": [
          "2020-05-01",
          "2020-05-02",
          "2020-05-03",
          "2020-05-04",
          "2020-05-05",
          "2020-05-06",
          "2020-05-07",
          "2020-05-08",
          "2020-05-09",
          "2020-05-10",
          "2020-05-11",
          "2020-05-12",
          "2020-05-13",
          "2020-05-14",
          "2020-05-15",
          "2020-05-16",
          "2020-05-17",
          "2020-05-18",
          "2020-05-19",
          "2020-05-20",
          "2020-05-21",
          "2020-05-22",
          "2020-05-23",
          "2020-05-24",
          "2020-05-25",
          "2020-05-26",
          "2020-05-27",
          "2020-05-28",
          "2020-05-29",
          "2020-05-30",
          "2020-05-31"
         ],
         "xaxis": "x",
         "y": [
          7.70548399802651,
          9.82127544965624,
          5.99171312947195,
          10.2093251953087,
          9.6127710687535,
          12.2861848474457,
          5.62916957389118,
          6.12698860663669,
          6.75199710864764,
          3.90740985719658,
          4.63416390084453,
          3.86728015398083,
          3.98681352560233,
          2.97887074634528,
          3.5598531618439,
          6.01963248168433,
          5.89919006743464,
          2.8164852829495,
          6.29970812482347,
          9.66044288678995,
          13.446186155447,
          12.6018709349741,
          11.539678248077,
          7.6502409762269,
          6.83696581308656,
          5.63080782720724,
          8.13154525331374,
          3.74938129256758,
          6.87518418197114,
          3.36088915845231,
          2.57743804577727
         ],
         "yaxis": "y"
        },
        {
         "hovertemplate": "Region=Los Ríos<br>fecha_train=%{x}<br>mape=%{y}<extra></extra>",
         "legendgroup": "Los Ríos",
         "line": {
          "color": "#B6E880",
          "dash": "solid"
         },
         "mode": "lines",
         "name": "Los Ríos",
         "showlegend": true,
         "type": "scatter",
         "x": [
          "2020-05-01",
          "2020-05-02",
          "2020-05-03",
          "2020-05-04",
          "2020-05-05",
          "2020-05-06",
          "2020-05-07",
          "2020-05-08",
          "2020-05-09",
          "2020-05-10",
          "2020-05-11",
          "2020-05-12",
          "2020-05-13",
          "2020-05-14",
          "2020-05-15",
          "2020-05-16",
          "2020-05-17",
          "2020-05-18",
          "2020-05-19",
          "2020-05-20",
          "2020-05-21",
          "2020-05-22",
          "2020-05-23",
          "2020-05-24",
          "2020-05-25",
          "2020-05-26",
          "2020-05-27",
          "2020-05-28",
          "2020-05-29",
          "2020-05-30",
          "2020-05-31"
         ],
         "xaxis": "x",
         "y": [
          11.3199695505854,
          11.0985593381291,
          9.19681800618314,
          8.80059102398237,
          7.07303280243033,
          7.35863778570923,
          6.05575710194655,
          5.53637492709807,
          5.67403130541971,
          5.52259726906313,
          6.41215596246933,
          6.99823848109045,
          4.96625202926684,
          8.70904646743305,
          6.61020088178064,
          7.25335116440104,
          8.19345917492517,
          8.47154664636906,
          7.88450871258673,
          7.3522740755648,
          7.20849831800144,
          11.1071971050581,
          6.37396228214493,
          7.1813178659886,
          10.0744261786684,
          5.65298611028518,
          13.2530015079209,
          10.7657755017529,
          4.06947737053975,
          8.77824194862231,
          6.49508420957384
         ],
         "yaxis": "y"
        },
        {
         "hovertemplate": "Region=Tarapacá<br>fecha_train=%{x}<br>mape=%{y}<extra></extra>",
         "legendgroup": "Tarapacá",
         "line": {
          "color": "#FF97FF",
          "dash": "solid"
         },
         "mode": "lines",
         "name": "Tarapacá",
         "showlegend": true,
         "type": "scatter",
         "x": [
          "2020-05-01",
          "2020-05-02",
          "2020-05-03",
          "2020-05-04",
          "2020-05-05",
          "2020-05-06",
          "2020-05-07",
          "2020-05-08",
          "2020-05-09",
          "2020-05-10",
          "2020-05-11",
          "2020-05-12",
          "2020-05-13",
          "2020-05-14",
          "2020-05-15",
          "2020-05-16",
          "2020-05-17",
          "2020-05-18",
          "2020-05-19",
          "2020-05-20",
          "2020-05-21",
          "2020-05-22",
          "2020-05-23",
          "2020-05-24",
          "2020-05-25",
          "2020-05-26",
          "2020-05-27",
          "2020-05-28",
          "2020-05-29",
          "2020-05-30",
          "2020-05-31"
         ],
         "xaxis": "x",
         "y": [
          46.210352758752,
          42.7560053086158,
          41.6621119496223,
          36.784433061167,
          38.8443166956789,
          37.7552680315641,
          41.6461636723689,
          30.0875099112318,
          38.6523303793523,
          33.9874769920118,
          35.0965757132927,
          28.4616027170005,
          27.0301467174354,
          34.8841297917415,
          37.5790875678106,
          37.3458687268286,
          38.9688868284807,
          37.846686302676,
          36.1090818249578,
          30.2159804494754,
          28.9048398075671,
          35.5491476892963,
          36.1989509770125,
          32.7755695854805,
          24.9253023692732,
          22.3214445198067,
          16.4549463760156,
          15.4567802908185,
          12.3332003096509,
          5.85294611827277,
          7.20793938960531
         ],
         "yaxis": "y"
        },
        {
         "hovertemplate": "Region=Araucanía<br>fecha_train=%{x}<br>mape=%{y}<extra></extra>",
         "legendgroup": "Araucanía",
         "line": {
          "color": "#FECB52",
          "dash": "solid"
         },
         "mode": "lines",
         "name": "Araucanía",
         "showlegend": true,
         "type": "scatter",
         "x": [
          "2020-05-01",
          "2020-05-02",
          "2020-05-03",
          "2020-05-04",
          "2020-05-05",
          "2020-05-06",
          "2020-05-07",
          "2020-05-08",
          "2020-05-09",
          "2020-05-10",
          "2020-05-11",
          "2020-05-12",
          "2020-05-13",
          "2020-05-14",
          "2020-05-15",
          "2020-05-16",
          "2020-05-17",
          "2020-05-18",
          "2020-05-19",
          "2020-05-20",
          "2020-05-21",
          "2020-05-22",
          "2020-05-23",
          "2020-05-24",
          "2020-05-25",
          "2020-05-26",
          "2020-05-27",
          "2020-05-28",
          "2020-05-29",
          "2020-05-30",
          "2020-05-31"
         ],
         "xaxis": "x",
         "y": [
          21.227426504043,
          24.2498915806994,
          19.9458264380451,
          7.05064141430912,
          9.56482290899323,
          28.8106404723334,
          14.4463044670719,
          15.8664603134292,
          37.9446315824226,
          18.4635937715502,
          18.9475449271852,
          13.7462620364306,
          27.3140735955318,
          4.67165052043202,
          30.1776452080102,
          12.6631561449627,
          19.5006121927447,
          7.13736227547351,
          2.83673830464896,
          2.50226009424236,
          3.99972660238689,
          3.54451278551171,
          11.1001011836074,
          2.56243611984635,
          8.67264653995099,
          6.81227029304504,
          19.5373594213548,
          9.35002524077639,
          12.1116926553619,
          14.0556846369813,
          23.3568981231656
         ],
         "yaxis": "y"
        },
        {
         "hovertemplate": "Region=Magallanes<br>fecha_train=%{x}<br>mape=%{y}<extra></extra>",
         "legendgroup": "Magallanes",
         "line": {
          "color": "#636efa",
          "dash": "solid"
         },
         "mode": "lines",
         "name": "Magallanes",
         "showlegend": true,
         "type": "scatter",
         "x": [
          "2020-05-01",
          "2020-05-02",
          "2020-05-03",
          "2020-05-04",
          "2020-05-05",
          "2020-05-06",
          "2020-05-07",
          "2020-05-08",
          "2020-05-09",
          "2020-05-10",
          "2020-05-11",
          "2020-05-12",
          "2020-05-13",
          "2020-05-14",
          "2020-05-15",
          "2020-05-16",
          "2020-05-17",
          "2020-05-18",
          "2020-05-19",
          "2020-05-20",
          "2020-05-21",
          "2020-05-22",
          "2020-05-23",
          "2020-05-24",
          "2020-05-25",
          "2020-05-26",
          "2020-05-27",
          "2020-05-28",
          "2020-05-29",
          "2020-05-30",
          "2020-05-31"
         ],
         "xaxis": "x",
         "y": [
          7.63944055273745,
          16.643192327494,
          10.6853204531936,
          13.4828940970948,
          20.1413440597961,
          19.9280633034182,
          10.8816117166839,
          14.6404193086343,
          34.8409038325785,
          21.3429468899251,
          25.7731033118078,
          26.0225216088044,
          20.6879243245094,
          28.0523028618405,
          20.6132450636665,
          11.305308753852,
          12.6956178048673,
          21.953215436394,
          37.1530892680886,
          8.0120037042184,
          31.4892810633799,
          12.8802183540107,
          9.22819413079726,
          1.56036479093495,
          15.6784120962272,
          4.75055282517022,
          2.26999629602348,
          2.66289293319894,
          4.5373980086544,
          3.06191453039402,
          4.6152751617927
         ],
         "yaxis": "y"
        },
        {
         "hovertemplate": "Region=Antofagasta<br>fecha_train=%{x}<br>mape=%{y}<extra></extra>",
         "legendgroup": "Antofagasta",
         "line": {
          "color": "#EF553B",
          "dash": "solid"
         },
         "mode": "lines",
         "name": "Antofagasta",
         "showlegend": true,
         "type": "scatter",
         "x": [
          "2020-05-01",
          "2020-05-02",
          "2020-05-03",
          "2020-05-04",
          "2020-05-05",
          "2020-05-06",
          "2020-05-07",
          "2020-05-08",
          "2020-05-09",
          "2020-05-10",
          "2020-05-11",
          "2020-05-12",
          "2020-05-13",
          "2020-05-14",
          "2020-05-15",
          "2020-05-16",
          "2020-05-17",
          "2020-05-18",
          "2020-05-19",
          "2020-05-20",
          "2020-05-21",
          "2020-05-22",
          "2020-05-23",
          "2020-05-24",
          "2020-05-25",
          "2020-05-26",
          "2020-05-27",
          "2020-05-28",
          "2020-05-29",
          "2020-05-30",
          "2020-05-31"
         ],
         "xaxis": "x",
         "y": [
          37.3950101871354,
          37.7097433920785,
          42.2056465924092,
          38.6166414128847,
          41.5749006500247,
          31.1333052149506,
          40.4159483773511,
          24.7839759866887,
          17.1653714600122,
          29.3157565337213,
          23.5314530360393,
          22.6138332244955,
          24.4722625569429,
          31.4526319412002,
          22.3031087003044,
          17.6672533555936,
          12.5482759036298,
          28.0075577789487,
          19.2465502954271,
          12.0862701921316,
          9.27972098186781,
          6.05242148824973,
          17.6475583927259,
          14.0771424353115,
          23.8332745573625,
          17.0045244212653,
          24.7821138524395,
          25.5972699405087,
          10.6739084045861,
          6.35389150901332,
          19.5174419026091
         ],
         "yaxis": "y"
        },
        {
         "hovertemplate": "Region=O’Higgins<br>fecha_train=%{x}<br>mape=%{y}<extra></extra>",
         "legendgroup": "O’Higgins",
         "line": {
          "color": "#00cc96",
          "dash": "solid"
         },
         "mode": "lines",
         "name": "O’Higgins",
         "showlegend": true,
         "type": "scatter",
         "x": [
          "2020-05-01",
          "2020-05-02",
          "2020-05-03",
          "2020-05-04",
          "2020-05-05",
          "2020-05-06",
          "2020-05-07",
          "2020-05-08",
          "2020-05-09",
          "2020-05-10",
          "2020-05-11",
          "2020-05-12",
          "2020-05-13",
          "2020-05-14",
          "2020-05-15",
          "2020-05-16",
          "2020-05-17",
          "2020-05-18",
          "2020-05-19",
          "2020-05-20",
          "2020-05-21",
          "2020-05-22",
          "2020-05-23",
          "2020-05-24",
          "2020-05-25",
          "2020-05-26",
          "2020-05-27",
          "2020-05-28",
          "2020-05-29",
          "2020-05-30",
          "2020-05-31"
         ],
         "xaxis": "x",
         "y": [
          34.4651974325513,
          30.6024671500328,
          32.8638213235756,
          30.677855587472,
          33.0614671334251,
          32.701970167616,
          33.7390770802659,
          35.7596579085674,
          34.5014376851568,
          32.6106283932173,
          36.5214255306998,
          33.8927706296969,
          33.1646703148569,
          32.3538676342521,
          33.3721924708407,
          34.6478267390993,
          35.719193932173,
          27.5240981003364,
          28.5975966497894,
          26.8482540254898,
          24.0925656355033,
          24.0694820887371,
          17.6810723192113,
          15.1844809554073,
          8.23733740036512,
          14.3751495533085,
          9.11502069837545,
          4.35747606251106,
          2.81312102696983,
          2.84545484091404,
          6.33647109499629
         ],
         "yaxis": "y"
        },
        {
         "hovertemplate": "Region=Valparaíso<br>fecha_train=%{x}<br>mape=%{y}<extra></extra>",
         "legendgroup": "Valparaíso",
         "line": {
          "color": "#ab63fa",
          "dash": "solid"
         },
         "mode": "lines",
         "name": "Valparaíso",
         "showlegend": true,
         "type": "scatter",
         "x": [
          "2020-05-01",
          "2020-05-02",
          "2020-05-03",
          "2020-05-04",
          "2020-05-05",
          "2020-05-06",
          "2020-05-07",
          "2020-05-08",
          "2020-05-09",
          "2020-05-10",
          "2020-05-11",
          "2020-05-12",
          "2020-05-13",
          "2020-05-14",
          "2020-05-15",
          "2020-05-16",
          "2020-05-17",
          "2020-05-18",
          "2020-05-19",
          "2020-05-20",
          "2020-05-21",
          "2020-05-22",
          "2020-05-23",
          "2020-05-24",
          "2020-05-25",
          "2020-05-26",
          "2020-05-27",
          "2020-05-28",
          "2020-05-29",
          "2020-05-30",
          "2020-05-31"
         ],
         "xaxis": "x",
         "y": [
          39.1943154164524,
          50.5585454267906,
          49.4042804281086,
          48.6930740240587,
          49.1618617275603,
          29.3879505556562,
          44.6409510214087,
          33.3376006572613,
          26.3084301379189,
          31.1067630379727,
          30.761718419579,
          29.170174531331,
          29.7687447375628,
          35.7971993382772,
          38.6144869679402,
          40.3577297213305,
          24.6463616668193,
          38.8476967707459,
          33.47958745776,
          35.4566300376162,
          32.2619924668664,
          31.0963386012773,
          22.2120388078479,
          27.3714384097788,
          23.5187099933265,
          17.7428061289784,
          13.1353634850898,
          16.2127724484229,
          11.1460363674531,
          11.9054668817476,
          6.53483241572914
         ],
         "yaxis": "y"
        },
        {
         "hovertemplate": "Region=Metropolitana<br>fecha_train=%{x}<br>mape=%{y}<extra></extra>",
         "legendgroup": "Metropolitana",
         "line": {
          "color": "#FFA15A",
          "dash": "solid"
         },
         "mode": "lines",
         "name": "Metropolitana",
         "showlegend": true,
         "type": "scatter",
         "x": [
          "2020-05-01",
          "2020-05-02",
          "2020-05-03",
          "2020-05-04",
          "2020-05-05",
          "2020-05-06",
          "2020-05-07",
          "2020-05-08",
          "2020-05-09",
          "2020-05-10",
          "2020-05-11",
          "2020-05-12",
          "2020-05-13",
          "2020-05-14",
          "2020-05-15",
          "2020-05-16",
          "2020-05-17",
          "2020-05-18",
          "2020-05-19",
          "2020-05-20",
          "2020-05-21",
          "2020-05-22",
          "2020-05-23",
          "2020-05-24",
          "2020-05-25",
          "2020-05-26",
          "2020-05-27",
          "2020-05-28",
          "2020-05-29",
          "2020-05-30",
          "2020-05-31"
         ],
         "xaxis": "x",
         "y": [
          62.1540704248242,
          60.8886904354816,
          62.7125025916551,
          61.0554954663662,
          61.0219528546049,
          62.963971324714,
          62.3219587468085,
          62.3732839843572,
          60.9766394772882,
          61.1557213789648,
          61.2182623202905,
          59.2231994556716,
          58.7999134374039,
          62.051668005822,
          58.1537894035353,
          60.3930481672619,
          51.5929066900082,
          54.8402668864543,
          54.0836324634418,
          53.3744156620998,
          51.5147460132569,
          51.7765289854107,
          51.0067715306033,
          45.3417344433854,
          44.2054656969676,
          40.4616122499172,
          34.4837382684804,
          29.7173320139696,
          30.7094559417361,
          23.4221796540544,
          19.0674283953261
         ],
         "yaxis": "y"
        },
        {
         "hovertemplate": "Region=Arica y Parinacota<br>fecha_train=%{x}<br>mape=%{y}<extra></extra>",
         "legendgroup": "Arica y Parinacota",
         "line": {
          "color": "#19d3f3",
          "dash": "solid"
         },
         "mode": "lines",
         "name": "Arica y Parinacota",
         "showlegend": true,
         "type": "scatter",
         "x": [
          "2020-05-01",
          "2020-05-02",
          "2020-05-03",
          "2020-05-04",
          "2020-05-05",
          "2020-05-06",
          "2020-05-07",
          "2020-05-08",
          "2020-05-09",
          "2020-05-10",
          "2020-05-11",
          "2020-05-12",
          "2020-05-13",
          "2020-05-14",
          "2020-05-15",
          "2020-05-16",
          "2020-05-17",
          "2020-05-18",
          "2020-05-19",
          "2020-05-20",
          "2020-05-21",
          "2020-05-22",
          "2020-05-23",
          "2020-05-24",
          "2020-05-25",
          "2020-05-26",
          "2020-05-27",
          "2020-05-28",
          "2020-05-29",
          "2020-05-30",
          "2020-05-31"
         ],
         "xaxis": "x",
         "y": [
          9.03026248782646,
          11.148009845642,
          5.14940891366441,
          6.0973945192599,
          7.4167977404248,
          6.64862279547138,
          5.78607918115823,
          12.765051804963,
          9.97278717089335,
          9.32771087524829,
          7.22034340543491,
          16.5621261581898,
          16.5649292691445,
          10.0134893859468,
          7.16681293291665,
          5.92455330968765,
          6.19143520592897,
          3.84259814528787,
          3.20864001541222,
          6.10270997647759,
          3.70845309044761,
          6.20289665236359,
          5.13094576028363,
          5.06793134908347,
          2.82528481051687,
          7.78471219459909,
          6.61837840369951,
          4.59503417192102,
          2.77349166224286,
          2.42414175163397,
          4.63413311663623
         ],
         "yaxis": "y"
        }
       ],
       "layout": {
        "legend": {
         "title": {
          "text": "Region"
         },
         "tracegroupgap": 0
        },
        "margin": {
         "t": 60
        },
        "template": {
         "data": {
          "bar": [
           {
            "error_x": {
             "color": "#2a3f5f"
            },
            "error_y": {
             "color": "#2a3f5f"
            },
            "marker": {
             "line": {
              "color": "#E5ECF6",
              "width": 0.5
             }
            },
            "type": "bar"
           }
          ],
          "barpolar": [
           {
            "marker": {
             "line": {
              "color": "#E5ECF6",
              "width": 0.5
             }
            },
            "type": "barpolar"
           }
          ],
          "carpet": [
           {
            "aaxis": {
             "endlinecolor": "#2a3f5f",
             "gridcolor": "white",
             "linecolor": "white",
             "minorgridcolor": "white",
             "startlinecolor": "#2a3f5f"
            },
            "baxis": {
             "endlinecolor": "#2a3f5f",
             "gridcolor": "white",
             "linecolor": "white",
             "minorgridcolor": "white",
             "startlinecolor": "#2a3f5f"
            },
            "type": "carpet"
           }
          ],
          "choropleth": [
           {
            "colorbar": {
             "outlinewidth": 0,
             "ticks": ""
            },
            "type": "choropleth"
           }
          ],
          "contour": [
           {
            "colorbar": {
             "outlinewidth": 0,
             "ticks": ""
            },
            "colorscale": [
             [
              0,
              "#0d0887"
             ],
             [
              0.1111111111111111,
              "#46039f"
             ],
             [
              0.2222222222222222,
              "#7201a8"
             ],
             [
              0.3333333333333333,
              "#9c179e"
             ],
             [
              0.4444444444444444,
              "#bd3786"
             ],
             [
              0.5555555555555556,
              "#d8576b"
             ],
             [
              0.6666666666666666,
              "#ed7953"
             ],
             [
              0.7777777777777778,
              "#fb9f3a"
             ],
             [
              0.8888888888888888,
              "#fdca26"
             ],
             [
              1,
              "#f0f921"
             ]
            ],
            "type": "contour"
           }
          ],
          "contourcarpet": [
           {
            "colorbar": {
             "outlinewidth": 0,
             "ticks": ""
            },
            "type": "contourcarpet"
           }
          ],
          "heatmap": [
           {
            "colorbar": {
             "outlinewidth": 0,
             "ticks": ""
            },
            "colorscale": [
             [
              0,
              "#0d0887"
             ],
             [
              0.1111111111111111,
              "#46039f"
             ],
             [
              0.2222222222222222,
              "#7201a8"
             ],
             [
              0.3333333333333333,
              "#9c179e"
             ],
             [
              0.4444444444444444,
              "#bd3786"
             ],
             [
              0.5555555555555556,
              "#d8576b"
             ],
             [
              0.6666666666666666,
              "#ed7953"
             ],
             [
              0.7777777777777778,
              "#fb9f3a"
             ],
             [
              0.8888888888888888,
              "#fdca26"
             ],
             [
              1,
              "#f0f921"
             ]
            ],
            "type": "heatmap"
           }
          ],
          "heatmapgl": [
           {
            "colorbar": {
             "outlinewidth": 0,
             "ticks": ""
            },
            "colorscale": [
             [
              0,
              "#0d0887"
             ],
             [
              0.1111111111111111,
              "#46039f"
             ],
             [
              0.2222222222222222,
              "#7201a8"
             ],
             [
              0.3333333333333333,
              "#9c179e"
             ],
             [
              0.4444444444444444,
              "#bd3786"
             ],
             [
              0.5555555555555556,
              "#d8576b"
             ],
             [
              0.6666666666666666,
              "#ed7953"
             ],
             [
              0.7777777777777778,
              "#fb9f3a"
             ],
             [
              0.8888888888888888,
              "#fdca26"
             ],
             [
              1,
              "#f0f921"
             ]
            ],
            "type": "heatmapgl"
           }
          ],
          "histogram": [
           {
            "marker": {
             "colorbar": {
              "outlinewidth": 0,
              "ticks": ""
             }
            },
            "type": "histogram"
           }
          ],
          "histogram2d": [
           {
            "colorbar": {
             "outlinewidth": 0,
             "ticks": ""
            },
            "colorscale": [
             [
              0,
              "#0d0887"
             ],
             [
              0.1111111111111111,
              "#46039f"
             ],
             [
              0.2222222222222222,
              "#7201a8"
             ],
             [
              0.3333333333333333,
              "#9c179e"
             ],
             [
              0.4444444444444444,
              "#bd3786"
             ],
             [
              0.5555555555555556,
              "#d8576b"
             ],
             [
              0.6666666666666666,
              "#ed7953"
             ],
             [
              0.7777777777777778,
              "#fb9f3a"
             ],
             [
              0.8888888888888888,
              "#fdca26"
             ],
             [
              1,
              "#f0f921"
             ]
            ],
            "type": "histogram2d"
           }
          ],
          "histogram2dcontour": [
           {
            "colorbar": {
             "outlinewidth": 0,
             "ticks": ""
            },
            "colorscale": [
             [
              0,
              "#0d0887"
             ],
             [
              0.1111111111111111,
              "#46039f"
             ],
             [
              0.2222222222222222,
              "#7201a8"
             ],
             [
              0.3333333333333333,
              "#9c179e"
             ],
             [
              0.4444444444444444,
              "#bd3786"
             ],
             [
              0.5555555555555556,
              "#d8576b"
             ],
             [
              0.6666666666666666,
              "#ed7953"
             ],
             [
              0.7777777777777778,
              "#fb9f3a"
             ],
             [
              0.8888888888888888,
              "#fdca26"
             ],
             [
              1,
              "#f0f921"
             ]
            ],
            "type": "histogram2dcontour"
           }
          ],
          "mesh3d": [
           {
            "colorbar": {
             "outlinewidth": 0,
             "ticks": ""
            },
            "type": "mesh3d"
           }
          ],
          "parcoords": [
           {
            "line": {
             "colorbar": {
              "outlinewidth": 0,
              "ticks": ""
             }
            },
            "type": "parcoords"
           }
          ],
          "pie": [
           {
            "automargin": true,
            "type": "pie"
           }
          ],
          "scatter": [
           {
            "marker": {
             "colorbar": {
              "outlinewidth": 0,
              "ticks": ""
             }
            },
            "type": "scatter"
           }
          ],
          "scatter3d": [
           {
            "line": {
             "colorbar": {
              "outlinewidth": 0,
              "ticks": ""
             }
            },
            "marker": {
             "colorbar": {
              "outlinewidth": 0,
              "ticks": ""
             }
            },
            "type": "scatter3d"
           }
          ],
          "scattercarpet": [
           {
            "marker": {
             "colorbar": {
              "outlinewidth": 0,
              "ticks": ""
             }
            },
            "type": "scattercarpet"
           }
          ],
          "scattergeo": [
           {
            "marker": {
             "colorbar": {
              "outlinewidth": 0,
              "ticks": ""
             }
            },
            "type": "scattergeo"
           }
          ],
          "scattergl": [
           {
            "marker": {
             "colorbar": {
              "outlinewidth": 0,
              "ticks": ""
             }
            },
            "type": "scattergl"
           }
          ],
          "scattermapbox": [
           {
            "marker": {
             "colorbar": {
              "outlinewidth": 0,
              "ticks": ""
             }
            },
            "type": "scattermapbox"
           }
          ],
          "scatterpolar": [
           {
            "marker": {
             "colorbar": {
              "outlinewidth": 0,
              "ticks": ""
             }
            },
            "type": "scatterpolar"
           }
          ],
          "scatterpolargl": [
           {
            "marker": {
             "colorbar": {
              "outlinewidth": 0,
              "ticks": ""
             }
            },
            "type": "scatterpolargl"
           }
          ],
          "scatterternary": [
           {
            "marker": {
             "colorbar": {
              "outlinewidth": 0,
              "ticks": ""
             }
            },
            "type": "scatterternary"
           }
          ],
          "surface": [
           {
            "colorbar": {
             "outlinewidth": 0,
             "ticks": ""
            },
            "colorscale": [
             [
              0,
              "#0d0887"
             ],
             [
              0.1111111111111111,
              "#46039f"
             ],
             [
              0.2222222222222222,
              "#7201a8"
             ],
             [
              0.3333333333333333,
              "#9c179e"
             ],
             [
              0.4444444444444444,
              "#bd3786"
             ],
             [
              0.5555555555555556,
              "#d8576b"
             ],
             [
              0.6666666666666666,
              "#ed7953"
             ],
             [
              0.7777777777777778,
              "#fb9f3a"
             ],
             [
              0.8888888888888888,
              "#fdca26"
             ],
             [
              1,
              "#f0f921"
             ]
            ],
            "type": "surface"
           }
          ],
          "table": [
           {
            "cells": {
             "fill": {
              "color": "#EBF0F8"
             },
             "line": {
              "color": "white"
             }
            },
            "header": {
             "fill": {
              "color": "#C8D4E3"
             },
             "line": {
              "color": "white"
             }
            },
            "type": "table"
           }
          ]
         },
         "layout": {
          "annotationdefaults": {
           "arrowcolor": "#2a3f5f",
           "arrowhead": 0,
           "arrowwidth": 1
          },
          "coloraxis": {
           "colorbar": {
            "outlinewidth": 0,
            "ticks": ""
           }
          },
          "colorscale": {
           "diverging": [
            [
             0,
             "#8e0152"
            ],
            [
             0.1,
             "#c51b7d"
            ],
            [
             0.2,
             "#de77ae"
            ],
            [
             0.3,
             "#f1b6da"
            ],
            [
             0.4,
             "#fde0ef"
            ],
            [
             0.5,
             "#f7f7f7"
            ],
            [
             0.6,
             "#e6f5d0"
            ],
            [
             0.7,
             "#b8e186"
            ],
            [
             0.8,
             "#7fbc41"
            ],
            [
             0.9,
             "#4d9221"
            ],
            [
             1,
             "#276419"
            ]
           ],
           "sequential": [
            [
             0,
             "#0d0887"
            ],
            [
             0.1111111111111111,
             "#46039f"
            ],
            [
             0.2222222222222222,
             "#7201a8"
            ],
            [
             0.3333333333333333,
             "#9c179e"
            ],
            [
             0.4444444444444444,
             "#bd3786"
            ],
            [
             0.5555555555555556,
             "#d8576b"
            ],
            [
             0.6666666666666666,
             "#ed7953"
            ],
            [
             0.7777777777777778,
             "#fb9f3a"
            ],
            [
             0.8888888888888888,
             "#fdca26"
            ],
            [
             1,
             "#f0f921"
            ]
           ],
           "sequentialminus": [
            [
             0,
             "#0d0887"
            ],
            [
             0.1111111111111111,
             "#46039f"
            ],
            [
             0.2222222222222222,
             "#7201a8"
            ],
            [
             0.3333333333333333,
             "#9c179e"
            ],
            [
             0.4444444444444444,
             "#bd3786"
            ],
            [
             0.5555555555555556,
             "#d8576b"
            ],
            [
             0.6666666666666666,
             "#ed7953"
            ],
            [
             0.7777777777777778,
             "#fb9f3a"
            ],
            [
             0.8888888888888888,
             "#fdca26"
            ],
            [
             1,
             "#f0f921"
            ]
           ]
          },
          "colorway": [
           "#636efa",
           "#EF553B",
           "#00cc96",
           "#ab63fa",
           "#FFA15A",
           "#19d3f3",
           "#FF6692",
           "#B6E880",
           "#FF97FF",
           "#FECB52"
          ],
          "font": {
           "color": "#2a3f5f"
          },
          "geo": {
           "bgcolor": "white",
           "lakecolor": "white",
           "landcolor": "#E5ECF6",
           "showlakes": true,
           "showland": true,
           "subunitcolor": "white"
          },
          "hoverlabel": {
           "align": "left"
          },
          "hovermode": "closest",
          "mapbox": {
           "style": "light"
          },
          "paper_bgcolor": "white",
          "plot_bgcolor": "#E5ECF6",
          "polar": {
           "angularaxis": {
            "gridcolor": "white",
            "linecolor": "white",
            "ticks": ""
           },
           "bgcolor": "#E5ECF6",
           "radialaxis": {
            "gridcolor": "white",
            "linecolor": "white",
            "ticks": ""
           }
          },
          "scene": {
           "xaxis": {
            "backgroundcolor": "#E5ECF6",
            "gridcolor": "white",
            "gridwidth": 2,
            "linecolor": "white",
            "showbackground": true,
            "ticks": "",
            "zerolinecolor": "white"
           },
           "yaxis": {
            "backgroundcolor": "#E5ECF6",
            "gridcolor": "white",
            "gridwidth": 2,
            "linecolor": "white",
            "showbackground": true,
            "ticks": "",
            "zerolinecolor": "white"
           },
           "zaxis": {
            "backgroundcolor": "#E5ECF6",
            "gridcolor": "white",
            "gridwidth": 2,
            "linecolor": "white",
            "showbackground": true,
            "ticks": "",
            "zerolinecolor": "white"
           }
          },
          "shapedefaults": {
           "line": {
            "color": "#2a3f5f"
           }
          },
          "ternary": {
           "aaxis": {
            "gridcolor": "white",
            "linecolor": "white",
            "ticks": ""
           },
           "baxis": {
            "gridcolor": "white",
            "linecolor": "white",
            "ticks": ""
           },
           "bgcolor": "#E5ECF6",
           "caxis": {
            "gridcolor": "white",
            "linecolor": "white",
            "ticks": ""
           }
          },
          "title": {
           "x": 0.05
          },
          "xaxis": {
           "automargin": true,
           "gridcolor": "white",
           "linecolor": "white",
           "ticks": "",
           "title": {
            "standoff": 15
           },
           "zerolinecolor": "white",
           "zerolinewidth": 2
          },
          "yaxis": {
           "automargin": true,
           "gridcolor": "white",
           "linecolor": "white",
           "ticks": "",
           "title": {
            "standoff": 15
           },
           "zerolinecolor": "white",
           "zerolinewidth": 2
          }
         }
        },
        "xaxis": {
         "anchor": "y",
         "domain": [
          0,
          1
         ],
         "title": {
          "text": "fecha_train"
         }
        },
        "yaxis": {
         "anchor": "x",
         "domain": [
          0,
          1
         ],
         "title": {
          "text": "mape"
         }
        }
       }
      },
      "text/html": [
       "<div>\n",
       "        \n",
       "        \n",
       "            <div id=\"a00524e7-1446-4c0c-98aa-ff48ef79f332\" class=\"plotly-graph-div\" style=\"height:525px; width:100%;\"></div>\n",
       "            <script type=\"text/javascript\">\n",
       "                require([\"plotly\"], function(Plotly) {\n",
       "                    window.PLOTLYENV=window.PLOTLYENV || {};\n",
       "                    \n",
       "                if (document.getElementById(\"a00524e7-1446-4c0c-98aa-ff48ef79f332\")) {\n",
       "                    Plotly.newPlot(\n",
       "                        'a00524e7-1446-4c0c-98aa-ff48ef79f332',\n",
       "                        [{\"hovertemplate\": \"Region=Maule<br>fecha_train=%{x}<br>mape=%{y}<extra></extra>\", \"legendgroup\": \"Maule\", \"line\": {\"color\": \"#636efa\", \"dash\": \"solid\"}, \"mode\": \"lines\", \"name\": \"Maule\", \"showlegend\": true, \"type\": \"scatter\", \"x\": [\"2020-05-01\", \"2020-05-02\", \"2020-05-03\", \"2020-05-04\", \"2020-05-05\", \"2020-05-06\", \"2020-05-07\", \"2020-05-08\", \"2020-05-09\", \"2020-05-10\", \"2020-05-11\", \"2020-05-12\", \"2020-05-13\", \"2020-05-14\", \"2020-05-15\", \"2020-05-16\", \"2020-05-17\", \"2020-05-18\", \"2020-05-19\", \"2020-05-20\", \"2020-05-21\", \"2020-05-22\", \"2020-05-23\", \"2020-05-24\", \"2020-05-25\", \"2020-05-26\", \"2020-05-27\", \"2020-05-28\", \"2020-05-29\", \"2020-05-30\", \"2020-05-31\"], \"xaxis\": \"x\", \"y\": [7.44499652984033, 11.7959519401559, 7.64343918624843, 6.36873948721444, 7.32843452480619, 8.43867870724027, 9.90343269445599, 9.11185619309551, 8.19373938321135, 8.40808969830432, 7.19729676898306, 9.03933536412706, 8.42661424474473, 10.5905809664301, 10.2722887872978, 7.60459776983072, 7.4212718088789, 7.31523324736232, 8.89855511501805, 10.0096853255676, 8.59717670185211, 10.047906831445, 10.1604888671567, 10.4510114761618, 13.5455841845101, 13.8405909643721, 12.4202759442077, 14.9213762485542, 12.2028431010673, 10.9215743314811, 18.2860417165433], \"yaxis\": \"y\"}, {\"hovertemplate\": \"Region=Ays\\u00e9n<br>fecha_train=%{x}<br>mape=%{y}<extra></extra>\", \"legendgroup\": \"Ays\\u00e9n\", \"line\": {\"color\": \"#EF553B\", \"dash\": \"solid\"}, \"mode\": \"lines\", \"name\": \"Ays\\u00e9n\", \"showlegend\": true, \"type\": \"scatter\", \"x\": [\"2020-05-01\", \"2020-05-02\", \"2020-05-03\", \"2020-05-04\", \"2020-05-05\", \"2020-05-06\", \"2020-05-07\", \"2020-05-08\", \"2020-05-09\", \"2020-05-10\", \"2020-05-11\", \"2020-05-12\", \"2020-05-13\", \"2020-05-14\", \"2020-05-15\", \"2020-05-16\", \"2020-05-17\", \"2020-05-18\", \"2020-05-19\", \"2020-05-20\", \"2020-05-21\", \"2020-05-22\", \"2020-05-23\", \"2020-05-24\", \"2020-05-25\", \"2020-05-26\", \"2020-05-27\", \"2020-05-28\", \"2020-05-29\", \"2020-05-30\", \"2020-05-31\"], \"xaxis\": \"x\", \"y\": [0.520133935378458, 0.975802343342382, 1.23423766259776, 0.811304111804173, 0.691797131727587, 0.127722784481318, 0.720063027795167, 0.143716403128018, 0.289529980132264, 0.652887972879639, 0.253448735579205, 0.214631051149244, 0.306382010839042, 1.24714727909769, 0.9763916507481, 0.860939457647766, 0.253545361867021, 0.476674598301699, 0.602724636776383, 0.63600003443661, 0.496517695124066, 0.727101551378686, 0.679176124320174, 0.51658069975518, 0.507000578790587, 0.469273481227019, 0.782013208407764, 0.538243159749109, 0.257885203003319, 0.478903699505306, 0.227767574479272], \"yaxis\": \"y\"}, {\"hovertemplate\": \"Region=\\u00d1uble<br>fecha_train=%{x}<br>mape=%{y}<extra></extra>\", \"legendgroup\": \"\\u00d1uble\", \"line\": {\"color\": \"#00cc96\", \"dash\": \"solid\"}, \"mode\": \"lines\", \"name\": \"\\u00d1uble\", \"showlegend\": true, \"type\": \"scatter\", \"x\": [\"2020-05-01\", \"2020-05-02\", \"2020-05-03\", \"2020-05-04\", \"2020-05-05\", \"2020-05-06\", \"2020-05-07\", \"2020-05-08\", \"2020-05-09\", \"2020-05-10\", \"2020-05-11\", \"2020-05-12\", \"2020-05-13\", \"2020-05-14\", \"2020-05-15\", \"2020-05-16\", \"2020-05-17\", \"2020-05-18\", \"2020-05-19\", \"2020-05-20\", \"2020-05-21\", \"2020-05-22\", \"2020-05-23\", \"2020-05-24\", \"2020-05-25\", \"2020-05-26\", \"2020-05-27\", \"2020-05-28\", \"2020-05-29\", \"2020-05-30\", \"2020-05-31\"], \"xaxis\": \"x\", \"y\": [9.09437871463007, 9.17470405899128, 6.64238108854398, 6.02884679181752, 9.66844621347143, 26.0723594254488, 3.07546396500469, 17.9602389703234, 33.105057360628, 12.7507678499195, 30.5082483578473, 11.1443507870417, 20.6862161324638, 31.7324899216328, 16.7129487505939, 24.3722204300272, 15.9288038013688, 26.7570398867315, 31.7541446043672, 13.1278195799095, 15.1892395444453, 11.3580765598066, 6.13093304887027, 6.9315901018565, 5.70381368771508, 4.17008881225509, 3.80987321457376, 4.96707990977797, 5.57965406389397, 5.19952187786138, 5.14352199081858], \"yaxis\": \"y\"}, {\"hovertemplate\": \"Region=Atacama<br>fecha_train=%{x}<br>mape=%{y}<extra></extra>\", \"legendgroup\": \"Atacama\", \"line\": {\"color\": \"#ab63fa\", \"dash\": \"solid\"}, \"mode\": \"lines\", \"name\": \"Atacama\", \"showlegend\": true, \"type\": \"scatter\", \"x\": [\"2020-05-01\", \"2020-05-02\", \"2020-05-03\", \"2020-05-04\", \"2020-05-05\", \"2020-05-06\", \"2020-05-07\", \"2020-05-08\", \"2020-05-09\", \"2020-05-10\", \"2020-05-11\", \"2020-05-12\", \"2020-05-13\", \"2020-05-14\", \"2020-05-15\", \"2020-05-16\", \"2020-05-17\", \"2020-05-18\", \"2020-05-19\", \"2020-05-20\", \"2020-05-21\", \"2020-05-22\", \"2020-05-23\", \"2020-05-24\", \"2020-05-25\", \"2020-05-26\", \"2020-05-27\", \"2020-05-28\", \"2020-05-29\", \"2020-05-30\", \"2020-05-31\"], \"xaxis\": \"x\", \"y\": [21.1362123912612, 16.6786329384261, 9.42735270050904, 18.9668558024323, 19.4915286569622, 38.244619069608, 18.3892939833241, 61.3692294333574, 64.5797430580414, 62.1186356860825, 58.7529666139431, 61.7024181315504, 59.4716907468301, 23.1724165858678, 49.5511841973739, 26.8630670822819, 54.1898221156469, 24.9305247762169, 14.7625842897751, 11.4193579647159, 14.6175121445657, 17.8623571044179, 15.1920339901327, 12.6861327113963, 6.81890996877164, 3.41860114128775, 7.61464542417631, 6.63917850487657, 4.57093313980563, 1.63882982860529, 1.50264700256483], \"yaxis\": \"y\"}, {\"hovertemplate\": \"Region=Biob\\u00edo<br>fecha_train=%{x}<br>mape=%{y}<extra></extra>\", \"legendgroup\": \"Biob\\u00edo\", \"line\": {\"color\": \"#FFA15A\", \"dash\": \"solid\"}, \"mode\": \"lines\", \"name\": \"Biob\\u00edo\", \"showlegend\": true, \"type\": \"scatter\", \"x\": [\"2020-05-01\", \"2020-05-02\", \"2020-05-03\", \"2020-05-04\", \"2020-05-05\", \"2020-05-06\", \"2020-05-07\", \"2020-05-08\", \"2020-05-09\", \"2020-05-10\", \"2020-05-11\", \"2020-05-12\", \"2020-05-13\", \"2020-05-14\", \"2020-05-15\", \"2020-05-16\", \"2020-05-17\", \"2020-05-18\", \"2020-05-19\", \"2020-05-20\", \"2020-05-21\", \"2020-05-22\", \"2020-05-23\", \"2020-05-24\", \"2020-05-25\", \"2020-05-26\", \"2020-05-27\", \"2020-05-28\", \"2020-05-29\", \"2020-05-30\", \"2020-05-31\"], \"xaxis\": \"x\", \"y\": [10.4505564590889, 7.42890233340972, 5.11574603912619, 8.95728305673997, 6.7737229229361, 9.63123946090115, 7.55518213185768, 24.2728485746406, 29.8276986466864, 14.9445441823059, 20.4997018988107, 20.6410500391824, 17.7917606605885, 19.6329499857476, 21.0648743439259, 2.88655774268673, 29.2166495778602, 16.0460096330957, 32.126009964531, 8.28053403449165, 37.098520277457, 29.9806636540475, 9.60475834444276, 4.72154484711678, 30.6860716644546, 9.73146206240832, 23.8175269711085, 13.6328027571018, 15.7059262285771, 12.0579999278791, 14.6465640817763], \"yaxis\": \"y\"}, {\"hovertemplate\": \"Region=Coquimbo<br>fecha_train=%{x}<br>mape=%{y}<extra></extra>\", \"legendgroup\": \"Coquimbo\", \"line\": {\"color\": \"#19d3f3\", \"dash\": \"solid\"}, \"mode\": \"lines\", \"name\": \"Coquimbo\", \"showlegend\": true, \"type\": \"scatter\", \"x\": [\"2020-05-01\", \"2020-05-02\", \"2020-05-03\", \"2020-05-04\", \"2020-05-05\", \"2020-05-06\", \"2020-05-07\", \"2020-05-08\", \"2020-05-09\", \"2020-05-10\", \"2020-05-11\", \"2020-05-12\", \"2020-05-13\", \"2020-05-14\", \"2020-05-15\", \"2020-05-16\", \"2020-05-17\", \"2020-05-18\", \"2020-05-19\", \"2020-05-20\", \"2020-05-21\", \"2020-05-22\", \"2020-05-23\", \"2020-05-24\", \"2020-05-25\", \"2020-05-26\", \"2020-05-27\", \"2020-05-28\", \"2020-05-29\", \"2020-05-30\", \"2020-05-31\"], \"xaxis\": \"x\", \"y\": [22.1489479474531, 24.3542106424438, 24.6923203821834, 23.1947215214064, 22.4671811884463, 18.3667392065217, 20.6530319379453, 17.6303536295573, 14.9827521745417, 21.503768712076, 19.0137931585277, 19.2185295350137, 26.6017267296782, 26.6285853695377, 36.2432045962727, 32.5258592612645, 47.2893818262625, 29.4248437680803, 24.6350901597518, 34.0103135625768, 27.9152715725175, 27.8368785287154, 18.4447109053266, 9.01961898547648, 10.4796610008987, 5.05927179049555, 7.61765670669951, 5.18957899393679, 6.06778464507788, 4.82125542431003, 8.33211148415243], \"yaxis\": \"y\"}, {\"hovertemplate\": \"Region=Los Lagos<br>fecha_train=%{x}<br>mape=%{y}<extra></extra>\", \"legendgroup\": \"Los Lagos\", \"line\": {\"color\": \"#FF6692\", \"dash\": \"solid\"}, \"mode\": \"lines\", \"name\": \"Los Lagos\", \"showlegend\": true, \"type\": \"scatter\", \"x\": [\"2020-05-01\", \"2020-05-02\", \"2020-05-03\", \"2020-05-04\", \"2020-05-05\", \"2020-05-06\", \"2020-05-07\", \"2020-05-08\", \"2020-05-09\", \"2020-05-10\", \"2020-05-11\", \"2020-05-12\", \"2020-05-13\", \"2020-05-14\", \"2020-05-15\", \"2020-05-16\", \"2020-05-17\", \"2020-05-18\", \"2020-05-19\", \"2020-05-20\", \"2020-05-21\", \"2020-05-22\", \"2020-05-23\", \"2020-05-24\", \"2020-05-25\", \"2020-05-26\", \"2020-05-27\", \"2020-05-28\", \"2020-05-29\", \"2020-05-30\", \"2020-05-31\"], \"xaxis\": \"x\", \"y\": [7.70548399802651, 9.82127544965624, 5.99171312947195, 10.2093251953087, 9.6127710687535, 12.2861848474457, 5.62916957389118, 6.12698860663669, 6.75199710864764, 3.90740985719658, 4.63416390084453, 3.86728015398083, 3.98681352560233, 2.97887074634528, 3.5598531618439, 6.01963248168433, 5.89919006743464, 2.8164852829495, 6.29970812482347, 9.66044288678995, 13.446186155447, 12.6018709349741, 11.539678248077, 7.6502409762269, 6.83696581308656, 5.63080782720724, 8.13154525331374, 3.74938129256758, 6.87518418197114, 3.36088915845231, 2.57743804577727], \"yaxis\": \"y\"}, {\"hovertemplate\": \"Region=Los R\\u00edos<br>fecha_train=%{x}<br>mape=%{y}<extra></extra>\", \"legendgroup\": \"Los R\\u00edos\", \"line\": {\"color\": \"#B6E880\", \"dash\": \"solid\"}, \"mode\": \"lines\", \"name\": \"Los R\\u00edos\", \"showlegend\": true, \"type\": \"scatter\", \"x\": [\"2020-05-01\", \"2020-05-02\", \"2020-05-03\", \"2020-05-04\", \"2020-05-05\", \"2020-05-06\", \"2020-05-07\", \"2020-05-08\", \"2020-05-09\", \"2020-05-10\", \"2020-05-11\", \"2020-05-12\", \"2020-05-13\", \"2020-05-14\", \"2020-05-15\", \"2020-05-16\", \"2020-05-17\", \"2020-05-18\", \"2020-05-19\", \"2020-05-20\", \"2020-05-21\", \"2020-05-22\", \"2020-05-23\", \"2020-05-24\", \"2020-05-25\", \"2020-05-26\", \"2020-05-27\", \"2020-05-28\", \"2020-05-29\", \"2020-05-30\", \"2020-05-31\"], \"xaxis\": \"x\", \"y\": [11.3199695505854, 11.0985593381291, 9.19681800618314, 8.80059102398237, 7.07303280243033, 7.35863778570923, 6.05575710194655, 5.53637492709807, 5.67403130541971, 5.52259726906313, 6.41215596246933, 6.99823848109045, 4.96625202926684, 8.70904646743305, 6.61020088178064, 7.25335116440104, 8.19345917492517, 8.47154664636906, 7.88450871258673, 7.3522740755648, 7.20849831800144, 11.1071971050581, 6.37396228214493, 7.1813178659886, 10.0744261786684, 5.65298611028518, 13.2530015079209, 10.7657755017529, 4.06947737053975, 8.77824194862231, 6.49508420957384], \"yaxis\": \"y\"}, {\"hovertemplate\": \"Region=Tarapac\\u00e1<br>fecha_train=%{x}<br>mape=%{y}<extra></extra>\", \"legendgroup\": \"Tarapac\\u00e1\", \"line\": {\"color\": \"#FF97FF\", \"dash\": \"solid\"}, \"mode\": \"lines\", \"name\": \"Tarapac\\u00e1\", \"showlegend\": true, \"type\": \"scatter\", \"x\": [\"2020-05-01\", \"2020-05-02\", \"2020-05-03\", \"2020-05-04\", \"2020-05-05\", \"2020-05-06\", \"2020-05-07\", \"2020-05-08\", \"2020-05-09\", \"2020-05-10\", \"2020-05-11\", \"2020-05-12\", \"2020-05-13\", \"2020-05-14\", \"2020-05-15\", \"2020-05-16\", \"2020-05-17\", \"2020-05-18\", \"2020-05-19\", \"2020-05-20\", \"2020-05-21\", \"2020-05-22\", \"2020-05-23\", \"2020-05-24\", \"2020-05-25\", \"2020-05-26\", \"2020-05-27\", \"2020-05-28\", \"2020-05-29\", \"2020-05-30\", \"2020-05-31\"], \"xaxis\": \"x\", \"y\": [46.210352758752, 42.7560053086158, 41.6621119496223, 36.784433061167, 38.8443166956789, 37.7552680315641, 41.6461636723689, 30.0875099112318, 38.6523303793523, 33.9874769920118, 35.0965757132927, 28.4616027170005, 27.0301467174354, 34.8841297917415, 37.5790875678106, 37.3458687268286, 38.9688868284807, 37.846686302676, 36.1090818249578, 30.2159804494754, 28.9048398075671, 35.5491476892963, 36.1989509770125, 32.7755695854805, 24.9253023692732, 22.3214445198067, 16.4549463760156, 15.4567802908185, 12.3332003096509, 5.85294611827277, 7.20793938960531], \"yaxis\": \"y\"}, {\"hovertemplate\": \"Region=Araucan\\u00eda<br>fecha_train=%{x}<br>mape=%{y}<extra></extra>\", \"legendgroup\": \"Araucan\\u00eda\", \"line\": {\"color\": \"#FECB52\", \"dash\": \"solid\"}, \"mode\": \"lines\", \"name\": \"Araucan\\u00eda\", \"showlegend\": true, \"type\": \"scatter\", \"x\": [\"2020-05-01\", \"2020-05-02\", \"2020-05-03\", \"2020-05-04\", \"2020-05-05\", \"2020-05-06\", \"2020-05-07\", \"2020-05-08\", \"2020-05-09\", \"2020-05-10\", \"2020-05-11\", \"2020-05-12\", \"2020-05-13\", \"2020-05-14\", \"2020-05-15\", \"2020-05-16\", \"2020-05-17\", \"2020-05-18\", \"2020-05-19\", \"2020-05-20\", \"2020-05-21\", \"2020-05-22\", \"2020-05-23\", \"2020-05-24\", \"2020-05-25\", \"2020-05-26\", \"2020-05-27\", \"2020-05-28\", \"2020-05-29\", \"2020-05-30\", \"2020-05-31\"], \"xaxis\": \"x\", \"y\": [21.227426504043, 24.2498915806994, 19.9458264380451, 7.05064141430912, 9.56482290899323, 28.8106404723334, 14.4463044670719, 15.8664603134292, 37.9446315824226, 18.4635937715502, 18.9475449271852, 13.7462620364306, 27.3140735955318, 4.67165052043202, 30.1776452080102, 12.6631561449627, 19.5006121927447, 7.13736227547351, 2.83673830464896, 2.50226009424236, 3.99972660238689, 3.54451278551171, 11.1001011836074, 2.56243611984635, 8.67264653995099, 6.81227029304504, 19.5373594213548, 9.35002524077639, 12.1116926553619, 14.0556846369813, 23.3568981231656], \"yaxis\": \"y\"}, {\"hovertemplate\": \"Region=Magallanes<br>fecha_train=%{x}<br>mape=%{y}<extra></extra>\", \"legendgroup\": \"Magallanes\", \"line\": {\"color\": \"#636efa\", \"dash\": \"solid\"}, \"mode\": \"lines\", \"name\": \"Magallanes\", \"showlegend\": true, \"type\": \"scatter\", \"x\": [\"2020-05-01\", \"2020-05-02\", \"2020-05-03\", \"2020-05-04\", \"2020-05-05\", \"2020-05-06\", \"2020-05-07\", \"2020-05-08\", \"2020-05-09\", \"2020-05-10\", \"2020-05-11\", \"2020-05-12\", \"2020-05-13\", \"2020-05-14\", \"2020-05-15\", \"2020-05-16\", \"2020-05-17\", \"2020-05-18\", \"2020-05-19\", \"2020-05-20\", \"2020-05-21\", \"2020-05-22\", \"2020-05-23\", \"2020-05-24\", \"2020-05-25\", \"2020-05-26\", \"2020-05-27\", \"2020-05-28\", \"2020-05-29\", \"2020-05-30\", \"2020-05-31\"], \"xaxis\": \"x\", \"y\": [7.63944055273745, 16.643192327494, 10.6853204531936, 13.4828940970948, 20.1413440597961, 19.9280633034182, 10.8816117166839, 14.6404193086343, 34.8409038325785, 21.3429468899251, 25.7731033118078, 26.0225216088044, 20.6879243245094, 28.0523028618405, 20.6132450636665, 11.305308753852, 12.6956178048673, 21.953215436394, 37.1530892680886, 8.0120037042184, 31.4892810633799, 12.8802183540107, 9.22819413079726, 1.56036479093495, 15.6784120962272, 4.75055282517022, 2.26999629602348, 2.66289293319894, 4.5373980086544, 3.06191453039402, 4.6152751617927], \"yaxis\": \"y\"}, {\"hovertemplate\": \"Region=Antofagasta<br>fecha_train=%{x}<br>mape=%{y}<extra></extra>\", \"legendgroup\": \"Antofagasta\", \"line\": {\"color\": \"#EF553B\", \"dash\": \"solid\"}, \"mode\": \"lines\", \"name\": \"Antofagasta\", \"showlegend\": true, \"type\": \"scatter\", \"x\": [\"2020-05-01\", \"2020-05-02\", \"2020-05-03\", \"2020-05-04\", \"2020-05-05\", \"2020-05-06\", \"2020-05-07\", \"2020-05-08\", \"2020-05-09\", \"2020-05-10\", \"2020-05-11\", \"2020-05-12\", \"2020-05-13\", \"2020-05-14\", \"2020-05-15\", \"2020-05-16\", \"2020-05-17\", \"2020-05-18\", \"2020-05-19\", \"2020-05-20\", \"2020-05-21\", \"2020-05-22\", \"2020-05-23\", \"2020-05-24\", \"2020-05-25\", \"2020-05-26\", \"2020-05-27\", \"2020-05-28\", \"2020-05-29\", \"2020-05-30\", \"2020-05-31\"], \"xaxis\": \"x\", \"y\": [37.3950101871354, 37.7097433920785, 42.2056465924092, 38.6166414128847, 41.5749006500247, 31.1333052149506, 40.4159483773511, 24.7839759866887, 17.1653714600122, 29.3157565337213, 23.5314530360393, 22.6138332244955, 24.4722625569429, 31.4526319412002, 22.3031087003044, 17.6672533555936, 12.5482759036298, 28.0075577789487, 19.2465502954271, 12.0862701921316, 9.27972098186781, 6.05242148824973, 17.6475583927259, 14.0771424353115, 23.8332745573625, 17.0045244212653, 24.7821138524395, 25.5972699405087, 10.6739084045861, 6.35389150901332, 19.5174419026091], \"yaxis\": \"y\"}, {\"hovertemplate\": \"Region=O\\u2019Higgins<br>fecha_train=%{x}<br>mape=%{y}<extra></extra>\", \"legendgroup\": \"O\\u2019Higgins\", \"line\": {\"color\": \"#00cc96\", \"dash\": \"solid\"}, \"mode\": \"lines\", \"name\": \"O\\u2019Higgins\", \"showlegend\": true, \"type\": \"scatter\", \"x\": [\"2020-05-01\", \"2020-05-02\", \"2020-05-03\", \"2020-05-04\", \"2020-05-05\", \"2020-05-06\", \"2020-05-07\", \"2020-05-08\", \"2020-05-09\", \"2020-05-10\", \"2020-05-11\", \"2020-05-12\", \"2020-05-13\", \"2020-05-14\", \"2020-05-15\", \"2020-05-16\", \"2020-05-17\", \"2020-05-18\", \"2020-05-19\", \"2020-05-20\", \"2020-05-21\", \"2020-05-22\", \"2020-05-23\", \"2020-05-24\", \"2020-05-25\", \"2020-05-26\", \"2020-05-27\", \"2020-05-28\", \"2020-05-29\", \"2020-05-30\", \"2020-05-31\"], \"xaxis\": \"x\", \"y\": [34.4651974325513, 30.6024671500328, 32.8638213235756, 30.677855587472, 33.0614671334251, 32.701970167616, 33.7390770802659, 35.7596579085674, 34.5014376851568, 32.6106283932173, 36.5214255306998, 33.8927706296969, 33.1646703148569, 32.3538676342521, 33.3721924708407, 34.6478267390993, 35.719193932173, 27.5240981003364, 28.5975966497894, 26.8482540254898, 24.0925656355033, 24.0694820887371, 17.6810723192113, 15.1844809554073, 8.23733740036512, 14.3751495533085, 9.11502069837545, 4.35747606251106, 2.81312102696983, 2.84545484091404, 6.33647109499629], \"yaxis\": \"y\"}, {\"hovertemplate\": \"Region=Valpara\\u00edso<br>fecha_train=%{x}<br>mape=%{y}<extra></extra>\", \"legendgroup\": \"Valpara\\u00edso\", \"line\": {\"color\": \"#ab63fa\", \"dash\": \"solid\"}, \"mode\": \"lines\", \"name\": \"Valpara\\u00edso\", \"showlegend\": true, \"type\": \"scatter\", \"x\": [\"2020-05-01\", \"2020-05-02\", \"2020-05-03\", \"2020-05-04\", \"2020-05-05\", \"2020-05-06\", \"2020-05-07\", \"2020-05-08\", \"2020-05-09\", \"2020-05-10\", \"2020-05-11\", \"2020-05-12\", \"2020-05-13\", \"2020-05-14\", \"2020-05-15\", \"2020-05-16\", \"2020-05-17\", \"2020-05-18\", \"2020-05-19\", \"2020-05-20\", \"2020-05-21\", \"2020-05-22\", \"2020-05-23\", \"2020-05-24\", \"2020-05-25\", \"2020-05-26\", \"2020-05-27\", \"2020-05-28\", \"2020-05-29\", \"2020-05-30\", \"2020-05-31\"], \"xaxis\": \"x\", \"y\": [39.1943154164524, 50.5585454267906, 49.4042804281086, 48.6930740240587, 49.1618617275603, 29.3879505556562, 44.6409510214087, 33.3376006572613, 26.3084301379189, 31.1067630379727, 30.761718419579, 29.170174531331, 29.7687447375628, 35.7971993382772, 38.6144869679402, 40.3577297213305, 24.6463616668193, 38.8476967707459, 33.47958745776, 35.4566300376162, 32.2619924668664, 31.0963386012773, 22.2120388078479, 27.3714384097788, 23.5187099933265, 17.7428061289784, 13.1353634850898, 16.2127724484229, 11.1460363674531, 11.9054668817476, 6.53483241572914], \"yaxis\": \"y\"}, {\"hovertemplate\": \"Region=Metropolitana<br>fecha_train=%{x}<br>mape=%{y}<extra></extra>\", \"legendgroup\": \"Metropolitana\", \"line\": {\"color\": \"#FFA15A\", \"dash\": \"solid\"}, \"mode\": \"lines\", \"name\": \"Metropolitana\", \"showlegend\": true, \"type\": \"scatter\", \"x\": [\"2020-05-01\", \"2020-05-02\", \"2020-05-03\", \"2020-05-04\", \"2020-05-05\", \"2020-05-06\", \"2020-05-07\", \"2020-05-08\", \"2020-05-09\", \"2020-05-10\", \"2020-05-11\", \"2020-05-12\", \"2020-05-13\", \"2020-05-14\", \"2020-05-15\", \"2020-05-16\", \"2020-05-17\", \"2020-05-18\", \"2020-05-19\", \"2020-05-20\", \"2020-05-21\", \"2020-05-22\", \"2020-05-23\", \"2020-05-24\", \"2020-05-25\", \"2020-05-26\", \"2020-05-27\", \"2020-05-28\", \"2020-05-29\", \"2020-05-30\", \"2020-05-31\"], \"xaxis\": \"x\", \"y\": [62.1540704248242, 60.8886904354816, 62.7125025916551, 61.0554954663662, 61.0219528546049, 62.963971324714, 62.3219587468085, 62.3732839843572, 60.9766394772882, 61.1557213789648, 61.2182623202905, 59.2231994556716, 58.7999134374039, 62.051668005822, 58.1537894035353, 60.3930481672619, 51.5929066900082, 54.8402668864543, 54.0836324634418, 53.3744156620998, 51.5147460132569, 51.7765289854107, 51.0067715306033, 45.3417344433854, 44.2054656969676, 40.4616122499172, 34.4837382684804, 29.7173320139696, 30.7094559417361, 23.4221796540544, 19.0674283953261], \"yaxis\": \"y\"}, {\"hovertemplate\": \"Region=Arica y Parinacota<br>fecha_train=%{x}<br>mape=%{y}<extra></extra>\", \"legendgroup\": \"Arica y Parinacota\", \"line\": {\"color\": \"#19d3f3\", \"dash\": \"solid\"}, \"mode\": \"lines\", \"name\": \"Arica y Parinacota\", \"showlegend\": true, \"type\": \"scatter\", \"x\": [\"2020-05-01\", \"2020-05-02\", \"2020-05-03\", \"2020-05-04\", \"2020-05-05\", \"2020-05-06\", \"2020-05-07\", \"2020-05-08\", \"2020-05-09\", \"2020-05-10\", \"2020-05-11\", \"2020-05-12\", \"2020-05-13\", \"2020-05-14\", \"2020-05-15\", \"2020-05-16\", \"2020-05-17\", \"2020-05-18\", \"2020-05-19\", \"2020-05-20\", \"2020-05-21\", \"2020-05-22\", \"2020-05-23\", \"2020-05-24\", \"2020-05-25\", \"2020-05-26\", \"2020-05-27\", \"2020-05-28\", \"2020-05-29\", \"2020-05-30\", \"2020-05-31\"], \"xaxis\": \"x\", \"y\": [9.03026248782646, 11.148009845642, 5.14940891366441, 6.0973945192599, 7.4167977404248, 6.64862279547138, 5.78607918115823, 12.765051804963, 9.97278717089335, 9.32771087524829, 7.22034340543491, 16.5621261581898, 16.5649292691445, 10.0134893859468, 7.16681293291665, 5.92455330968765, 6.19143520592897, 3.84259814528787, 3.20864001541222, 6.10270997647759, 3.70845309044761, 6.20289665236359, 5.13094576028363, 5.06793134908347, 2.82528481051687, 7.78471219459909, 6.61837840369951, 4.59503417192102, 2.77349166224286, 2.42414175163397, 4.63413311663623], \"yaxis\": \"y\"}],\n",
       "                        {\"legend\": {\"title\": {\"text\": \"Region\"}, \"tracegroupgap\": 0}, \"margin\": {\"t\": 60}, \"template\": {\"data\": {\"bar\": [{\"error_x\": {\"color\": \"#2a3f5f\"}, \"error_y\": {\"color\": \"#2a3f5f\"}, \"marker\": {\"line\": {\"color\": \"#E5ECF6\", \"width\": 0.5}}, \"type\": \"bar\"}], \"barpolar\": [{\"marker\": {\"line\": {\"color\": \"#E5ECF6\", \"width\": 0.5}}, \"type\": \"barpolar\"}], \"carpet\": [{\"aaxis\": {\"endlinecolor\": \"#2a3f5f\", \"gridcolor\": \"white\", \"linecolor\": \"white\", \"minorgridcolor\": \"white\", \"startlinecolor\": \"#2a3f5f\"}, \"baxis\": {\"endlinecolor\": \"#2a3f5f\", \"gridcolor\": \"white\", \"linecolor\": \"white\", \"minorgridcolor\": \"white\", \"startlinecolor\": \"#2a3f5f\"}, \"type\": \"carpet\"}], \"choropleth\": [{\"colorbar\": {\"outlinewidth\": 0, \"ticks\": \"\"}, \"type\": \"choropleth\"}], \"contour\": [{\"colorbar\": {\"outlinewidth\": 0, \"ticks\": \"\"}, \"colorscale\": [[0.0, \"#0d0887\"], [0.1111111111111111, \"#46039f\"], [0.2222222222222222, \"#7201a8\"], [0.3333333333333333, \"#9c179e\"], [0.4444444444444444, \"#bd3786\"], [0.5555555555555556, \"#d8576b\"], [0.6666666666666666, \"#ed7953\"], [0.7777777777777778, \"#fb9f3a\"], [0.8888888888888888, \"#fdca26\"], [1.0, \"#f0f921\"]], \"type\": \"contour\"}], \"contourcarpet\": [{\"colorbar\": {\"outlinewidth\": 0, \"ticks\": \"\"}, \"type\": \"contourcarpet\"}], \"heatmap\": [{\"colorbar\": {\"outlinewidth\": 0, \"ticks\": \"\"}, \"colorscale\": [[0.0, \"#0d0887\"], [0.1111111111111111, \"#46039f\"], [0.2222222222222222, \"#7201a8\"], [0.3333333333333333, \"#9c179e\"], [0.4444444444444444, \"#bd3786\"], [0.5555555555555556, \"#d8576b\"], [0.6666666666666666, \"#ed7953\"], [0.7777777777777778, \"#fb9f3a\"], [0.8888888888888888, \"#fdca26\"], [1.0, \"#f0f921\"]], \"type\": \"heatmap\"}], \"heatmapgl\": [{\"colorbar\": {\"outlinewidth\": 0, \"ticks\": \"\"}, \"colorscale\": [[0.0, \"#0d0887\"], [0.1111111111111111, \"#46039f\"], [0.2222222222222222, \"#7201a8\"], [0.3333333333333333, \"#9c179e\"], [0.4444444444444444, \"#bd3786\"], [0.5555555555555556, \"#d8576b\"], [0.6666666666666666, \"#ed7953\"], [0.7777777777777778, \"#fb9f3a\"], [0.8888888888888888, \"#fdca26\"], [1.0, \"#f0f921\"]], \"type\": \"heatmapgl\"}], \"histogram\": [{\"marker\": {\"colorbar\": {\"outlinewidth\": 0, \"ticks\": \"\"}}, \"type\": \"histogram\"}], \"histogram2d\": [{\"colorbar\": {\"outlinewidth\": 0, \"ticks\": \"\"}, \"colorscale\": [[0.0, \"#0d0887\"], [0.1111111111111111, \"#46039f\"], [0.2222222222222222, \"#7201a8\"], [0.3333333333333333, \"#9c179e\"], [0.4444444444444444, \"#bd3786\"], [0.5555555555555556, \"#d8576b\"], [0.6666666666666666, \"#ed7953\"], [0.7777777777777778, \"#fb9f3a\"], [0.8888888888888888, \"#fdca26\"], [1.0, \"#f0f921\"]], \"type\": \"histogram2d\"}], \"histogram2dcontour\": [{\"colorbar\": {\"outlinewidth\": 0, \"ticks\": \"\"}, \"colorscale\": [[0.0, \"#0d0887\"], [0.1111111111111111, \"#46039f\"], [0.2222222222222222, \"#7201a8\"], [0.3333333333333333, \"#9c179e\"], [0.4444444444444444, \"#bd3786\"], [0.5555555555555556, \"#d8576b\"], [0.6666666666666666, \"#ed7953\"], [0.7777777777777778, \"#fb9f3a\"], [0.8888888888888888, \"#fdca26\"], [1.0, \"#f0f921\"]], \"type\": \"histogram2dcontour\"}], \"mesh3d\": [{\"colorbar\": {\"outlinewidth\": 0, \"ticks\": \"\"}, \"type\": \"mesh3d\"}], \"parcoords\": [{\"line\": {\"colorbar\": {\"outlinewidth\": 0, \"ticks\": \"\"}}, \"type\": \"parcoords\"}], \"pie\": [{\"automargin\": true, \"type\": \"pie\"}], \"scatter\": [{\"marker\": {\"colorbar\": {\"outlinewidth\": 0, \"ticks\": \"\"}}, \"type\": \"scatter\"}], \"scatter3d\": [{\"line\": {\"colorbar\": {\"outlinewidth\": 0, \"ticks\": \"\"}}, \"marker\": {\"colorbar\": {\"outlinewidth\": 0, \"ticks\": \"\"}}, \"type\": \"scatter3d\"}], \"scattercarpet\": [{\"marker\": {\"colorbar\": {\"outlinewidth\": 0, \"ticks\": \"\"}}, \"type\": \"scattercarpet\"}], \"scattergeo\": [{\"marker\": {\"colorbar\": {\"outlinewidth\": 0, \"ticks\": \"\"}}, \"type\": \"scattergeo\"}], \"scattergl\": [{\"marker\": {\"colorbar\": {\"outlinewidth\": 0, \"ticks\": \"\"}}, \"type\": \"scattergl\"}], \"scattermapbox\": [{\"marker\": {\"colorbar\": {\"outlinewidth\": 0, \"ticks\": \"\"}}, \"type\": \"scattermapbox\"}], \"scatterpolar\": [{\"marker\": {\"colorbar\": {\"outlinewidth\": 0, \"ticks\": \"\"}}, \"type\": \"scatterpolar\"}], \"scatterpolargl\": [{\"marker\": {\"colorbar\": {\"outlinewidth\": 0, \"ticks\": \"\"}}, \"type\": \"scatterpolargl\"}], \"scatterternary\": [{\"marker\": {\"colorbar\": {\"outlinewidth\": 0, \"ticks\": \"\"}}, \"type\": \"scatterternary\"}], \"surface\": [{\"colorbar\": {\"outlinewidth\": 0, \"ticks\": \"\"}, \"colorscale\": [[0.0, \"#0d0887\"], [0.1111111111111111, \"#46039f\"], [0.2222222222222222, \"#7201a8\"], [0.3333333333333333, \"#9c179e\"], [0.4444444444444444, \"#bd3786\"], [0.5555555555555556, \"#d8576b\"], [0.6666666666666666, \"#ed7953\"], [0.7777777777777778, \"#fb9f3a\"], [0.8888888888888888, \"#fdca26\"], [1.0, \"#f0f921\"]], \"type\": \"surface\"}], \"table\": [{\"cells\": {\"fill\": {\"color\": \"#EBF0F8\"}, \"line\": {\"color\": \"white\"}}, \"header\": {\"fill\": {\"color\": \"#C8D4E3\"}, \"line\": {\"color\": \"white\"}}, \"type\": \"table\"}]}, \"layout\": {\"annotationdefaults\": {\"arrowcolor\": \"#2a3f5f\", \"arrowhead\": 0, \"arrowwidth\": 1}, \"coloraxis\": {\"colorbar\": {\"outlinewidth\": 0, \"ticks\": \"\"}}, \"colorscale\": {\"diverging\": [[0, \"#8e0152\"], [0.1, \"#c51b7d\"], [0.2, \"#de77ae\"], [0.3, \"#f1b6da\"], [0.4, \"#fde0ef\"], [0.5, \"#f7f7f7\"], [0.6, \"#e6f5d0\"], [0.7, \"#b8e186\"], [0.8, \"#7fbc41\"], [0.9, \"#4d9221\"], [1, \"#276419\"]], \"sequential\": [[0.0, \"#0d0887\"], [0.1111111111111111, \"#46039f\"], [0.2222222222222222, \"#7201a8\"], [0.3333333333333333, \"#9c179e\"], [0.4444444444444444, \"#bd3786\"], [0.5555555555555556, \"#d8576b\"], [0.6666666666666666, \"#ed7953\"], [0.7777777777777778, \"#fb9f3a\"], [0.8888888888888888, \"#fdca26\"], [1.0, \"#f0f921\"]], \"sequentialminus\": [[0.0, \"#0d0887\"], [0.1111111111111111, \"#46039f\"], [0.2222222222222222, \"#7201a8\"], [0.3333333333333333, \"#9c179e\"], [0.4444444444444444, \"#bd3786\"], [0.5555555555555556, \"#d8576b\"], [0.6666666666666666, \"#ed7953\"], [0.7777777777777778, \"#fb9f3a\"], [0.8888888888888888, \"#fdca26\"], [1.0, \"#f0f921\"]]}, \"colorway\": [\"#636efa\", \"#EF553B\", \"#00cc96\", \"#ab63fa\", \"#FFA15A\", \"#19d3f3\", \"#FF6692\", \"#B6E880\", \"#FF97FF\", \"#FECB52\"], \"font\": {\"color\": \"#2a3f5f\"}, \"geo\": {\"bgcolor\": \"white\", \"lakecolor\": \"white\", \"landcolor\": \"#E5ECF6\", \"showlakes\": true, \"showland\": true, \"subunitcolor\": \"white\"}, \"hoverlabel\": {\"align\": \"left\"}, \"hovermode\": \"closest\", \"mapbox\": {\"style\": \"light\"}, \"paper_bgcolor\": \"white\", \"plot_bgcolor\": \"#E5ECF6\", \"polar\": {\"angularaxis\": {\"gridcolor\": \"white\", \"linecolor\": \"white\", \"ticks\": \"\"}, \"bgcolor\": \"#E5ECF6\", \"radialaxis\": {\"gridcolor\": \"white\", \"linecolor\": \"white\", \"ticks\": \"\"}}, \"scene\": {\"xaxis\": {\"backgroundcolor\": \"#E5ECF6\", \"gridcolor\": \"white\", \"gridwidth\": 2, \"linecolor\": \"white\", \"showbackground\": true, \"ticks\": \"\", \"zerolinecolor\": \"white\"}, \"yaxis\": {\"backgroundcolor\": \"#E5ECF6\", \"gridcolor\": \"white\", \"gridwidth\": 2, \"linecolor\": \"white\", \"showbackground\": true, \"ticks\": \"\", \"zerolinecolor\": \"white\"}, \"zaxis\": {\"backgroundcolor\": \"#E5ECF6\", \"gridcolor\": \"white\", \"gridwidth\": 2, \"linecolor\": \"white\", \"showbackground\": true, \"ticks\": \"\", \"zerolinecolor\": \"white\"}}, \"shapedefaults\": {\"line\": {\"color\": \"#2a3f5f\"}}, \"ternary\": {\"aaxis\": {\"gridcolor\": \"white\", \"linecolor\": \"white\", \"ticks\": \"\"}, \"baxis\": {\"gridcolor\": \"white\", \"linecolor\": \"white\", \"ticks\": \"\"}, \"bgcolor\": \"#E5ECF6\", \"caxis\": {\"gridcolor\": \"white\", \"linecolor\": \"white\", \"ticks\": \"\"}}, \"title\": {\"x\": 0.05}, \"xaxis\": {\"automargin\": true, \"gridcolor\": \"white\", \"linecolor\": \"white\", \"ticks\": \"\", \"title\": {\"standoff\": 15}, \"zerolinecolor\": \"white\", \"zerolinewidth\": 2}, \"yaxis\": {\"automargin\": true, \"gridcolor\": \"white\", \"linecolor\": \"white\", \"ticks\": \"\", \"title\": {\"standoff\": 15}, \"zerolinecolor\": \"white\", \"zerolinewidth\": 2}}}, \"xaxis\": {\"anchor\": \"y\", \"domain\": [0.0, 1.0], \"title\": {\"text\": \"fecha_train\"}}, \"yaxis\": {\"anchor\": \"x\", \"domain\": [0.0, 1.0], \"title\": {\"text\": \"mape\"}}},\n",
       "                        {\"responsive\": true}\n",
       "                    ).then(function(){\n",
       "                            \n",
       "var gd = document.getElementById('a00524e7-1446-4c0c-98aa-ff48ef79f332');\n",
       "var x = new MutationObserver(function (mutations, observer) {{\n",
       "        var display = window.getComputedStyle(gd).display;\n",
       "        if (!display || display === 'none') {{\n",
       "            console.log([gd, 'removed!']);\n",
       "            Plotly.purge(gd);\n",
       "            observer.disconnect();\n",
       "        }}\n",
       "}});\n",
       "\n",
       "// Listen for the removal of the full notebook cells\n",
       "var notebookContainer = gd.closest('#notebook-container');\n",
       "if (notebookContainer) {{\n",
       "    x.observe(notebookContainer, {childList: true});\n",
       "}}\n",
       "\n",
       "// Listen for the clearing of the current output cell\n",
       "var outputEl = gd.closest('.output');\n",
       "if (outputEl) {{\n",
       "    x.observe(outputEl, {childList: true});\n",
       "}}\n",
       "\n",
       "                        })\n",
       "                };\n",
       "                });\n",
       "            </script>\n",
       "        </div>"
      ]
     },
     "metadata": {},
     "output_type": "display_data"
    }
   ],
   "source": [
    "px.line(mapes, x='fecha_train', y='mape', color='Region')"
   ]
  },
  {
   "cell_type": "code",
   "execution_count": null,
   "metadata": {},
   "outputs": [],
   "source": []
  }
 ],
 "metadata": {
  "kernelspec": {
   "display_name": "Python [conda env:spike_basicoV6]",
   "language": "python",
   "name": "conda-env-spike_basicoV6-py"
  },
  "language_info": {
   "codemirror_mode": {
    "name": "ipython",
    "version": 3
   },
   "file_extension": ".py",
   "mimetype": "text/x-python",
   "name": "python",
   "nbconvert_exporter": "python",
   "pygments_lexer": "ipython3",
   "version": "3.6.10"
  }
 },
 "nbformat": 4,
 "nbformat_minor": 2
}

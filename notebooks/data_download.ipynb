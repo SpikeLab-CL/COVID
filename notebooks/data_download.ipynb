{
 "cells": [
  {
   "cell_type": "code",
   "execution_count": 41,
   "metadata": {
    "ExecuteTime": {
     "end_time": "2021-01-31T23:54:36.924032Z",
     "start_time": "2021-01-31T23:54:36.921216Z"
    }
   },
   "outputs": [],
   "source": [
    "import pandas as pd\n",
    "import requests\n",
    "from tqdm.notebook import tqdm\n",
    "from rarfile import RarFile\n",
    "import numpy as np"
   ]
  },
  {
   "cell_type": "markdown",
   "metadata": {},
   "source": [
    "# Download current data"
   ]
  },
  {
   "cell_type": "code",
   "execution_count": 143,
   "metadata": {
    "ExecuteTime": {
     "end_time": "2021-02-02T13:19:46.617087Z",
     "start_time": "2021-02-02T13:19:30.651538Z"
    }
   },
   "outputs": [
    {
     "data": {
      "application/vnd.jupyter.widget-view+json": {
       "model_id": "74ca3982bc2048aabee388af15b4ff93",
       "version_major": 2,
       "version_minor": 0
      },
      "text/plain": [
       "HBox(children=(FloatProgress(value=0.0, max=30.0), HTML(value='')))"
      ]
     },
     "metadata": {},
     "output_type": "display_data"
    },
    {
     "name": "stdout",
     "output_type": "stream",
     "text": [
      "28012021\n"
     ]
    }
   ],
   "source": [
    "today = pd.Timestamp.today()\n",
    "n_days_to_look = 30\n",
    "current_data_path = '../data/current_data_raw.rar'\n",
    "\n",
    "for days in tqdm(range(1, n_days_to_look+1), total=n_days_to_look):\n",
    "    date = (today - pd.Timedelta(f'{days}d')).strftime(\"%d%m%Y\")\n",
    "    url = f\"http://deis.minsal.cl/wp-content/uploads/2021/01/DEFUNCIONES_FUENTE_DEIS_2016_2021_{date}.rar\"\n",
    "    req = requests.get(url, allow_redirects=True)\n",
    "    if req.reason != 'Not Found':\n",
    "        print(date)\n",
    "        break\n",
    "_ = open(current_data_path, 'wb').write(req.content)"
   ]
  },
  {
   "cell_type": "markdown",
   "metadata": {},
   "source": [
    "# Download older data"
   ]
  },
  {
   "cell_type": "code",
   "execution_count": 13,
   "metadata": {
    "ExecuteTime": {
     "end_time": "2021-01-31T22:55:08.734946Z",
     "start_time": "2021-01-31T22:54:52.536503Z"
    }
   },
   "outputs": [],
   "source": [
    "older_data_path = '../data/older_data_raw.rar'\n",
    "\n",
    "url = \"https://repositoriodeis.minsal.cl/DatosAbiertos/Vitales/DEF_1990-2018.rar\"\n",
    "req = requests.get(url, allow_redirects=True)\n",
    "_ = open(older_data_path, 'wb').write(req.content)"
   ]
  },
  {
   "cell_type": "markdown",
   "metadata": {},
   "source": [
    "# Preprocessing"
   ]
  },
  {
   "cell_type": "code",
   "execution_count": 151,
   "metadata": {
    "ExecuteTime": {
     "end_time": "2021-02-02T20:16:15.291683Z",
     "start_time": "2021-02-02T20:16:15.285318Z"
    }
   },
   "outputs": [],
   "source": [
    "def transform_age(df):\n",
    "    edad_tipo = df['EDAD_TIPO'].values\n",
    "    edad = df['EDAD_CANT'].values\n",
    "    idx_meses = edad_tipo == 2\n",
    "    idx_dias = edad_tipo == 3\n",
    "    idx_hrs = edad_tipo == 4\n",
    "    idx_none = ~np.isin(edad_tipo, [1, 2, 3, 4])\n",
    "    edad[idx_meses] = edad[idx_meses]/12\n",
    "    edad[idx_dias] = edad[idx_dias]/365\n",
    "    edad[idx_hrs] = edad[idx_hrs]/(365*24)\n",
    "    edad[idx_none] = -1\n",
    "    return edad"
   ]
  },
  {
   "cell_type": "code",
   "execution_count": 160,
   "metadata": {
    "ExecuteTime": {
     "end_time": "2021-02-02T20:20:48.435741Z",
     "start_time": "2021-02-02T20:20:46.271085Z"
    }
   },
   "outputs": [],
   "source": [
    "current_data = pd.read_csv('../data/current_deis_defunciones.csv', encoding='latin1', sep=';', header=None)\n",
    "current_data_col_dict = pd.read_csv('../data/dictionary_current_deis.csv', encoding='latin1', sep=';')\n",
    "col_names = current_data_col_dict['Nombre de la variable'].values\n",
    "current_data.columns = col_names\n",
    "current_data['EDAD_CANT'] = transform_age(current_data)\n",
    "current_data = current_data.query('-1 < EDAD_CANT < 130')\n",
    "current_data['FECHA_DEF'] = pd.to_datetime(current_data['FECHA_DEF'])\n",
    "first_date_current_data = current_data['FECHA_DEF'].min()"
   ]
  },
  {
   "cell_type": "code",
   "execution_count": 161,
   "metadata": {
    "ExecuteTime": {
     "end_time": "2021-02-02T20:21:15.927889Z",
     "start_time": "2021-02-02T20:20:48.437792Z"
    }
   },
   "outputs": [],
   "source": [
    "old_data = pd.read_csv('../data/old_deis_defunciones.csv', encoding='latin1', sep=';')\n",
    "old_data['EDAD_CANT'] = transform_age(old_data)\n",
    "old_data = old_data.query('-1 < EDAD_CANT < 130')\n",
    "old_data['FECHA_DEF'] = pd.to_datetime(old_data['FECHA_DEF'])\n",
    "old_data = old_data.query('FECHA_DEF < @first_date_current_data')"
   ]
  },
  {
   "cell_type": "code",
   "execution_count": 162,
   "metadata": {
    "ExecuteTime": {
     "end_time": "2021-02-02T20:21:52.485178Z",
     "start_time": "2021-02-02T20:21:15.930209Z"
    }
   },
   "outputs": [],
   "source": [
    "cols_dict = {\n",
    "    'FECHA_DEF': 'fecha',\n",
    "    'GLOSA_SEXO': 'sexo',\n",
    "    'EDAD_CANT': 'edad',\n",
    "    'GLOSA_COMUNA_RESIDENCIA': 'comuna',\n",
    "    'GLOSA_REG_RES': 'region',\n",
    "    'DIAG1': 'diag',\n",
    "    'CAPITULO_DIAG1': 'capitulo_diag',\n",
    "    'GLOSA_CAPITULO_DIAG1': 'glosa_capitulo_diag',\n",
    "    'CODIGO_GRUPO_DIAG1': 'grupo_diag', \n",
    "    'GLOSA_GRUPO_DIAG1': 'glosa_grupo_diag',\n",
    "    'CODIGO_CATEGORIA_DIAG1': 'categoria_diag',\n",
    "    'GLOSA_CATEGORIA_DIAG1': 'glosa_categoria_diag',\n",
    "    'GLOSA_SUBCATEGORIA_DIAG1': 'glosa_subcategoria_diag',    \n",
    "}\n",
    "\n",
    "current_data = current_data.rename(columns=cols_dict)[list(cols_dict.values())]\n",
    "old_data = old_data.rename(columns=cols_dict)[list(cols_dict.values())]\n",
    "\n",
    "data = pd.concat([current_data, old_data])\n",
    "data.to_csv('../data/consolidated_data.csv')"
   ]
  }
 ],
 "metadata": {
  "kernelspec": {
   "display_name": "Python [conda env:spike_basicoV5] *",
   "language": "python",
   "name": "conda-env-spike_basicoV5-py"
  },
  "language_info": {
   "codemirror_mode": {
    "name": "ipython",
    "version": 3
   },
   "file_extension": ".py",
   "mimetype": "text/x-python",
   "name": "python",
   "nbconvert_exporter": "python",
   "pygments_lexer": "ipython3",
   "version": "3.6.7"
  },
  "toc": {
   "base_numbering": 1,
   "nav_menu": {},
   "number_sections": true,
   "sideBar": true,
   "skip_h1_title": false,
   "title_cell": "Table of Contents",
   "title_sidebar": "Contents",
   "toc_cell": false,
   "toc_position": {},
   "toc_section_display": true,
   "toc_window_display": false
  }
 },
 "nbformat": 4,
 "nbformat_minor": 4
}
